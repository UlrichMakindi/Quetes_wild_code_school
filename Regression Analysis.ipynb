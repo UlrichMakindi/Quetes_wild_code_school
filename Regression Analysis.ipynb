{
 "cells": [
  {
   "cell_type": "code",
   "execution_count": null,
   "metadata": {},
   "outputs": [
    {
     "ename": "",
     "evalue": "",
     "output_type": "error",
     "traceback": [
      "\u001b[1;31mLe kernel n’a pas pu démarrer en raison de l''IPython' de module manquant. Envisagez d’installer ce module.\n",
      "\u001b[1;31mCliquez sur <a href='https://aka.ms/kernelFailuresMissingModule'>ici</a> pour plus d’informations."
     ]
    }
   ],
   "source": [
    "# Imports\n",
    "\n",
    "import pandas as pd\n",
    "import numpy as np\n",
    "import statsmodels.formula.api as smf\n",
    "import matplotlib.pyplot as plt\n",
    "import seaborn as sns\n",
    "%matplotlib inline\n",
    "\n",
    "import statsmodels.api as sm\n",
    "from statsmodels.formula.api import ols"
   ]
  },
  {
   "cell_type": "code",
   "execution_count": null,
   "metadata": {},
   "outputs": [
    {
     "ename": "",
     "evalue": "",
     "output_type": "error",
     "traceback": [
      "\u001b[1;31mLe kernel n’a pas pu démarrer en raison de l''IPython' de module manquant. Envisagez d’installer ce module.\n",
      "\u001b[1;31mCliquez sur <a href='https://aka.ms/kernelFailuresMissingModule'>ici</a> pour plus d’informations."
     ]
    }
   ],
   "source": [
    "data  = pd.read_csv('Advertising.csv')"
   ]
  },
  {
   "cell_type": "code",
   "execution_count": null,
   "metadata": {
    "scrolled": true
   },
   "outputs": [
    {
     "ename": "",
     "evalue": "",
     "output_type": "error",
     "traceback": [
      "\u001b[1;31mLe kernel n’a pas pu démarrer en raison de l''IPython' de module manquant. Envisagez d’installer ce module.\n",
      "\u001b[1;31mCliquez sur <a href='https://aka.ms/kernelFailuresMissingModule'>ici</a> pour plus d’informations."
     ]
    }
   ],
   "source": [
    "data.head()"
   ]
  },
  {
   "cell_type": "code",
   "execution_count": null,
   "metadata": {},
   "outputs": [
    {
     "ename": "",
     "evalue": "",
     "output_type": "error",
     "traceback": [
      "\u001b[1;31mLe kernel n’a pas pu démarrer en raison de l''IPython' de module manquant. Envisagez d’installer ce module.\n",
      "\u001b[1;31mCliquez sur <a href='https://aka.ms/kernelFailuresMissingModule'>ici</a> pour plus d’informations."
     ]
    }
   ],
   "source": [
    "data.drop('Unnamed: 0',axis=1,inplace=True)"
   ]
  },
  {
   "cell_type": "code",
   "execution_count": null,
   "metadata": {},
   "outputs": [
    {
     "ename": "",
     "evalue": "",
     "output_type": "error",
     "traceback": [
      "\u001b[1;31mLe kernel n’a pas pu démarrer en raison de l''IPython' de module manquant. Envisagez d’installer ce module.\n",
      "\u001b[1;31mCliquez sur <a href='https://aka.ms/kernelFailuresMissingModule'>ici</a> pour plus d’informations."
     ]
    }
   ],
   "source": [
    "data.head()"
   ]
  },
  {
   "cell_type": "code",
   "execution_count": null,
   "metadata": {},
   "outputs": [
    {
     "ename": "",
     "evalue": "",
     "output_type": "error",
     "traceback": [
      "\u001b[1;31mLe kernel n’a pas pu démarrer en raison de l''IPython' de module manquant. Envisagez d’installer ce module.\n",
      "\u001b[1;31mCliquez sur <a href='https://aka.ms/kernelFailuresMissingModule'>ici</a> pour plus d’informations."
     ]
    }
   ],
   "source": [
    "data.describe()"
   ]
  },
  {
   "cell_type": "markdown",
   "metadata": {},
   "source": [
    "# Simple Linear Regression"
   ]
  },
  {
   "cell_type": "markdown",
   "metadata": {},
   "source": [
    "## Model1 : Analyse relation between Sales and Money spent on TV advertising media"
   ]
  },
  {
   "cell_type": "markdown",
   "metadata": {},
   "source": [
    "### Scater Plot"
   ]
  },
  {
   "cell_type": "code",
   "execution_count": null,
   "metadata": {},
   "outputs": [
    {
     "ename": "",
     "evalue": "",
     "output_type": "error",
     "traceback": [
      "\u001b[1;31mLe kernel n’a pas pu démarrer en raison de l''IPython' de module manquant. Envisagez d’installer ce module.\n",
      "\u001b[1;31mCliquez sur <a href='https://aka.ms/kernelFailuresMissingModule'>ici</a> pour plus d’informations."
     ]
    }
   ],
   "source": [
    "plt.scatter(x= data['TV'],y=data['sales'])\n",
    "plt.title('scatter plot')\n",
    "plt.xlabel('TV Adveretising')\n",
    "plt.ylabel('Sales')"
   ]
  },
  {
   "cell_type": "markdown",
   "metadata": {},
   "source": [
    "### Model Building"
   ]
  },
  {
   "cell_type": "code",
   "execution_count": null,
   "metadata": {},
   "outputs": [
    {
     "ename": "",
     "evalue": "",
     "output_type": "error",
     "traceback": [
      "\u001b[1;31mLe kernel n’a pas pu démarrer en raison de l''IPython' de module manquant. Envisagez d’installer ce module.\n",
      "\u001b[1;31mCliquez sur <a href='https://aka.ms/kernelFailuresMissingModule'>ici</a> pour plus d’informations."
     ]
    }
   ],
   "source": [
    "formula = 'sales ~ TV '\n",
    "model1 = smf.ols(formula=formula, data=data).fit()\n",
    "print(model1.summary())"
   ]
  },
  {
   "cell_type": "markdown",
   "metadata": {},
   "source": [
    "### Best line fit "
   ]
  },
  {
   "cell_type": "code",
   "execution_count": null,
   "metadata": {},
   "outputs": [
    {
     "ename": "",
     "evalue": "",
     "output_type": "error",
     "traceback": [
      "\u001b[1;31mLe kernel n’a pas pu démarrer en raison de l''IPython' de module manquant. Envisagez d’installer ce module.\n",
      "\u001b[1;31mCliquez sur <a href='https://aka.ms/kernelFailuresMissingModule'>ici</a> pour plus d’informations."
     ]
    }
   ],
   "source": [
    "sns.regplot(x=\"TV\", y=\"sales\", data=data,color='#1F77B4',line_kws={'color':'red'},ci=None).set(title = 'Linear Fit')"
   ]
  },
  {
   "cell_type": "markdown",
   "metadata": {},
   "source": [
    "### Residual standard Error"
   ]
  },
  {
   "cell_type": "code",
   "execution_count": null,
   "metadata": {},
   "outputs": [
    {
     "ename": "",
     "evalue": "",
     "output_type": "error",
     "traceback": [
      "\u001b[1;31mLe kernel n’a pas pu démarrer en raison de l''IPython' de module manquant. Envisagez d’installer ce module.\n",
      "\u001b[1;31mCliquez sur <a href='https://aka.ms/kernelFailuresMissingModule'>ici</a> pour plus d’informations."
     ]
    }
   ],
   "source": [
    "predicted_sales_TV_Ad = model1.predict(data['TV'])"
   ]
  },
  {
   "cell_type": "code",
   "execution_count": null,
   "metadata": {},
   "outputs": [
    {
     "ename": "",
     "evalue": "",
     "output_type": "error",
     "traceback": [
      "\u001b[1;31mLe kernel n’a pas pu démarrer en raison de l''IPython' de module manquant. Envisagez d’installer ce module.\n",
      "\u001b[1;31mCliquez sur <a href='https://aka.ms/kernelFailuresMissingModule'>ici</a> pour plus d’informations."
     ]
    }
   ],
   "source": [
    "RSS = np.sum((data['sales'] - predicted_sales_TV_Ad)**2)\n",
    "print('RSS = {0}'.format(RSS))"
   ]
  },
  {
   "cell_type": "code",
   "execution_count": null,
   "metadata": {},
   "outputs": [
    {
     "ename": "",
     "evalue": "",
     "output_type": "error",
     "traceback": [
      "\u001b[1;31mLe kernel n’a pas pu démarrer en raison de l''IPython' de module manquant. Envisagez d’installer ce module.\n",
      "\u001b[1;31mCliquez sur <a href='https://aka.ms/kernelFailuresMissingModule'>ici</a> pour plus d’informations."
     ]
    }
   ],
   "source": [
    "RSE = np.sqrt(RSS/data.shape[0])\n",
    "print('RSE = {0}'.format(RSE))"
   ]
  },
  {
   "cell_type": "markdown",
   "metadata": {},
   "source": [
    "### R Squared statistics "
   ]
  },
  {
   "cell_type": "code",
   "execution_count": null,
   "metadata": {},
   "outputs": [
    {
     "ename": "",
     "evalue": "",
     "output_type": "error",
     "traceback": [
      "\u001b[1;31mLe kernel n’a pas pu démarrer en raison de l''IPython' de module manquant. Envisagez d’installer ce module.\n",
      "\u001b[1;31mCliquez sur <a href='https://aka.ms/kernelFailuresMissingModule'>ici</a> pour plus d’informations."
     ]
    }
   ],
   "source": [
    "TSS = np.sum((np.mean(data['sales']) - data['sales'])**2)\n",
    "R_squared = (TSS-RSS)/TSS\n",
    "\n",
    "print('R-Squared statistics = {0}'.format(R_squared))"
   ]
  },
  {
   "cell_type": "markdown",
   "metadata": {},
   "source": [
    "## Model2 : analyse relation between Sales and Money spent on Radio advertising media"
   ]
  },
  {
   "cell_type": "markdown",
   "metadata": {},
   "source": [
    "### Scater Plot"
   ]
  },
  {
   "cell_type": "code",
   "execution_count": null,
   "metadata": {},
   "outputs": [
    {
     "ename": "",
     "evalue": "",
     "output_type": "error",
     "traceback": [
      "\u001b[1;31mLe kernel n’a pas pu démarrer en raison de l''IPython' de module manquant. Envisagez d’installer ce module.\n",
      "\u001b[1;31mCliquez sur <a href='https://aka.ms/kernelFailuresMissingModule'>ici</a> pour plus d’informations."
     ]
    }
   ],
   "source": [
    "plt.scatter(x= data['radio'],y=data['sales'])\n",
    "plt.title('scatter plot')\n",
    "plt.xlabel('Radio')\n",
    "plt.ylabel('Sales')"
   ]
  },
  {
   "cell_type": "markdown",
   "metadata": {},
   "source": [
    "### Model Building"
   ]
  },
  {
   "cell_type": "code",
   "execution_count": null,
   "metadata": {},
   "outputs": [
    {
     "ename": "",
     "evalue": "",
     "output_type": "error",
     "traceback": [
      "\u001b[1;31mLe kernel n’a pas pu démarrer en raison de l''IPython' de module manquant. Envisagez d’installer ce module.\n",
      "\u001b[1;31mCliquez sur <a href='https://aka.ms/kernelFailuresMissingModule'>ici</a> pour plus d’informations."
     ]
    }
   ],
   "source": [
    "formula = 'sales ~ radio '\n",
    "model2 = smf.ols(formula=formula, data=data).fit()\n",
    "print(model2.summary())"
   ]
  },
  {
   "cell_type": "markdown",
   "metadata": {},
   "source": [
    "### Best line fit "
   ]
  },
  {
   "cell_type": "code",
   "execution_count": null,
   "metadata": {},
   "outputs": [
    {
     "ename": "",
     "evalue": "",
     "output_type": "error",
     "traceback": [
      "\u001b[1;31mLe kernel n’a pas pu démarrer en raison de l''IPython' de module manquant. Envisagez d’installer ce module.\n",
      "\u001b[1;31mCliquez sur <a href='https://aka.ms/kernelFailuresMissingModule'>ici</a> pour plus d’informations."
     ]
    }
   ],
   "source": [
    "sns.regplot(x=\"radio\", y=\"sales\", data=data,color='#1F77B4',line_kws={'color':'red'},ci=None).set(title = 'Linear Fit')"
   ]
  },
  {
   "cell_type": "markdown",
   "metadata": {},
   "source": [
    "### Residual standard Error"
   ]
  },
  {
   "cell_type": "code",
   "execution_count": null,
   "metadata": {},
   "outputs": [
    {
     "ename": "",
     "evalue": "",
     "output_type": "error",
     "traceback": [
      "\u001b[1;31mLe kernel n’a pas pu démarrer en raison de l''IPython' de module manquant. Envisagez d’installer ce module.\n",
      "\u001b[1;31mCliquez sur <a href='https://aka.ms/kernelFailuresMissingModule'>ici</a> pour plus d’informations."
     ]
    }
   ],
   "source": [
    "predicted_sales_radio_Ad = model2.predict(data['radio'])"
   ]
  },
  {
   "cell_type": "code",
   "execution_count": null,
   "metadata": {},
   "outputs": [
    {
     "ename": "",
     "evalue": "",
     "output_type": "error",
     "traceback": [
      "\u001b[1;31mLe kernel n’a pas pu démarrer en raison de l''IPython' de module manquant. Envisagez d’installer ce module.\n",
      "\u001b[1;31mCliquez sur <a href='https://aka.ms/kernelFailuresMissingModule'>ici</a> pour plus d’informations."
     ]
    }
   ],
   "source": [
    "RSS = np.sum((data['sales'] - predicted_sales_radio_Ad)**2)\n",
    "print('RSS = {0}'.format(RSS))"
   ]
  },
  {
   "cell_type": "code",
   "execution_count": null,
   "metadata": {},
   "outputs": [
    {
     "ename": "",
     "evalue": "",
     "output_type": "error",
     "traceback": [
      "\u001b[1;31mLe kernel n’a pas pu démarrer en raison de l''IPython' de module manquant. Envisagez d’installer ce module.\n",
      "\u001b[1;31mCliquez sur <a href='https://aka.ms/kernelFailuresMissingModule'>ici</a> pour plus d’informations."
     ]
    }
   ],
   "source": [
    "RSE = np.sqrt(RSS/data.shape[0])\n",
    "print('RSE = {0}'.format(RSE))"
   ]
  },
  {
   "cell_type": "markdown",
   "metadata": {},
   "source": [
    "### R Squared statistics "
   ]
  },
  {
   "cell_type": "code",
   "execution_count": null,
   "metadata": {},
   "outputs": [
    {
     "ename": "",
     "evalue": "",
     "output_type": "error",
     "traceback": [
      "\u001b[1;31mLe kernel n’a pas pu démarrer en raison de l''IPython' de module manquant. Envisagez d’installer ce module.\n",
      "\u001b[1;31mCliquez sur <a href='https://aka.ms/kernelFailuresMissingModule'>ici</a> pour plus d’informations."
     ]
    }
   ],
   "source": [
    "TSS = np.sum((np.mean(data['sales']) - data['sales'])**2)\n",
    "R_squared = (TSS-RSS)/TSS\n",
    "\n",
    "print('R-Squared statistics = {0}'.format(R_squared))"
   ]
  },
  {
   "cell_type": "markdown",
   "metadata": {},
   "source": [
    "## Model3 : analyse relation between Sales and Money spent on Newspaper advertising media"
   ]
  },
  {
   "cell_type": "markdown",
   "metadata": {},
   "source": [
    "### Scater Plot"
   ]
  },
  {
   "cell_type": "code",
   "execution_count": null,
   "metadata": {},
   "outputs": [
    {
     "ename": "",
     "evalue": "",
     "output_type": "error",
     "traceback": [
      "\u001b[1;31mLe kernel n’a pas pu démarrer en raison de l''IPython' de module manquant. Envisagez d’installer ce module.\n",
      "\u001b[1;31mCliquez sur <a href='https://aka.ms/kernelFailuresMissingModule'>ici</a> pour plus d’informations."
     ]
    }
   ],
   "source": [
    "plt.scatter(x= data['TV'],y=data['newspaper'])\n",
    "plt.title('scatter plot')\n",
    "plt.xlabel('newspaper Adveretising')\n",
    "plt.ylabel('Sales')"
   ]
  },
  {
   "cell_type": "markdown",
   "metadata": {},
   "source": [
    "### Model Building"
   ]
  },
  {
   "cell_type": "code",
   "execution_count": null,
   "metadata": {},
   "outputs": [
    {
     "ename": "",
     "evalue": "",
     "output_type": "error",
     "traceback": [
      "\u001b[1;31mLe kernel n’a pas pu démarrer en raison de l''IPython' de module manquant. Envisagez d’installer ce module.\n",
      "\u001b[1;31mCliquez sur <a href='https://aka.ms/kernelFailuresMissingModule'>ici</a> pour plus d’informations."
     ]
    }
   ],
   "source": [
    "formula = 'sales ~ newspaper '\n",
    "model3 = smf.ols(formula=formula, data=data).fit()\n",
    "print(model3.summary())"
   ]
  },
  {
   "cell_type": "markdown",
   "metadata": {},
   "source": [
    "### Best line fit "
   ]
  },
  {
   "cell_type": "code",
   "execution_count": null,
   "metadata": {},
   "outputs": [
    {
     "ename": "",
     "evalue": "",
     "output_type": "error",
     "traceback": [
      "\u001b[1;31mLe kernel n’a pas pu démarrer en raison de l''IPython' de module manquant. Envisagez d’installer ce module.\n",
      "\u001b[1;31mCliquez sur <a href='https://aka.ms/kernelFailuresMissingModule'>ici</a> pour plus d’informations."
     ]
    }
   ],
   "source": [
    "sns.regplot(x=\"newspaper\", y=\"sales\", data=data,color='#1F77B4',line_kws={'color':'red'},ci=None).set(title = 'Linear Fit')"
   ]
  },
  {
   "cell_type": "markdown",
   "metadata": {},
   "source": [
    "### Residual standard Error"
   ]
  },
  {
   "cell_type": "code",
   "execution_count": null,
   "metadata": {},
   "outputs": [
    {
     "ename": "",
     "evalue": "",
     "output_type": "error",
     "traceback": [
      "\u001b[1;31mLe kernel n’a pas pu démarrer en raison de l''IPython' de module manquant. Envisagez d’installer ce module.\n",
      "\u001b[1;31mCliquez sur <a href='https://aka.ms/kernelFailuresMissingModule'>ici</a> pour plus d’informations."
     ]
    }
   ],
   "source": [
    "predicted_sales_newspaper_Ad = model3.predict(data['newspaper'])"
   ]
  },
  {
   "cell_type": "code",
   "execution_count": null,
   "metadata": {},
   "outputs": [
    {
     "ename": "",
     "evalue": "",
     "output_type": "error",
     "traceback": [
      "\u001b[1;31mLe kernel n’a pas pu démarrer en raison de l''IPython' de module manquant. Envisagez d’installer ce module.\n",
      "\u001b[1;31mCliquez sur <a href='https://aka.ms/kernelFailuresMissingModule'>ici</a> pour plus d’informations."
     ]
    }
   ],
   "source": [
    "RSS = np.sum((data['sales'] - predicted_sales_newspaper_Ad)**2)\n",
    "print('RSS = {0}'.format(RSS))"
   ]
  },
  {
   "cell_type": "code",
   "execution_count": null,
   "metadata": {},
   "outputs": [
    {
     "ename": "",
     "evalue": "",
     "output_type": "error",
     "traceback": [
      "\u001b[1;31mLe kernel n’a pas pu démarrer en raison de l''IPython' de module manquant. Envisagez d’installer ce module.\n",
      "\u001b[1;31mCliquez sur <a href='https://aka.ms/kernelFailuresMissingModule'>ici</a> pour plus d’informations."
     ]
    }
   ],
   "source": [
    "RSE = np.sqrt(RSS/data.shape[0])\n",
    "print('RSE = {0}'.format(RSE))"
   ]
  },
  {
   "cell_type": "markdown",
   "metadata": {},
   "source": [
    "### R Squared statistics "
   ]
  },
  {
   "cell_type": "code",
   "execution_count": null,
   "metadata": {},
   "outputs": [
    {
     "ename": "",
     "evalue": "",
     "output_type": "error",
     "traceback": [
      "\u001b[1;31mLe kernel n’a pas pu démarrer en raison de l''IPython' de module manquant. Envisagez d’installer ce module.\n",
      "\u001b[1;31mCliquez sur <a href='https://aka.ms/kernelFailuresMissingModule'>ici</a> pour plus d’informations."
     ]
    }
   ],
   "source": [
    "TSS = np.sum((np.mean(data['sales']) - data['sales'])**2)\n",
    "R_squared = (TSS-RSS)/TSS\n",
    "\n",
    "print('R-Squared statistics = {0}'.format(R_squared))"
   ]
  },
  {
   "cell_type": "code",
   "execution_count": null,
   "metadata": {},
   "outputs": [
    {
     "ename": "",
     "evalue": "",
     "output_type": "error",
     "traceback": [
      "\u001b[1;31mLe kernel n’a pas pu démarrer en raison de l''IPython' de module manquant. Envisagez d’installer ce module.\n",
      "\u001b[1;31mCliquez sur <a href='https://aka.ms/kernelFailuresMissingModule'>ici</a> pour plus d’informations."
     ]
    }
   ],
   "source": []
  },
  {
   "cell_type": "markdown",
   "metadata": {},
   "source": [
    "#  Multiple Linear Regression"
   ]
  },
  {
   "cell_type": "markdown",
   "metadata": {},
   "source": [
    "## Model1 : analyse relation between Sales and Money spent on TV,radio,newspaper advertising media"
   ]
  },
  {
   "cell_type": "markdown",
   "metadata": {},
   "source": [
    "### Model Building"
   ]
  },
  {
   "cell_type": "code",
   "execution_count": null,
   "metadata": {},
   "outputs": [
    {
     "ename": "",
     "evalue": "",
     "output_type": "error",
     "traceback": [
      "\u001b[1;31mLe kernel n’a pas pu démarrer en raison de l''IPython' de module manquant. Envisagez d’installer ce module.\n",
      "\u001b[1;31mCliquez sur <a href='https://aka.ms/kernelFailuresMissingModule'>ici</a> pour plus d’informations."
     ]
    }
   ],
   "source": [
    "formula = 'sales ~ TV + radio + newspaper '\n",
    "model1 = smf.ols(formula=formula, data=data).fit()\n",
    "print(model1.summary())"
   ]
  },
  {
   "cell_type": "markdown",
   "metadata": {},
   "source": [
    "### Residual standard Error"
   ]
  },
  {
   "cell_type": "code",
   "execution_count": null,
   "metadata": {},
   "outputs": [
    {
     "ename": "",
     "evalue": "",
     "output_type": "error",
     "traceback": [
      "\u001b[1;31mLe kernel n’a pas pu démarrer en raison de l''IPython' de module manquant. Envisagez d’installer ce module.\n",
      "\u001b[1;31mCliquez sur <a href='https://aka.ms/kernelFailuresMissingModule'>ici</a> pour plus d’informations."
     ]
    }
   ],
   "source": [
    "predicted_sales_TV_radio_newspaper_Ad = model1.predict(data[['TV','radio','newspaper']])"
   ]
  },
  {
   "cell_type": "code",
   "execution_count": null,
   "metadata": {},
   "outputs": [
    {
     "ename": "",
     "evalue": "",
     "output_type": "error",
     "traceback": [
      "\u001b[1;31mLe kernel n’a pas pu démarrer en raison de l''IPython' de module manquant. Envisagez d’installer ce module.\n",
      "\u001b[1;31mCliquez sur <a href='https://aka.ms/kernelFailuresMissingModule'>ici</a> pour plus d’informations."
     ]
    }
   ],
   "source": [
    "RSS = np.sum((data['sales'] - predicted_sales_TV_radio_newspaper_Ad)**2)\n",
    "print('RSS = {0}'.format(RSS))"
   ]
  },
  {
   "cell_type": "code",
   "execution_count": null,
   "metadata": {},
   "outputs": [
    {
     "ename": "",
     "evalue": "",
     "output_type": "error",
     "traceback": [
      "\u001b[1;31mLe kernel n’a pas pu démarrer en raison de l''IPython' de module manquant. Envisagez d’installer ce module.\n",
      "\u001b[1;31mCliquez sur <a href='https://aka.ms/kernelFailuresMissingModule'>ici</a> pour plus d’informations."
     ]
    }
   ],
   "source": [
    "RSE = np.sqrt(RSS/data.shape[0])\n",
    "print('RSE = {0}'.format(RSE))"
   ]
  },
  {
   "cell_type": "markdown",
   "metadata": {},
   "source": [
    "### R Squared statistics "
   ]
  },
  {
   "cell_type": "code",
   "execution_count": null,
   "metadata": {},
   "outputs": [
    {
     "ename": "",
     "evalue": "",
     "output_type": "error",
     "traceback": [
      "\u001b[1;31mLe kernel n’a pas pu démarrer en raison de l''IPython' de module manquant. Envisagez d’installer ce module.\n",
      "\u001b[1;31mCliquez sur <a href='https://aka.ms/kernelFailuresMissingModule'>ici</a> pour plus d’informations."
     ]
    }
   ],
   "source": [
    "TSS = np.sum((np.mean(data['sales']) - data['sales'])**2)\n",
    "R_squared = (TSS-RSS)/TSS\n",
    "\n",
    "print('R-Squared statistics = {0}'.format(R_squared))"
   ]
  },
  {
   "cell_type": "markdown",
   "metadata": {},
   "source": [
    "## Model2 : analyse relation between Sales and Money spent on TV,radio advertising media"
   ]
  },
  {
   "cell_type": "markdown",
   "metadata": {},
   "source": [
    "### Model Building"
   ]
  },
  {
   "cell_type": "code",
   "execution_count": null,
   "metadata": {},
   "outputs": [
    {
     "ename": "",
     "evalue": "",
     "output_type": "error",
     "traceback": [
      "\u001b[1;31mLe kernel n’a pas pu démarrer en raison de l''IPython' de module manquant. Envisagez d’installer ce module.\n",
      "\u001b[1;31mCliquez sur <a href='https://aka.ms/kernelFailuresMissingModule'>ici</a> pour plus d’informations."
     ]
    }
   ],
   "source": [
    "formula = 'sales ~ TV + radio '\n",
    "model2 = smf.ols(formula=formula, data=data).fit()\n",
    "print(model1.summary())"
   ]
  },
  {
   "cell_type": "markdown",
   "metadata": {},
   "source": [
    "### Residual standard Error"
   ]
  },
  {
   "cell_type": "code",
   "execution_count": null,
   "metadata": {},
   "outputs": [
    {
     "ename": "",
     "evalue": "",
     "output_type": "error",
     "traceback": [
      "\u001b[1;31mLe kernel n’a pas pu démarrer en raison de l''IPython' de module manquant. Envisagez d’installer ce module.\n",
      "\u001b[1;31mCliquez sur <a href='https://aka.ms/kernelFailuresMissingModule'>ici</a> pour plus d’informations."
     ]
    }
   ],
   "source": [
    "predicted_sales_TV_radio_Ad = model2.predict(data[['TV','radio']])"
   ]
  },
  {
   "cell_type": "code",
   "execution_count": null,
   "metadata": {},
   "outputs": [
    {
     "ename": "",
     "evalue": "",
     "output_type": "error",
     "traceback": [
      "\u001b[1;31mLe kernel n’a pas pu démarrer en raison de l''IPython' de module manquant. Envisagez d’installer ce module.\n",
      "\u001b[1;31mCliquez sur <a href='https://aka.ms/kernelFailuresMissingModule'>ici</a> pour plus d’informations."
     ]
    }
   ],
   "source": [
    "RSS = np.sum((data['sales'] - predicted_sales_TV_radio_Ad)**2)\n",
    "print('RSS = {0}'.format(RSS))"
   ]
  },
  {
   "cell_type": "code",
   "execution_count": null,
   "metadata": {},
   "outputs": [
    {
     "ename": "",
     "evalue": "",
     "output_type": "error",
     "traceback": [
      "\u001b[1;31mLe kernel n’a pas pu démarrer en raison de l''IPython' de module manquant. Envisagez d’installer ce module.\n",
      "\u001b[1;31mCliquez sur <a href='https://aka.ms/kernelFailuresMissingModule'>ici</a> pour plus d’informations."
     ]
    }
   ],
   "source": [
    "RSE = np.sqrt(RSS/data.shape[0])\n",
    "print('RSE = {0}'.format(RSE))"
   ]
  },
  {
   "cell_type": "markdown",
   "metadata": {},
   "source": [
    "### R Squared statistics "
   ]
  },
  {
   "cell_type": "code",
   "execution_count": null,
   "metadata": {},
   "outputs": [
    {
     "ename": "",
     "evalue": "",
     "output_type": "error",
     "traceback": [
      "\u001b[1;31mLe kernel n’a pas pu démarrer en raison de l''IPython' de module manquant. Envisagez d’installer ce module.\n",
      "\u001b[1;31mCliquez sur <a href='https://aka.ms/kernelFailuresMissingModule'>ici</a> pour plus d’informations."
     ]
    }
   ],
   "source": [
    "TSS = np.sum((np.mean(data['sales']) - data['sales'])**2)\n",
    "R_squared = (TSS-RSS)/TSS\n",
    "\n",
    "print('R-Squared statistics = {0}'.format(R_squared))"
   ]
  },
  {
   "cell_type": "markdown",
   "metadata": {},
   "source": [
    "## Correlation Matrix"
   ]
  },
  {
   "cell_type": "code",
   "execution_count": null,
   "metadata": {},
   "outputs": [
    {
     "ename": "",
     "evalue": "",
     "output_type": "error",
     "traceback": [
      "\u001b[1;31mLe kernel n’a pas pu démarrer en raison de l''IPython' de module manquant. Envisagez d’installer ce module.\n",
      "\u001b[1;31mCliquez sur <a href='https://aka.ms/kernelFailuresMissingModule'>ici</a> pour plus d’informations."
     ]
    }
   ],
   "source": [
    "data.corr()"
   ]
  },
  {
   "cell_type": "code",
   "execution_count": null,
   "metadata": {},
   "outputs": [
    {
     "ename": "",
     "evalue": "",
     "output_type": "error",
     "traceback": [
      "\u001b[1;31mLe kernel n’a pas pu démarrer en raison de l''IPython' de module manquant. Envisagez d’installer ce module.\n",
      "\u001b[1;31mCliquez sur <a href='https://aka.ms/kernelFailuresMissingModule'>ici</a> pour plus d’informations."
     ]
    }
   ],
   "source": []
  }
 ],
 "metadata": {
  "kernelspec": {
   "display_name": "Python 3",
   "language": "python",
   "name": "python3"
  },
  "language_info": {
   "codemirror_mode": {
    "name": "ipython",
    "version": 3
   },
   "file_extension": ".py",
   "mimetype": "text/x-python",
   "name": "python",
   "nbconvert_exporter": "python",
   "pygments_lexer": "ipython3",
   "version": "3.12.3"
  }
 },
 "nbformat": 4,
 "nbformat_minor": 2
}
