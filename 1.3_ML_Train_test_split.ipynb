{
  "cells": [
    {
      "cell_type": "markdown",
      "metadata": {
        "id": "7RZbCjBZBNKL"
      },
      "source": [
        "# Execute the code below"
      ]
    },
    {
      "cell_type": "code",
      "execution_count": 1,
      "metadata": {
        "id": "ih5VsCSsAGWK"
      },
      "outputs": [],
      "source": [
        "import matplotlib.pyplot as plt\n",
        "import pandas as pd\n",
        "import numpy as np\n",
        "import seaborn as sns\n",
        "import plotly.express as px\n",
        "from sklearn.linear_model import LinearRegression\n",
        "link = \"https://raw.githubusercontent.com/murpi/wilddata/master/quests/weather2019.csv\"\n",
        "df_weather = pd.read_csv(link)"
      ]
    },
    {
      "cell_type": "markdown",
      "metadata": {
        "id": "HDfmi_gNBRd3"
      },
      "source": [
        "# Scoring and metrics\n",
        "Last time, you did a multivariate linear regression. But how can you be sure this multivariate linear regression is better than an univariate ? You have to measure it !\n"
      ]
    },
    {
      "cell_type": "markdown",
      "metadata": {
        "id": "gs0tr5sYgvwI"
      },
      "source": [
        "## First regression\n",
        "Let's begin with a first linear regression : create a new column `'predict_from_sun'` whith the prediction of MAX temperature from the SUNHOUR variable."
      ]
    },
    {
      "cell_type": "code",
      "execution_count": 2,
      "metadata": {
        "id": "h0u82y2paa75"
      },
      "outputs": [],
      "source": [
        "# Your code here :\n",
        "X1 = df_weather[['SUNHOUR']]\n",
        "y1 = df_weather['MAX_TEMPERATURE_C']\n",
        "model_from_sun = LinearRegression().fit(X1,y1)\n",
        "\n",
        "\n",
        "df_weather['predict_from_sun'] = pd.DataFrame(model_from_sun.predict(X1))"
      ]
    },
    {
      "cell_type": "markdown",
      "metadata": {
        "id": "vaSRoaFdgu23"
      },
      "source": [
        "## R2 score\n",
        "The best possible R2 score is '1', when our prediction predicts perfectly the reality. Let's see what is our R2 score :"
      ]
    },
    {
      "cell_type": "code",
      "execution_count": 3,
      "metadata": {
        "colab": {
          "base_uri": "https://localhost:8080/"
        },
        "id": "bhI2x_Z-g-lM",
        "outputId": "383e4533-30fa-49c1-f01a-294ddcf633ff"
      },
      "outputs": [
        {
          "data": {
            "text/plain": [
              "0.47654554059087306"
            ]
          },
          "execution_count": 3,
          "metadata": {},
          "output_type": "execute_result"
        }
      ],
      "source": [
        "# Change the name of the model if it's necessary\n",
        "model_from_sun.score(X1, y1)"
      ]
    },
    {
      "cell_type": "markdown",
      "metadata": {
        "id": "OPYPIs6kgWq2"
      },
      "source": [
        "## Let's continue with 2 others regressions\n",
        "- Second regression : create a new column 'predict_from_min' whith the prediction of MAX temperature from the MIN temperature variable\n",
        "- Third regression : create a new column 'predict_from_both' whith the prediction of MAX temperature from the both variables (MIN temperature and Sunhours)"
      ]
    },
    {
      "cell_type": "code",
      "execution_count": 4,
      "metadata": {
        "id": "0uWGISfxiGN_"
      },
      "outputs": [],
      "source": [
        "# Your code here :\n",
        "\"\"\" Second regression : create a new column 'predict_from_min' whith the prediction of MAX temperature from the MIN temperature variable \"\"\"\n",
        "\n",
        "X2 = df_weather[['MIN_TEMPERATURE_C']]\n",
        "y2 = df_weather['MAX_TEMPERATURE_C']\n",
        "model_from_min = LinearRegression().fit(X2,y2)\n",
        "\n",
        "df_weather['predict_from_min'] = pd.DataFrame(model_from_min.predict(X2))\n"
      ]
    },
    {
      "cell_type": "code",
      "execution_count": 5,
      "metadata": {
        "id": "dPC8ccZPKli-"
      },
      "outputs": [],
      "source": [
        "\"\"\" Third regression : create a new column 'predict_from_both' whith the prediction of MAX temperature from the both variables (MIN temperature and Sunhours) \"\"\"\n",
        "\n",
        "X3 = df_weather[['MIN_TEMPERATURE_C', 'SUNHOUR']]\n",
        "y3 = df_weather['MAX_TEMPERATURE_C']\n",
        "model_from_both = LinearRegression().fit(X3,y3)\n",
        "\n",
        "df_weather['predict_from_both'] = pd.DataFrame(model_from_both.predict(X3))"
      ]
    },
    {
      "cell_type": "markdown",
      "metadata": {
        "id": "eYVUuG97h0HO"
      },
      "source": [
        "## Calculate the R2 score of the 2 new predictions\n",
        "Be careful : if you still use the same \"X\" name, you will overwrite it.\n",
        "\n",
        "Which model has the best score ? Do you think it's logical ?"
      ]
    },
    {
      "cell_type": "code",
      "execution_count": 6,
      "metadata": {
        "colab": {
          "base_uri": "https://localhost:8080/"
        },
        "id": "7lQObVxpe6uh",
        "outputId": "c3983c5d-e27f-4c2a-c3c2-93f1e12613a3"
      },
      "outputs": [
        {
          "name": "stdout",
          "output_type": "stream",
          "text": [
            "R2 from Max: 0.47654554059087306\n",
            "R2 from Min: 0.7689396999057355\n",
            "R2 from both: 0.867478798077497\n"
          ]
        }
      ],
      "source": [
        "# Your code here :\n",
        "print('R2 from Max:', model_from_sun.score(X1, y1))\n",
        "print('R2 from Min:', model_from_min.score(X2, y2))\n",
        "print('R2 from both:', model_from_both.score(X3, y3))"
      ]
    },
    {
      "cell_type": "markdown",
      "metadata": {
        "id": "1frFHshijXUK"
      },
      "source": [
        "# Train Test Split\n",
        "One of biggest problems of Machine learning is : **overfitting**.\n",
        "\n"
      ]
    },
    {
      "cell_type": "markdown",
      "metadata": {
        "id": "4UCz7M7vknsY"
      },
      "source": [
        "To be sure that machine didn't memorize the result, we use the Train Test Split methodology. We keep some data separate (often 25% of our initial dataset). Then we train our model on the 75% (the \"Train set\").\n",
        "After, we can calculate a score on the \"Test set\".\n",
        "\n",
        "Let's do that !"
      ]
    },
    {
      "cell_type": "code",
      "execution_count": 7,
      "metadata": {
        "colab": {
          "base_uri": "https://localhost:8080/"
        },
        "id": "EKIttez3pFou",
        "outputId": "d01fb304-f04e-428d-c614-152930d2ca27"
      },
      "outputs": [
        {
          "name": "stdout",
          "output_type": "stream",
          "text": [
            "The length of the initial dataset is : 365\n",
            "The length of the train dataset is   : 273\n",
            "The length of the test dataset is    : 92\n",
            "\n",
            "Score for the Train dataset : 0.47243569075679914\n",
            "Score for the Test dataset : 0.4749360350733982\n"
          ]
        }
      ],
      "source": [
        "# Juste read and execute the code below\n",
        "from sklearn.model_selection import train_test_split\n",
        "\n",
        "X = df_weather[['SUNHOUR']]\n",
        "y = df_weather['MAX_TEMPERATURE_C']\n",
        "\n",
        "# Here, we split our 2 datasets (the variables \"X\" and the target \"y\") into 4 datasets X and y for the train set and X and y for the test set.\n",
        "# We set the size of the train set to 75%. And the rest is for the test set.\n",
        "X_train, X_test, y_train, y_test = train_test_split(X, y, random_state=42, train_size = 0.75)\n",
        "print(\"The length of the initial dataset is :\", len(X))\n",
        "print(\"The length of the train dataset is   :\", len(X_train))\n",
        "print(\"The length of the test dataset is    :\", len(X_test))\n",
        "\n",
        "# Here we train the model only on the train dataset.\n",
        "newmodel = LinearRegression().fit(X_train, y_train)\n",
        "\n",
        "# And now we compare both scores :\n",
        "print(\"\\nScore for the Train dataset :\", newmodel.score(X_train, y_train))\n",
        "print(\"Score for the Test dataset :\", newmodel.score(X_test, y_test))\n"
      ]
    },
    {
      "cell_type": "markdown",
      "metadata": {
        "id": "xwetw4TfsHEJ"
      },
      "source": [
        "## Both scores are very close, there is no overfitting, well done !\n",
        "\n",
        "What happens if we don't randomize our dataset. Here, the model learns only on the 9 first months."
      ]
    },
    {
      "cell_type": "code",
      "execution_count": 8,
      "metadata": {
        "colab": {
          "base_uri": "https://localhost:8080/"
        },
        "id": "xsusD6mEuE36",
        "outputId": "f3bf819c-7fdb-4c2e-d4fc-a1eb9d77df8f"
      },
      "outputs": [
        {
          "name": "stdout",
          "output_type": "stream",
          "text": [
            "\n",
            "Score for the Train dataset : 0.7875765302008688\n",
            "Score for the Test dataset : 0.03610833322378593\n"
          ]
        }
      ],
      "source": [
        "# Juste read and execute the code below\n",
        "from sklearn.model_selection import train_test_split\n",
        "\n",
        "X = df_weather[['MIN_TEMPERATURE_C']]\n",
        "y = df_weather['MAX_TEMPERATURE_C']\n",
        "\n",
        "# We set the size of the train set to 75%. And the rest is for the test set.\n",
        "# We set the split NOT in random.\n",
        "X_train, X_test, y_train, y_test = train_test_split(X, y, train_size = 0.75, shuffle = False)\n",
        "\n",
        "\n",
        "# Here we train the model only on the train dataset.\n",
        "newmodel = LinearRegression().fit(X_train, y_train)\n",
        "\n",
        "# And now we compare both scores :\n",
        "print(\"\\nScore for the Train dataset :\", newmodel.score(X_train, y_train))\n",
        "print(\"Score for the Test dataset :\", newmodel.score(X_test, y_test))"
      ]
    },
    {
      "cell_type": "markdown",
      "metadata": {
        "id": "2vrIsw55vNM6"
      },
      "source": [
        "## There is an overfitting !\n",
        "Indeed, the model get a good score on the Train dataset, because he learned in winter / spring / summer datas. But he gets a bad score in Falls..."
      ]
    },
    {
      "cell_type": "markdown",
      "metadata": {
        "id": "652oRHFcwI0H"
      },
      "source": [
        "# Let's play !\n",
        "Train a new model with all numeric variables (without your target of course) and try to have a better score than previously.\n",
        "\n",
        "Remember to split randomly your dataset before training your model.\n",
        "\n",
        "Display the Test score."
      ]
    },
    {
      "cell_type": "code",
      "execution_count": 9,
      "metadata": {
        "colab": {
          "base_uri": "https://localhost:8080/"
        },
        "id": "ZxcThIF1Nk6m",
        "outputId": "c84a5fb7-8998-48e8-bb4c-ae707cc6dfba"
      },
      "outputs": [
        {
          "name": "stdout",
          "output_type": "stream",
          "text": [
            "<class 'pandas.core.frame.DataFrame'>\n",
            "RangeIndex: 365 entries, 0 to 364\n",
            "Data columns (total 27 columns):\n",
            " #   Column                  Non-Null Count  Dtype  \n",
            "---  ------                  --------------  -----  \n",
            " 0   DATE                    365 non-null    object \n",
            " 1   MAX_TEMPERATURE_C       365 non-null    int64  \n",
            " 2   MIN_TEMPERATURE_C       365 non-null    int64  \n",
            " 3   WINDSPEED_MAX_KMH       365 non-null    int64  \n",
            " 4   TEMPERATURE_MORNING_C   365 non-null    int64  \n",
            " 5   TEMPERATURE_NOON_C      365 non-null    int64  \n",
            " 6   TEMPERATURE_EVENING_C   365 non-null    int64  \n",
            " 7   PRECIP_TOTAL_DAY_MM     365 non-null    float64\n",
            " 8   HUMIDITY_MAX_PERCENT    365 non-null    int64  \n",
            " 9   VISIBILITY_AVG_KM       365 non-null    float64\n",
            " 10  PRESSURE_MAX_MB         365 non-null    int64  \n",
            " 11  CLOUDCOVER_AVG_PERCENT  365 non-null    float64\n",
            " 12  HEATINDEX_MAX_C         365 non-null    int64  \n",
            " 13  DEWPOINT_MAX_C          365 non-null    int64  \n",
            " 14  WINDTEMP_MAX_C          365 non-null    int64  \n",
            " 15  WEATHER_CODE_MORNING    365 non-null    int64  \n",
            " 16  WEATHER_CODE_NOON       365 non-null    int64  \n",
            " 17  WEATHER_CODE_EVENING    365 non-null    int64  \n",
            " 18  TOTAL_SNOW_MM           365 non-null    int64  \n",
            " 19  UV_INDEX                365 non-null    int64  \n",
            " 20  SUNHOUR                 365 non-null    float64\n",
            " 21  OPINION                 365 non-null    object \n",
            " 22  MONTH                   365 non-null    int64  \n",
            " 23  DAY                     365 non-null    int64  \n",
            " 24  predict_from_sun        365 non-null    float64\n",
            " 25  predict_from_min        365 non-null    float64\n",
            " 26  predict_from_both       365 non-null    float64\n",
            "dtypes: float64(7), int64(18), object(2)\n",
            "memory usage: 77.1+ KB\n"
          ]
        }
      ],
      "source": [
        "df_weather.info()"
      ]
    },
    {
      "cell_type": "code",
      "execution_count": 10,
      "metadata": {
        "colab": {
          "base_uri": "https://localhost:8080/",
          "height": 146
        },
        "id": "MsRvaAZwP20R",
        "outputId": "f4f92a7b-ff4c-48e5-ce44-fd841065b0c6"
      },
      "outputs": [
        {
          "data": {
            "text/html": [
              "<div>\n",
              "<style scoped>\n",
              "    .dataframe tbody tr th:only-of-type {\n",
              "        vertical-align: middle;\n",
              "    }\n",
              "\n",
              "    .dataframe tbody tr th {\n",
              "        vertical-align: top;\n",
              "    }\n",
              "\n",
              "    .dataframe thead th {\n",
              "        text-align: right;\n",
              "    }\n",
              "</style>\n",
              "<table border=\"1\" class=\"dataframe\">\n",
              "  <thead>\n",
              "    <tr style=\"text-align: right;\">\n",
              "      <th></th>\n",
              "      <th>DATE</th>\n",
              "      <th>MAX_TEMPERATURE_C</th>\n",
              "      <th>MIN_TEMPERATURE_C</th>\n",
              "      <th>WINDSPEED_MAX_KMH</th>\n",
              "      <th>TEMPERATURE_MORNING_C</th>\n",
              "      <th>TEMPERATURE_NOON_C</th>\n",
              "      <th>TEMPERATURE_EVENING_C</th>\n",
              "      <th>PRECIP_TOTAL_DAY_MM</th>\n",
              "      <th>HUMIDITY_MAX_PERCENT</th>\n",
              "      <th>VISIBILITY_AVG_KM</th>\n",
              "      <th>...</th>\n",
              "      <th>WEATHER_CODE_EVENING</th>\n",
              "      <th>TOTAL_SNOW_MM</th>\n",
              "      <th>UV_INDEX</th>\n",
              "      <th>SUNHOUR</th>\n",
              "      <th>OPINION</th>\n",
              "      <th>MONTH</th>\n",
              "      <th>DAY</th>\n",
              "      <th>predict_from_sun</th>\n",
              "      <th>predict_from_min</th>\n",
              "      <th>predict_from_both</th>\n",
              "    </tr>\n",
              "  </thead>\n",
              "  <tbody>\n",
              "    <tr>\n",
              "      <th>0</th>\n",
              "      <td>2019-01-01</td>\n",
              "      <td>9</td>\n",
              "      <td>4</td>\n",
              "      <td>10</td>\n",
              "      <td>4</td>\n",
              "      <td>7</td>\n",
              "      <td>8</td>\n",
              "      <td>0.2</td>\n",
              "      <td>94</td>\n",
              "      <td>9.0</td>\n",
              "      <td>...</td>\n",
              "      <td>176</td>\n",
              "      <td>0</td>\n",
              "      <td>1</td>\n",
              "      <td>5.1</td>\n",
              "      <td>very bad</td>\n",
              "      <td>1</td>\n",
              "      <td>1</td>\n",
              "      <td>11.396823</td>\n",
              "      <td>10.579999</td>\n",
              "      <td>8.980922</td>\n",
              "    </tr>\n",
              "  </tbody>\n",
              "</table>\n",
              "<p>1 rows × 27 columns</p>\n",
              "</div>"
            ],
            "text/plain": [
              "         DATE  MAX_TEMPERATURE_C  MIN_TEMPERATURE_C  WINDSPEED_MAX_KMH  \\\n",
              "0  2019-01-01                  9                  4                 10   \n",
              "\n",
              "   TEMPERATURE_MORNING_C  TEMPERATURE_NOON_C  TEMPERATURE_EVENING_C  \\\n",
              "0                      4                   7                      8   \n",
              "\n",
              "   PRECIP_TOTAL_DAY_MM  HUMIDITY_MAX_PERCENT  VISIBILITY_AVG_KM  ...  \\\n",
              "0                  0.2                    94                9.0  ...   \n",
              "\n",
              "   WEATHER_CODE_EVENING  TOTAL_SNOW_MM  UV_INDEX  SUNHOUR   OPINION  MONTH  \\\n",
              "0                   176              0         1      5.1  very bad      1   \n",
              "\n",
              "   DAY  predict_from_sun  predict_from_min  predict_from_both  \n",
              "0    1         11.396823         10.579999           8.980922  \n",
              "\n",
              "[1 rows x 27 columns]"
            ]
          },
          "execution_count": 10,
          "metadata": {},
          "output_type": "execute_result"
        }
      ],
      "source": [
        "df_weather.head(1)"
      ]
    },
    {
      "cell_type": "code",
      "execution_count": 11,
      "metadata": {
        "colab": {
          "base_uri": "https://localhost:8080/"
        },
        "id": "nR-dmy-LxNtZ",
        "outputId": "9ac5e54f-f529-4f33-d138-45f985e3f19b"
      },
      "outputs": [
        {
          "name": "stdout",
          "output_type": "stream",
          "text": [
            "Score for the Train dataset : 0.9933353831340122\n",
            "Score for the Test dataset : 0.9953728575100915\n"
          ]
        }
      ],
      "source": [
        "# Your code here :\n",
        "X = df_weather[[\n",
        "    'MIN_TEMPERATURE_C',\n",
        "    'WINDSPEED_MAX_KMH',\n",
        "    'TEMPERATURE_MORNING_C',\n",
        "    'TEMPERATURE_NOON_C',\n",
        "    'TEMPERATURE_EVENING_C',\n",
        "    'PRECIP_TOTAL_DAY_MM',\n",
        "    'HUMIDITY_MAX_PERCENT',\n",
        "    'VISIBILITY_AVG_KM',\n",
        "    'PRESSURE_MAX_MB',\n",
        "    'CLOUDCOVER_AVG_PERCENT',\n",
        "    'HEATINDEX_MAX_C',\n",
        "    'DEWPOINT_MAX_C',\n",
        "    'WINDTEMP_MAX_C',\n",
        "    'WEATHER_CODE_MORNING',\n",
        "    'WEATHER_CODE_NOON',\n",
        "    'WEATHER_CODE_EVENING',\n",
        "    'TOTAL_SNOW_MM',\n",
        "    'UV_INDEX',\n",
        "    'SUNHOUR',\n",
        "    'MONTH',\n",
        "    'DAY']]\n",
        "\n",
        "y = df_weather['MAX_TEMPERATURE_C']\n",
        "\n",
        "X_train, X_test, y_train, y_test = train_test_split(X, y, random_state=42, train_size = 0.75)\n",
        "lastmodel = LinearRegression().fit(X_train, y_train)\n",
        "\n",
        "print(\"Score for the Train dataset :\", lastmodel.score(X_train, y_train))\n",
        "print(\"Score for the Test dataset :\", lastmodel.score(X_test, y_test))"
      ]
    }
  ],
  "metadata": {
    "colab": {
      "collapsed_sections": [
        "7RZbCjBZBNKL"
      ],
      "provenance": []
    },
    "kernelspec": {
      "display_name": "Python 3",
      "name": "python3"
    },
    "language_info": {
      "codemirror_mode": {
        "name": "ipython",
        "version": 3
      },
      "file_extension": ".py",
      "mimetype": "text/x-python",
      "name": "python",
      "nbconvert_exporter": "python",
      "pygments_lexer": "ipython3",
      "version": "3.11.5"
    }
  },
  "nbformat": 4,
  "nbformat_minor": 0
}
