{
  "cells": [
    {
      "cell_type": "markdown",
      "metadata": {
        "id": "Lq09sQbMUXRG"
      },
      "source": [
        "# Introduction\n",
        "L'API Adresse est une API REST qui renvoie les coordonnées géographiques (latitude et longitude) à partir d'une adresse postale française.\n",
        "Si plusieurs adresses postales (pour cause d'imprécision ou de numéro de rue inexistant) correspondant à la requête sont trouvées, l'API retourne plusieurs coordonnées, avec à chaque fois un \"score\". Les coordonnées sont données dans l'ordre de score décroissant, vous pouvez donc retenir la première adresse."
      ]
    },
    {
      "cell_type": "code",
      "execution_count": 1,
      "metadata": {
        "colab": {
          "base_uri": "https://localhost:8080/"
        },
        "id": "e7dNMdT8WU8h",
        "outputId": "c9689b0f-ddff-4ad4-9697-3a085b1dd557"
      },
      "outputs": [
        {
          "data": {
            "text/plain": [
              "{'type': 'FeatureCollection',\n",
              " 'version': 'draft',\n",
              " 'features': [{'type': 'Feature',\n",
              "   'geometry': {'type': 'Point', 'coordinates': [3.993163, 46.00996]},\n",
              "   'properties': {'label': '728 Route de Villerest 42155 Ouches',\n",
              "    'score': 0.95216,\n",
              "    'housenumber': '728',\n",
              "    'id': '42162_0008_00728',\n",
              "    'name': '728 Route de Villerest',\n",
              "    'postcode': '42155',\n",
              "    'citycode': '42162',\n",
              "    'x': 776847.88,\n",
              "    'y': 6546063.21,\n",
              "    'city': 'Ouches',\n",
              "    'context': '42, Loire, Auvergne-Rhône-Alpes',\n",
              "    'type': 'housenumber',\n",
              "    'importance': 0.47376,\n",
              "    'street': 'Route de Villerest'}},\n",
              "  {'type': 'Feature',\n",
              "   'geometry': {'type': 'Point', 'coordinates': [3.992892, 45.993344]},\n",
              "   'properties': {'label': 'Route de Villerest 42155 Lentigny',\n",
              "    'score': 0.7023067532467532,\n",
              "    'id': '42120_0066',\n",
              "    'name': 'Route de Villerest',\n",
              "    'postcode': '42155',\n",
              "    'citycode': '42120',\n",
              "    'x': 776850.11,\n",
              "    'y': 6544217.88,\n",
              "    'city': 'Lentigny',\n",
              "    'context': '42, Loire, Auvergne-Rhône-Alpes',\n",
              "    'type': 'street',\n",
              "    'importance': 0.43966,\n",
              "    'street': 'Route de Villerest'}}],\n",
              " 'attribution': 'BAN',\n",
              " 'licence': 'ETALAB-2.0',\n",
              " 'query': '728 Route de Villerest',\n",
              " 'filters': {'postcode': '42155'},\n",
              " 'limit': 5}"
            ]
          },
          "execution_count": 1,
          "metadata": {},
          "output_type": "execute_result"
        }
      ],
      "source": [
        "# Exécute le code suivant :\n",
        "import requests\n",
        "link = 'https://api-adresse.data.gouv.fr/search/?q=728+Route+de+Villerest&postcode=42155'\n",
        "r = requests.get(link).json()\n",
        "r"
      ]
    },
    {
      "cell_type": "code",
      "execution_count": 2,
      "metadata": {
        "colab": {
          "base_uri": "https://localhost:8080/"
        },
        "id": "D7YK4RLtYxJP",
        "outputId": "c0def143-3145-4efd-bcb2-240a34d96b43"
      },
      "outputs": [
        {
          "name": "stdout",
          "output_type": "stream",
          "text": [
            "première adresse : {'type': 'Feature', 'geometry': {'type': 'Point', 'coordinates': [3.993163, 46.00996]}, 'properties': {'label': '728 Route de Villerest 42155 Ouches', 'score': 0.95216, 'housenumber': '728', 'id': '42162_0008_00728', 'name': '728 Route de Villerest', 'postcode': '42155', 'citycode': '42162', 'x': 776847.88, 'y': 6546063.21, 'city': 'Ouches', 'context': '42, Loire, Auvergne-Rhône-Alpes', 'type': 'housenumber', 'importance': 0.47376, 'street': 'Route de Villerest'}}\n",
            "coordonnées de la première adresse : [3.993163, 46.00996]\n",
            "score de la première adresse : 0.95216\n"
          ]
        }
      ],
      "source": [
        "# Les coordonnées sont données dans l'ordre longitude puis latitude\n",
        "# Ici nous ne sélectionnons que la première adresse (indice 0)\n",
        "print(\"première adresse :\", r['features'][0])\n",
        "print(\"coordonnées de la première adresse :\",r['features'][0]['geometry']['coordinates'])\n",
        "print(\"score de la première adresse :\",r['features'][0]['properties']['score'])"
      ]
    },
    {
      "cell_type": "code",
      "execution_count": 3,
      "metadata": {
        "colab": {
          "base_uri": "https://localhost:8080/"
        },
        "id": "1n8xgPwnbddp",
        "outputId": "e2cbfa76-fb3d-4f1f-acfd-bde1dbef7c95"
      },
      "outputs": [
        {
          "name": "stdout",
          "output_type": "stream",
          "text": [
            "SANS limite, cette adresse renvoie combien de coordonnées ? 2\n",
            "AVEC limite, cette adresse renvoie combien de coordonnées ? 1\n"
          ]
        }
      ],
      "source": [
        "# Pour plus de facilité, tu peux ajouter une limite sur le nombre d'éléments retournés\n",
        "\n",
        "link = 'https://api-adresse.data.gouv.fr/search/?q=728+Route+de+Villerest&postcode=42155'\n",
        "r = requests.get(link).json()\n",
        "print(\"SANS limite, cette adresse renvoie combien de coordonnées ?\",len(r['features']))\n",
        "\n",
        "link = 'https://api-adresse.data.gouv.fr/search/?q=728+Route+de+Villerest&postcode=42155&limit=1'\n",
        "r = requests.get(link).json()\n",
        "print(\"AVEC limite, cette adresse renvoie combien de coordonnées ?\",len(r['features']))"
      ]
    },
    {
      "cell_type": "markdown",
      "metadata": {
        "id": "PhjWl336aVUm"
      },
      "source": [
        "## Comment créer sa requête à l'API\n",
        "A toi de modifier la chaine de caractère pour créer la bonne URL de requête"
      ]
    },
    {
      "cell_type": "code",
      "execution_count": 4,
      "metadata": {
        "colab": {
          "base_uri": "https://localhost:8080/"
        },
        "id": "-_A9JKScWV5I",
        "outputId": "102b6c30-670a-4f29-fa18-cc3f9db2f19f"
      },
      "outputs": [
        {
          "name": "stdout",
          "output_type": "stream",
          "text": [
            "https://api-adresse.data.gouv.fr/search/?q=728+Route+de+Villerest+42155+Ouches\n"
          ]
        }
      ],
      "source": [
        "# On observe que la requête se compose d'une partie fixe, suivi de l'adresse à chercher\n",
        "# Une URL ne peut pas comporter de caractère espace \" \",\n",
        "# et il faut éviter si possible d'avoir des caractères spéciaux ou des accents\n",
        "\n",
        "link_main = 'https://api-adresse.data.gouv.fr/search/?q='\n",
        "adresse = '728 Route de Villerest, 42155 Ouches'\n",
        "\n",
        "\n",
        "link = link_main + adresse.replace(' ','+').replace(',','')# A toi de jouer ici\n",
        "\n",
        "print(link)"
      ]
    },
    {
      "cell_type": "code",
      "execution_count": 5,
      "metadata": {
        "id": "9gLir_IWdHGz"
      },
      "outputs": [],
      "source": [
        "# Crée ici une fonction qui transforme une adresse postale en URL de requête pour l'API Adresse,\n",
        "# puis effectue la requête et retourne les coordonnées :\n",
        "\n",
        "def API_adresse(adresse_postale):\n",
        "  link_main = 'https://api-adresse.data.gouv.fr/search/?q='\n",
        "  adresse = adresse_postale.replace(' ','+').replace(',','')\n",
        "  link = link_main + adresse\n",
        "  r = requests.get(link).json()\n",
        "  return r['features'][0]['geometry']['coordinates'][::-1]\n",
        "\n",
        "\n"
      ]
    },
    {
      "cell_type": "code",
      "execution_count": 6,
      "metadata": {
        "colab": {
          "base_uri": "https://localhost:8080/"
        },
        "id": "C0ZQnTyvdY4M",
        "outputId": "4f63a422-83ca-4280-d595-4af31828c776"
      },
      "outputs": [
        {
          "data": {
            "text/plain": [
              "[46.00996, 3.993163]"
            ]
          },
          "execution_count": 6,
          "metadata": {},
          "output_type": "execute_result"
        }
      ],
      "source": [
        "# Teste-là ici :\n",
        "API_adresse(adresse)"
      ]
    },
    {
      "cell_type": "markdown",
      "metadata": {
        "id": "rXLrMxFvcFu_"
      },
      "source": [
        "# DataViz\n",
        "Les coordonnées peuvent être utilisées sur des outils de visualisation, qu'il s'agisse d'outils de BI (PowerBI, Tableau), ou des bibliothèques de DataViz en Python comme Plotly ou Folium.\n",
        "\n",
        "Ici nous allons afficher une carte avec Folium.\n"
      ]
    },
    {
      "cell_type": "code",
      "execution_count": 7,
      "metadata": {
        "colab": {
          "base_uri": "https://localhost:8080/"
        },
        "id": "eGPJSG18UFlh",
        "outputId": "0a6c7da2-822c-4da2-d6c9-70d7b19252b9"
      },
      "outputs": [
        {
          "data": {
            "text/plain": [
              "[46.00996, 3.993163]"
            ]
          },
          "execution_count": 7,
          "metadata": {},
          "output_type": "execute_result"
        }
      ],
      "source": [
        "# Attention, le système latin retourne les coordonnées en (longitude, latitude),\n",
        "# Alors que le système anglo-saxon est en (latitude, longitude), il faut donc inverser les coordonnées\n",
        "# Ca tombe bien, vous savez le faire sur une liste avec un \"pas\" de moins un.\n",
        "point = r['features'][0]['geometry']['coordinates'][::-1]\n",
        "point"
      ]
    },
    {
      "cell_type": "code",
      "execution_count": 8,
      "metadata": {
        "colab": {
          "base_uri": "https://localhost:8080/",
          "height": 1000
        },
        "id": "969VKpP1fWdJ",
        "outputId": "9372e322-c6a4-4813-a61b-449a9d7f9a3e"
      },
      "outputs": [
        {
          "data": {
            "text/html": [
              "<div style=\"width:100%;\"><div style=\"position:relative;width:100%;height:0;padding-bottom:60%;\"><span style=\"color:#565656\">Make this Notebook Trusted to load map: File -> Trust Notebook</span><iframe srcdoc=\"&lt;!DOCTYPE html&gt;\n",
              "&lt;html&gt;\n",
              "&lt;head&gt;\n",
              "    \n",
              "    &lt;meta http-equiv=&quot;content-type&quot; content=&quot;text/html; charset=UTF-8&quot; /&gt;\n",
              "    \n",
              "        &lt;script&gt;\n",
              "            L_NO_TOUCH = false;\n",
              "            L_DISABLE_3D = false;\n",
              "        &lt;/script&gt;\n",
              "    \n",
              "    &lt;style&gt;html, body {width: 100%;height: 100%;margin: 0;padding: 0;}&lt;/style&gt;\n",
              "    &lt;style&gt;#map {position:absolute;top:0;bottom:0;right:0;left:0;}&lt;/style&gt;\n",
              "    &lt;script src=&quot;https://cdn.jsdelivr.net/npm/leaflet@1.9.3/dist/leaflet.js&quot;&gt;&lt;/script&gt;\n",
              "    &lt;script src=&quot;https://code.jquery.com/jquery-3.7.1.min.js&quot;&gt;&lt;/script&gt;\n",
              "    &lt;script src=&quot;https://cdn.jsdelivr.net/npm/bootstrap@5.2.2/dist/js/bootstrap.bundle.min.js&quot;&gt;&lt;/script&gt;\n",
              "    &lt;script src=&quot;https://cdnjs.cloudflare.com/ajax/libs/Leaflet.awesome-markers/2.0.2/leaflet.awesome-markers.js&quot;&gt;&lt;/script&gt;\n",
              "    &lt;link rel=&quot;stylesheet&quot; href=&quot;https://cdn.jsdelivr.net/npm/leaflet@1.9.3/dist/leaflet.css&quot;/&gt;\n",
              "    &lt;link rel=&quot;stylesheet&quot; href=&quot;https://cdn.jsdelivr.net/npm/bootstrap@5.2.2/dist/css/bootstrap.min.css&quot;/&gt;\n",
              "    &lt;link rel=&quot;stylesheet&quot; href=&quot;https://netdna.bootstrapcdn.com/bootstrap/3.0.0/css/bootstrap-glyphicons.css&quot;/&gt;\n",
              "    &lt;link rel=&quot;stylesheet&quot; href=&quot;https://cdn.jsdelivr.net/npm/@fortawesome/fontawesome-free@6.2.0/css/all.min.css&quot;/&gt;\n",
              "    &lt;link rel=&quot;stylesheet&quot; href=&quot;https://cdnjs.cloudflare.com/ajax/libs/Leaflet.awesome-markers/2.0.2/leaflet.awesome-markers.css&quot;/&gt;\n",
              "    &lt;link rel=&quot;stylesheet&quot; href=&quot;https://cdn.jsdelivr.net/gh/python-visualization/folium/folium/templates/leaflet.awesome.rotate.min.css&quot;/&gt;\n",
              "    \n",
              "            &lt;meta name=&quot;viewport&quot; content=&quot;width=device-width,\n",
              "                initial-scale=1.0, maximum-scale=1.0, user-scalable=no&quot; /&gt;\n",
              "            &lt;style&gt;\n",
              "                #map_4472f59569fd208815d6ced5482cbedd {\n",
              "                    position: relative;\n",
              "                    width: 100.0%;\n",
              "                    height: 100.0%;\n",
              "                    left: 0.0%;\n",
              "                    top: 0.0%;\n",
              "                }\n",
              "                .leaflet-container { font-size: 1rem; }\n",
              "            &lt;/style&gt;\n",
              "        \n",
              "&lt;/head&gt;\n",
              "&lt;body&gt;\n",
              "    \n",
              "    \n",
              "            &lt;div class=&quot;folium-map&quot; id=&quot;map_4472f59569fd208815d6ced5482cbedd&quot; &gt;&lt;/div&gt;\n",
              "        \n",
              "&lt;/body&gt;\n",
              "&lt;script&gt;\n",
              "    \n",
              "    \n",
              "            var map_4472f59569fd208815d6ced5482cbedd = L.map(\n",
              "                &quot;map_4472f59569fd208815d6ced5482cbedd&quot;,\n",
              "                {\n",
              "                    center: [46.00996, 3.993163],\n",
              "                    crs: L.CRS.EPSG3857,\n",
              "                    zoom: 7,\n",
              "                    zoomControl: true,\n",
              "                    preferCanvas: false,\n",
              "                }\n",
              "            );\n",
              "\n",
              "            \n",
              "\n",
              "        \n",
              "    \n",
              "            var tile_layer_41a3aad366f338d9ad42bae4d34dbf36 = L.tileLayer(\n",
              "                &quot;https://tile.openstreetmap.org/{z}/{x}/{y}.png&quot;,\n",
              "                {&quot;attribution&quot;: &quot;\\u0026copy; \\u003ca href=\\&quot;https://www.openstreetmap.org/copyright\\&quot;\\u003eOpenStreetMap\\u003c/a\\u003e contributors&quot;, &quot;detectRetina&quot;: false, &quot;maxNativeZoom&quot;: 19, &quot;maxZoom&quot;: 19, &quot;minZoom&quot;: 0, &quot;noWrap&quot;: false, &quot;opacity&quot;: 1, &quot;subdomains&quot;: &quot;abc&quot;, &quot;tms&quot;: false}\n",
              "            );\n",
              "        \n",
              "    \n",
              "            tile_layer_41a3aad366f338d9ad42bae4d34dbf36.addTo(map_4472f59569fd208815d6ced5482cbedd);\n",
              "        \n",
              "&lt;/script&gt;\n",
              "&lt;/html&gt;\" style=\"position:absolute;width:100%;height:100%;left:0;top:0;border:none !important;\" allowfullscreen webkitallowfullscreen mozallowfullscreen></iframe></div></div>"
            ],
            "text/plain": [
              "<folium.folium.Map at 0x10826d940>"
            ]
          },
          "execution_count": 8,
          "metadata": {},
          "output_type": "execute_result"
        }
      ],
      "source": [
        "# La syntaxe de Folium est très simple, vous commencez par créer une carte centrée sur un point\n",
        "# Vous pouvez modifier le niveau de zoom par défaut avec l'argument \"zoom_start\"\n",
        "import folium\n",
        "m = folium.Map(location=point,zoom_start=7)\n",
        "m"
      ]
    },
    {
      "cell_type": "code",
      "execution_count": 9,
      "metadata": {
        "colab": {
          "base_uri": "https://localhost:8080/",
          "height": 1000
        },
        "id": "eXWTn1mFUKrH",
        "outputId": "14a21386-2ca2-4746-a4f8-9a2bd0ef8a3f"
      },
      "outputs": [
        {
          "data": {
            "text/html": [
              "<div style=\"width:100%;\"><div style=\"position:relative;width:100%;height:0;padding-bottom:60%;\"><span style=\"color:#565656\">Make this Notebook Trusted to load map: File -> Trust Notebook</span><iframe srcdoc=\"&lt;!DOCTYPE html&gt;\n",
              "&lt;html&gt;\n",
              "&lt;head&gt;\n",
              "    \n",
              "    &lt;meta http-equiv=&quot;content-type&quot; content=&quot;text/html; charset=UTF-8&quot; /&gt;\n",
              "    \n",
              "        &lt;script&gt;\n",
              "            L_NO_TOUCH = false;\n",
              "            L_DISABLE_3D = false;\n",
              "        &lt;/script&gt;\n",
              "    \n",
              "    &lt;style&gt;html, body {width: 100%;height: 100%;margin: 0;padding: 0;}&lt;/style&gt;\n",
              "    &lt;style&gt;#map {position:absolute;top:0;bottom:0;right:0;left:0;}&lt;/style&gt;\n",
              "    &lt;script src=&quot;https://cdn.jsdelivr.net/npm/leaflet@1.9.3/dist/leaflet.js&quot;&gt;&lt;/script&gt;\n",
              "    &lt;script src=&quot;https://code.jquery.com/jquery-3.7.1.min.js&quot;&gt;&lt;/script&gt;\n",
              "    &lt;script src=&quot;https://cdn.jsdelivr.net/npm/bootstrap@5.2.2/dist/js/bootstrap.bundle.min.js&quot;&gt;&lt;/script&gt;\n",
              "    &lt;script src=&quot;https://cdnjs.cloudflare.com/ajax/libs/Leaflet.awesome-markers/2.0.2/leaflet.awesome-markers.js&quot;&gt;&lt;/script&gt;\n",
              "    &lt;link rel=&quot;stylesheet&quot; href=&quot;https://cdn.jsdelivr.net/npm/leaflet@1.9.3/dist/leaflet.css&quot;/&gt;\n",
              "    &lt;link rel=&quot;stylesheet&quot; href=&quot;https://cdn.jsdelivr.net/npm/bootstrap@5.2.2/dist/css/bootstrap.min.css&quot;/&gt;\n",
              "    &lt;link rel=&quot;stylesheet&quot; href=&quot;https://netdna.bootstrapcdn.com/bootstrap/3.0.0/css/bootstrap-glyphicons.css&quot;/&gt;\n",
              "    &lt;link rel=&quot;stylesheet&quot; href=&quot;https://cdn.jsdelivr.net/npm/@fortawesome/fontawesome-free@6.2.0/css/all.min.css&quot;/&gt;\n",
              "    &lt;link rel=&quot;stylesheet&quot; href=&quot;https://cdnjs.cloudflare.com/ajax/libs/Leaflet.awesome-markers/2.0.2/leaflet.awesome-markers.css&quot;/&gt;\n",
              "    &lt;link rel=&quot;stylesheet&quot; href=&quot;https://cdn.jsdelivr.net/gh/python-visualization/folium/folium/templates/leaflet.awesome.rotate.min.css&quot;/&gt;\n",
              "    \n",
              "            &lt;meta name=&quot;viewport&quot; content=&quot;width=device-width,\n",
              "                initial-scale=1.0, maximum-scale=1.0, user-scalable=no&quot; /&gt;\n",
              "            &lt;style&gt;\n",
              "                #map_6aae29e719778e907548450ba387a259 {\n",
              "                    position: relative;\n",
              "                    width: 100.0%;\n",
              "                    height: 100.0%;\n",
              "                    left: 0.0%;\n",
              "                    top: 0.0%;\n",
              "                }\n",
              "                .leaflet-container { font-size: 1rem; }\n",
              "            &lt;/style&gt;\n",
              "        \n",
              "&lt;/head&gt;\n",
              "&lt;body&gt;\n",
              "    \n",
              "    \n",
              "            &lt;div class=&quot;folium-map&quot; id=&quot;map_6aae29e719778e907548450ba387a259&quot; &gt;&lt;/div&gt;\n",
              "        \n",
              "&lt;/body&gt;\n",
              "&lt;script&gt;\n",
              "    \n",
              "    \n",
              "            var map_6aae29e719778e907548450ba387a259 = L.map(\n",
              "                &quot;map_6aae29e719778e907548450ba387a259&quot;,\n",
              "                {\n",
              "                    center: [46.00996, 3.993163],\n",
              "                    crs: L.CRS.EPSG3857,\n",
              "                    zoom: 10,\n",
              "                    zoomControl: true,\n",
              "                    preferCanvas: false,\n",
              "                }\n",
              "            );\n",
              "\n",
              "            \n",
              "\n",
              "        \n",
              "    \n",
              "            var tile_layer_b7c8c122153fece47df881db950c5345 = L.tileLayer(\n",
              "                &quot;https://tile.openstreetmap.org/{z}/{x}/{y}.png&quot;,\n",
              "                {&quot;attribution&quot;: &quot;\\u0026copy; \\u003ca href=\\&quot;https://www.openstreetmap.org/copyright\\&quot;\\u003eOpenStreetMap\\u003c/a\\u003e contributors&quot;, &quot;detectRetina&quot;: false, &quot;maxNativeZoom&quot;: 19, &quot;maxZoom&quot;: 19, &quot;minZoom&quot;: 0, &quot;noWrap&quot;: false, &quot;opacity&quot;: 1, &quot;subdomains&quot;: &quot;abc&quot;, &quot;tms&quot;: false}\n",
              "            );\n",
              "        \n",
              "    \n",
              "            tile_layer_b7c8c122153fece47df881db950c5345.addTo(map_6aae29e719778e907548450ba387a259);\n",
              "        \n",
              "    \n",
              "            var marker_4bb77321b8b08d8e41ecb8840ececed4 = L.marker(\n",
              "                [46.00996, 3.993163],\n",
              "                {}\n",
              "            ).addTo(map_6aae29e719778e907548450ba387a259);\n",
              "        \n",
              "    \n",
              "        var popup_4ab2b9e5b7d85390662271061d322a85 = L.popup({&quot;maxWidth&quot;: &quot;100%&quot;});\n",
              "\n",
              "        \n",
              "            \n",
              "                var html_4c0dd8496bb6554c1d64e73312bc01e6 = $(`&lt;div id=&quot;html_4c0dd8496bb6554c1d64e73312bc01e6&quot; style=&quot;width: 100.0%; height: 100.0%;&quot;&gt;Un bon restau sur le pouce&lt;/div&gt;`)[0];\n",
              "                popup_4ab2b9e5b7d85390662271061d322a85.setContent(html_4c0dd8496bb6554c1d64e73312bc01e6);\n",
              "            \n",
              "        \n",
              "\n",
              "        marker_4bb77321b8b08d8e41ecb8840ececed4.bindPopup(popup_4ab2b9e5b7d85390662271061d322a85)\n",
              "        ;\n",
              "\n",
              "        \n",
              "    \n",
              "&lt;/script&gt;\n",
              "&lt;/html&gt;\" style=\"position:absolute;width:100%;height:100%;left:0;top:0;border:none !important;\" allowfullscreen webkitallowfullscreen mozallowfullscreen></iframe></div></div>"
            ],
            "text/plain": [
              "<folium.folium.Map at 0x10ddd6630>"
            ]
          },
          "execution_count": 9,
          "metadata": {},
          "output_type": "execute_result"
        }
      ],
      "source": [
        "# Puis vous pouvez ajouter des points de repère et mettre un commentaire cliquable\n",
        "m = folium.Map(location=point, )\n",
        "folium.Marker(\n",
        "    location=point,\n",
        "    popup='Un bon restau sur le pouce'\n",
        "    ).add_to(m)\n",
        "m"
      ]
    },
    {
      "cell_type": "markdown",
      "metadata": {
        "id": "R1xRs4dlgC2-"
      },
      "source": [
        "# Challenge\n",
        "Voici un DataFrame avec des restaurants de Clermont-Ferrand, et leurs adresses respectives. Voici ta mission :\n",
        "- Créer une nouvelle colonne \"coordonnées\", qui stockera les coordonnées correspondant à chaque adresse (tu peux t'aider de la fonction que tu as créée précédemment)\n",
        "- Afficher une carte avec les 4 marqueurs des restaurants. Attention, les restaurants sont très proches, pense à bien régler le niveau de zoom par défaut pour que ce soit bien lisible. Tu peux centrer la carte sur le premier restaurant."
      ]
    },
    {
      "cell_type": "code",
      "execution_count": 10,
      "metadata": {
        "colab": {
          "base_uri": "https://localhost:8080/",
          "height": 173
        },
        "id": "sHBjenHbCYjh",
        "outputId": "8e394523-56b3-4039-cb5d-450f1f04b1f5"
      },
      "outputs": [
        {
          "data": {
            "text/html": [
              "<div>\n",
              "<style scoped>\n",
              "    .dataframe tbody tr th:only-of-type {\n",
              "        vertical-align: middle;\n",
              "    }\n",
              "\n",
              "    .dataframe tbody tr th {\n",
              "        vertical-align: top;\n",
              "    }\n",
              "\n",
              "    .dataframe thead th {\n",
              "        text-align: right;\n",
              "    }\n",
              "</style>\n",
              "<table border=\"1\" class=\"dataframe\">\n",
              "  <thead>\n",
              "    <tr style=\"text-align: right;\">\n",
              "      <th></th>\n",
              "      <th>nom</th>\n",
              "      <th>adresse</th>\n",
              "    </tr>\n",
              "  </thead>\n",
              "  <tbody>\n",
              "    <tr>\n",
              "      <th>0</th>\n",
              "      <td>Polypode</td>\n",
              "      <td>6 place du Champgil, Clermont-Ferrand, 63000</td>\n",
              "    </tr>\n",
              "    <tr>\n",
              "      <th>1</th>\n",
              "      <td>Jean-Claude Leclerc</td>\n",
              "      <td>12 rue St-Adjutor, Clermont-Ferrand, 63000</td>\n",
              "    </tr>\n",
              "    <tr>\n",
              "      <th>2</th>\n",
              "      <td>L'Écureuil</td>\n",
              "      <td>18 rue St-Adjutor, Clermont-Ferrand, 63000</td>\n",
              "    </tr>\n",
              "    <tr>\n",
              "      <th>3</th>\n",
              "      <td>Le Saint-Eutrope</td>\n",
              "      <td>4 rue St-Eutrope, Clermont-Ferrand, 63000</td>\n",
              "    </tr>\n",
              "  </tbody>\n",
              "</table>\n",
              "</div>"
            ],
            "text/plain": [
              "                   nom                                       adresse\n",
              "0             Polypode  6 place du Champgil, Clermont-Ferrand, 63000\n",
              "1  Jean-Claude Leclerc    12 rue St-Adjutor, Clermont-Ferrand, 63000\n",
              "2           L'Écureuil    18 rue St-Adjutor, Clermont-Ferrand, 63000\n",
              "3     Le Saint-Eutrope     4 rue St-Eutrope, Clermont-Ferrand, 63000"
            ]
          },
          "execution_count": 10,
          "metadata": {},
          "output_type": "execute_result"
        }
      ],
      "source": [
        "import pandas as pd\n",
        "restaurants = pd.DataFrame([[\"Polypode\",\"6 place du Champgil, Clermont-Ferrand, 63000\"],\n",
        "                            [\"Jean-Claude Leclerc\", \"12 rue St-Adjutor, Clermont-Ferrand, 63000\"],\n",
        "                            [\"L'Écureuil\", \"18 rue St-Adjutor, Clermont-Ferrand, 63000\"],\n",
        "                            [\"Le Saint-Eutrope\", \"4 rue St-Eutrope, Clermont-Ferrand, 63000\"]],\n",
        "                           columns = [\"nom\", \"adresse\"])\n",
        "\n",
        "restaurants"
      ]
    },
    {
      "cell_type": "code",
      "execution_count": 11,
      "metadata": {
        "id": "FnfpiC3WE_Dj"
      },
      "outputs": [],
      "source": [
        "# Ton code ici :\n",
        "\n",
        "restaurants['coordonnées'] = restaurants['adresse'].apply(API_adresse)"
      ]
    },
    {
      "cell_type": "code",
      "execution_count": 12,
      "metadata": {
        "colab": {
          "base_uri": "https://localhost:8080/",
          "height": 173
        },
        "id": "O4XNmptWjxaA",
        "outputId": "cee0cf40-8486-43a9-f5bc-20d99f7c76b6"
      },
      "outputs": [
        {
          "data": {
            "text/html": [
              "<div>\n",
              "<style scoped>\n",
              "    .dataframe tbody tr th:only-of-type {\n",
              "        vertical-align: middle;\n",
              "    }\n",
              "\n",
              "    .dataframe tbody tr th {\n",
              "        vertical-align: top;\n",
              "    }\n",
              "\n",
              "    .dataframe thead th {\n",
              "        text-align: right;\n",
              "    }\n",
              "</style>\n",
              "<table border=\"1\" class=\"dataframe\">\n",
              "  <thead>\n",
              "    <tr style=\"text-align: right;\">\n",
              "      <th></th>\n",
              "      <th>nom</th>\n",
              "      <th>adresse</th>\n",
              "      <th>coordonnées</th>\n",
              "    </tr>\n",
              "  </thead>\n",
              "  <tbody>\n",
              "    <tr>\n",
              "      <th>0</th>\n",
              "      <td>Polypode</td>\n",
              "      <td>6 place du Champgil, Clermont-Ferrand, 63000</td>\n",
              "      <td>[45.778867, 3.079426]</td>\n",
              "    </tr>\n",
              "    <tr>\n",
              "      <th>1</th>\n",
              "      <td>Jean-Claude Leclerc</td>\n",
              "      <td>12 rue St-Adjutor, Clermont-Ferrand, 63000</td>\n",
              "      <td>[45.778846, 3.080385]</td>\n",
              "    </tr>\n",
              "    <tr>\n",
              "      <th>2</th>\n",
              "      <td>L'Écureuil</td>\n",
              "      <td>18 rue St-Adjutor, Clermont-Ferrand, 63000</td>\n",
              "      <td>[45.779, 3.08043]</td>\n",
              "    </tr>\n",
              "    <tr>\n",
              "      <th>3</th>\n",
              "      <td>Le Saint-Eutrope</td>\n",
              "      <td>4 rue St-Eutrope, Clermont-Ferrand, 63000</td>\n",
              "      <td>[45.781347, 3.08249]</td>\n",
              "    </tr>\n",
              "  </tbody>\n",
              "</table>\n",
              "</div>"
            ],
            "text/plain": [
              "                   nom                                       adresse  \\\n",
              "0             Polypode  6 place du Champgil, Clermont-Ferrand, 63000   \n",
              "1  Jean-Claude Leclerc    12 rue St-Adjutor, Clermont-Ferrand, 63000   \n",
              "2           L'Écureuil    18 rue St-Adjutor, Clermont-Ferrand, 63000   \n",
              "3     Le Saint-Eutrope     4 rue St-Eutrope, Clermont-Ferrand, 63000   \n",
              "\n",
              "             coordonnées  \n",
              "0  [45.778867, 3.079426]  \n",
              "1  [45.778846, 3.080385]  \n",
              "2      [45.779, 3.08043]  \n",
              "3   [45.781347, 3.08249]  "
            ]
          },
          "execution_count": 12,
          "metadata": {},
          "output_type": "execute_result"
        }
      ],
      "source": [
        "restaurants"
      ]
    },
    {
      "cell_type": "code",
      "execution_count": 13,
      "metadata": {
        "id": "Y9jrNcCzktS7"
      },
      "outputs": [
        {
          "data": {
            "text/plain": [
              "<folium.map.Marker at 0x10ddffe30>"
            ]
          },
          "execution_count": 13,
          "metadata": {},
          "output_type": "execute_result"
        }
      ],
      "source": [
        "m = folium.Map(location=point, )\n",
        "folium.Marker(\n",
        "    location=point,\n",
        "    popup='Un bon restau sur le pouce'\n",
        "    ).add_to(m)"
      ]
    },
    {
      "cell_type": "code",
      "execution_count": 16,
      "metadata": {
        "colab": {
          "base_uri": "https://localhost:8080/",
          "height": 1000
        },
        "id": "rU63y7dHkYnc",
        "outputId": "5f32fa37-14d9-4308-a5c8-89b43b2c3471"
      },
      "outputs": [
        {
          "data": {
            "text/html": [
              "<div style=\"width:100%;\"><div style=\"position:relative;width:100%;height:0;padding-bottom:60%;\"><span style=\"color:#565656\">Make this Notebook Trusted to load map: File -> Trust Notebook</span><iframe srcdoc=\"&lt;!DOCTYPE html&gt;\n",
              "&lt;html&gt;\n",
              "&lt;head&gt;\n",
              "    \n",
              "    &lt;meta http-equiv=&quot;content-type&quot; content=&quot;text/html; charset=UTF-8&quot; /&gt;\n",
              "    \n",
              "        &lt;script&gt;\n",
              "            L_NO_TOUCH = false;\n",
              "            L_DISABLE_3D = false;\n",
              "        &lt;/script&gt;\n",
              "    \n",
              "    &lt;style&gt;html, body {width: 100%;height: 100%;margin: 0;padding: 0;}&lt;/style&gt;\n",
              "    &lt;style&gt;#map {position:absolute;top:0;bottom:0;right:0;left:0;}&lt;/style&gt;\n",
              "    &lt;script src=&quot;https://cdn.jsdelivr.net/npm/leaflet@1.9.3/dist/leaflet.js&quot;&gt;&lt;/script&gt;\n",
              "    &lt;script src=&quot;https://code.jquery.com/jquery-3.7.1.min.js&quot;&gt;&lt;/script&gt;\n",
              "    &lt;script src=&quot;https://cdn.jsdelivr.net/npm/bootstrap@5.2.2/dist/js/bootstrap.bundle.min.js&quot;&gt;&lt;/script&gt;\n",
              "    &lt;script src=&quot;https://cdnjs.cloudflare.com/ajax/libs/Leaflet.awesome-markers/2.0.2/leaflet.awesome-markers.js&quot;&gt;&lt;/script&gt;\n",
              "    &lt;link rel=&quot;stylesheet&quot; href=&quot;https://cdn.jsdelivr.net/npm/leaflet@1.9.3/dist/leaflet.css&quot;/&gt;\n",
              "    &lt;link rel=&quot;stylesheet&quot; href=&quot;https://cdn.jsdelivr.net/npm/bootstrap@5.2.2/dist/css/bootstrap.min.css&quot;/&gt;\n",
              "    &lt;link rel=&quot;stylesheet&quot; href=&quot;https://netdna.bootstrapcdn.com/bootstrap/3.0.0/css/bootstrap-glyphicons.css&quot;/&gt;\n",
              "    &lt;link rel=&quot;stylesheet&quot; href=&quot;https://cdn.jsdelivr.net/npm/@fortawesome/fontawesome-free@6.2.0/css/all.min.css&quot;/&gt;\n",
              "    &lt;link rel=&quot;stylesheet&quot; href=&quot;https://cdnjs.cloudflare.com/ajax/libs/Leaflet.awesome-markers/2.0.2/leaflet.awesome-markers.css&quot;/&gt;\n",
              "    &lt;link rel=&quot;stylesheet&quot; href=&quot;https://cdn.jsdelivr.net/gh/python-visualization/folium/folium/templates/leaflet.awesome.rotate.min.css&quot;/&gt;\n",
              "    \n",
              "            &lt;meta name=&quot;viewport&quot; content=&quot;width=device-width,\n",
              "                initial-scale=1.0, maximum-scale=1.0, user-scalable=no&quot; /&gt;\n",
              "            &lt;style&gt;\n",
              "                #map_b1d061e12a2bfa87b60b2d3c4c961d95 {\n",
              "                    position: relative;\n",
              "                    width: 100.0%;\n",
              "                    height: 100.0%;\n",
              "                    left: 0.0%;\n",
              "                    top: 0.0%;\n",
              "                }\n",
              "                .leaflet-container { font-size: 1rem; }\n",
              "            &lt;/style&gt;\n",
              "        \n",
              "&lt;/head&gt;\n",
              "&lt;body&gt;\n",
              "    \n",
              "    \n",
              "            &lt;div class=&quot;folium-map&quot; id=&quot;map_b1d061e12a2bfa87b60b2d3c4c961d95&quot; &gt;&lt;/div&gt;\n",
              "        \n",
              "&lt;/body&gt;\n",
              "&lt;script&gt;\n",
              "    \n",
              "    \n",
              "            var map_b1d061e12a2bfa87b60b2d3c4c961d95 = L.map(\n",
              "                &quot;map_b1d061e12a2bfa87b60b2d3c4c961d95&quot;,\n",
              "                {\n",
              "                    center: [46.00996, 3.993163],\n",
              "                    crs: L.CRS.EPSG3857,\n",
              "                    zoom: 10,\n",
              "                    zoomControl: true,\n",
              "                    preferCanvas: false,\n",
              "                }\n",
              "            );\n",
              "\n",
              "            \n",
              "\n",
              "        \n",
              "    \n",
              "            var tile_layer_19dd79a1c58b03b9b6a44777e3bbf7f6 = L.tileLayer(\n",
              "                &quot;https://tile.openstreetmap.org/{z}/{x}/{y}.png&quot;,\n",
              "                {&quot;attribution&quot;: &quot;\\u0026copy; \\u003ca href=\\&quot;https://www.openstreetmap.org/copyright\\&quot;\\u003eOpenStreetMap\\u003c/a\\u003e contributors&quot;, &quot;detectRetina&quot;: false, &quot;maxNativeZoom&quot;: 19, &quot;maxZoom&quot;: 19, &quot;minZoom&quot;: 0, &quot;noWrap&quot;: false, &quot;opacity&quot;: 1, &quot;subdomains&quot;: &quot;abc&quot;, &quot;tms&quot;: false}\n",
              "            );\n",
              "        \n",
              "    \n",
              "            tile_layer_19dd79a1c58b03b9b6a44777e3bbf7f6.addTo(map_b1d061e12a2bfa87b60b2d3c4c961d95);\n",
              "        \n",
              "    \n",
              "            var marker_c357d8571b9f642ed60f5cd35388ae51 = L.marker(\n",
              "                [46.00996, 3.993163],\n",
              "                {}\n",
              "            ).addTo(map_b1d061e12a2bfa87b60b2d3c4c961d95);\n",
              "        \n",
              "    \n",
              "        var popup_9d820dfcf3bbbc94ead020810ff8e686 = L.popup({&quot;maxWidth&quot;: &quot;100%&quot;});\n",
              "\n",
              "        \n",
              "            \n",
              "                var html_2a390fa06ab31354ef262406019fcebd = $(`&lt;div id=&quot;html_2a390fa06ab31354ef262406019fcebd&quot; style=&quot;width: 100.0%; height: 100.0%;&quot;&gt;Un bon restau sur le pouce&lt;/div&gt;`)[0];\n",
              "                popup_9d820dfcf3bbbc94ead020810ff8e686.setContent(html_2a390fa06ab31354ef262406019fcebd);\n",
              "            \n",
              "        \n",
              "\n",
              "        marker_c357d8571b9f642ed60f5cd35388ae51.bindPopup(popup_9d820dfcf3bbbc94ead020810ff8e686)\n",
              "        ;\n",
              "\n",
              "        \n",
              "    \n",
              "    \n",
              "            var marker_556f6b58bcc0e0a83d12a0bd6269b248 = L.marker(\n",
              "                [45.778867, 3.079426],\n",
              "                {}\n",
              "            ).addTo(map_b1d061e12a2bfa87b60b2d3c4c961d95);\n",
              "        \n",
              "    \n",
              "        var popup_31ed4105022aa69b7c246b7545eae5b4 = L.popup({&quot;maxWidth&quot;: &quot;100%&quot;});\n",
              "\n",
              "        \n",
              "            \n",
              "                var html_ccc329c24a29ccbcced375caad8b1c40 = $(`&lt;div id=&quot;html_ccc329c24a29ccbcced375caad8b1c40&quot; style=&quot;width: 100.0%; height: 100.0%;&quot;&gt;Polypode&lt;/div&gt;`)[0];\n",
              "                popup_31ed4105022aa69b7c246b7545eae5b4.setContent(html_ccc329c24a29ccbcced375caad8b1c40);\n",
              "            \n",
              "        \n",
              "\n",
              "        marker_556f6b58bcc0e0a83d12a0bd6269b248.bindPopup(popup_31ed4105022aa69b7c246b7545eae5b4)\n",
              "        ;\n",
              "\n",
              "        \n",
              "    \n",
              "    \n",
              "            var marker_8b3d2a712799276f7bba78362401dc1f = L.marker(\n",
              "                [45.778846, 3.080385],\n",
              "                {}\n",
              "            ).addTo(map_b1d061e12a2bfa87b60b2d3c4c961d95);\n",
              "        \n",
              "    \n",
              "        var popup_d11d4cf0796e9f37e283a26ff45ece74 = L.popup({&quot;maxWidth&quot;: &quot;100%&quot;});\n",
              "\n",
              "        \n",
              "            \n",
              "                var html_2026a49cc929c708ec25798d60ff4d49 = $(`&lt;div id=&quot;html_2026a49cc929c708ec25798d60ff4d49&quot; style=&quot;width: 100.0%; height: 100.0%;&quot;&gt;Jean-Claude Leclerc&lt;/div&gt;`)[0];\n",
              "                popup_d11d4cf0796e9f37e283a26ff45ece74.setContent(html_2026a49cc929c708ec25798d60ff4d49);\n",
              "            \n",
              "        \n",
              "\n",
              "        marker_8b3d2a712799276f7bba78362401dc1f.bindPopup(popup_d11d4cf0796e9f37e283a26ff45ece74)\n",
              "        ;\n",
              "\n",
              "        \n",
              "    \n",
              "    \n",
              "            var marker_c66c3b2d53261c50c0547be9e5ed0c13 = L.marker(\n",
              "                [45.779, 3.08043],\n",
              "                {}\n",
              "            ).addTo(map_b1d061e12a2bfa87b60b2d3c4c961d95);\n",
              "        \n",
              "    \n",
              "        var popup_c88508a48e5e7ae27eba3e70c67d2f10 = L.popup({&quot;maxWidth&quot;: &quot;100%&quot;});\n",
              "\n",
              "        \n",
              "            \n",
              "                var html_0533e5d29d520713fb05b265c44e52e3 = $(`&lt;div id=&quot;html_0533e5d29d520713fb05b265c44e52e3&quot; style=&quot;width: 100.0%; height: 100.0%;&quot;&gt;L&#x27;Écureuil&lt;/div&gt;`)[0];\n",
              "                popup_c88508a48e5e7ae27eba3e70c67d2f10.setContent(html_0533e5d29d520713fb05b265c44e52e3);\n",
              "            \n",
              "        \n",
              "\n",
              "        marker_c66c3b2d53261c50c0547be9e5ed0c13.bindPopup(popup_c88508a48e5e7ae27eba3e70c67d2f10)\n",
              "        ;\n",
              "\n",
              "        \n",
              "    \n",
              "    \n",
              "            var marker_1e95cfb72c3114014aa0cd3e6bb59cef = L.marker(\n",
              "                [45.781347, 3.08249],\n",
              "                {}\n",
              "            ).addTo(map_b1d061e12a2bfa87b60b2d3c4c961d95);\n",
              "        \n",
              "    \n",
              "        var popup_0fc2a8d034da1ef8e3411bb1019b000b = L.popup({&quot;maxWidth&quot;: &quot;100%&quot;});\n",
              "\n",
              "        \n",
              "            \n",
              "                var html_a1652f2ed884ab05bacaf925a98b1ad2 = $(`&lt;div id=&quot;html_a1652f2ed884ab05bacaf925a98b1ad2&quot; style=&quot;width: 100.0%; height: 100.0%;&quot;&gt;Le Saint-Eutrope&lt;/div&gt;`)[0];\n",
              "                popup_0fc2a8d034da1ef8e3411bb1019b000b.setContent(html_a1652f2ed884ab05bacaf925a98b1ad2);\n",
              "            \n",
              "        \n",
              "\n",
              "        marker_1e95cfb72c3114014aa0cd3e6bb59cef.bindPopup(popup_0fc2a8d034da1ef8e3411bb1019b000b)\n",
              "        ;\n",
              "\n",
              "        \n",
              "    \n",
              "    \n",
              "            tile_layer_19dd79a1c58b03b9b6a44777e3bbf7f6.addTo(map_b1d061e12a2bfa87b60b2d3c4c961d95);\n",
              "        \n",
              "    \n",
              "            var marker_3ae0fc12a3c9bfde2ea954e78b078724 = L.marker(\n",
              "                [45.778867, 3.079426],\n",
              "                {&quot;zoomStart&quot;: 7}\n",
              "            ).addTo(map_b1d061e12a2bfa87b60b2d3c4c961d95);\n",
              "        \n",
              "    \n",
              "        var popup_efc73da0045ad1c3046764524ae1eb90 = L.popup({&quot;maxWidth&quot;: &quot;100%&quot;});\n",
              "\n",
              "        \n",
              "            \n",
              "                var html_1fc116dd5d709e4072074c728b417312 = $(`&lt;div id=&quot;html_1fc116dd5d709e4072074c728b417312&quot; style=&quot;width: 100.0%; height: 100.0%;&quot;&gt;Polypode&lt;/div&gt;`)[0];\n",
              "                popup_efc73da0045ad1c3046764524ae1eb90.setContent(html_1fc116dd5d709e4072074c728b417312);\n",
              "            \n",
              "        \n",
              "\n",
              "        marker_3ae0fc12a3c9bfde2ea954e78b078724.bindPopup(popup_efc73da0045ad1c3046764524ae1eb90)\n",
              "        ;\n",
              "\n",
              "        \n",
              "    \n",
              "    \n",
              "            var marker_0584f634e894e2ddc1d202486833b4e0 = L.marker(\n",
              "                [45.778846, 3.080385],\n",
              "                {&quot;zoomStart&quot;: 7}\n",
              "            ).addTo(map_b1d061e12a2bfa87b60b2d3c4c961d95);\n",
              "        \n",
              "    \n",
              "        var popup_3ca547ae56d02b92bc8507dff8414a0e = L.popup({&quot;maxWidth&quot;: &quot;100%&quot;});\n",
              "\n",
              "        \n",
              "            \n",
              "                var html_3bb1b5e2b4b07a5f3cb36f02b486abb5 = $(`&lt;div id=&quot;html_3bb1b5e2b4b07a5f3cb36f02b486abb5&quot; style=&quot;width: 100.0%; height: 100.0%;&quot;&gt;Jean-Claude Leclerc&lt;/div&gt;`)[0];\n",
              "                popup_3ca547ae56d02b92bc8507dff8414a0e.setContent(html_3bb1b5e2b4b07a5f3cb36f02b486abb5);\n",
              "            \n",
              "        \n",
              "\n",
              "        marker_0584f634e894e2ddc1d202486833b4e0.bindPopup(popup_3ca547ae56d02b92bc8507dff8414a0e)\n",
              "        ;\n",
              "\n",
              "        \n",
              "    \n",
              "    \n",
              "            var marker_f058dc72dc32b2b1972c83057876020e = L.marker(\n",
              "                [45.779, 3.08043],\n",
              "                {&quot;zoomStart&quot;: 7}\n",
              "            ).addTo(map_b1d061e12a2bfa87b60b2d3c4c961d95);\n",
              "        \n",
              "    \n",
              "        var popup_aee0f036ec376f0b039d36b5a29b5ad9 = L.popup({&quot;maxWidth&quot;: &quot;100%&quot;});\n",
              "\n",
              "        \n",
              "            \n",
              "                var html_959e02ffd523c3c0cfa2e5ea869852e6 = $(`&lt;div id=&quot;html_959e02ffd523c3c0cfa2e5ea869852e6&quot; style=&quot;width: 100.0%; height: 100.0%;&quot;&gt;L&#x27;Écureuil&lt;/div&gt;`)[0];\n",
              "                popup_aee0f036ec376f0b039d36b5a29b5ad9.setContent(html_959e02ffd523c3c0cfa2e5ea869852e6);\n",
              "            \n",
              "        \n",
              "\n",
              "        marker_f058dc72dc32b2b1972c83057876020e.bindPopup(popup_aee0f036ec376f0b039d36b5a29b5ad9)\n",
              "        ;\n",
              "\n",
              "        \n",
              "    \n",
              "    \n",
              "            var marker_7f67b7973bd92cd56edd3d230a09b5b2 = L.marker(\n",
              "                [45.781347, 3.08249],\n",
              "                {&quot;zoomStart&quot;: 7}\n",
              "            ).addTo(map_b1d061e12a2bfa87b60b2d3c4c961d95);\n",
              "        \n",
              "    \n",
              "        var popup_545eaa210018b94cdd622c1d272402b2 = L.popup({&quot;maxWidth&quot;: &quot;100%&quot;});\n",
              "\n",
              "        \n",
              "            \n",
              "                var html_d725d7334244b3630376c026665654b6 = $(`&lt;div id=&quot;html_d725d7334244b3630376c026665654b6&quot; style=&quot;width: 100.0%; height: 100.0%;&quot;&gt;Le Saint-Eutrope&lt;/div&gt;`)[0];\n",
              "                popup_545eaa210018b94cdd622c1d272402b2.setContent(html_d725d7334244b3630376c026665654b6);\n",
              "            \n",
              "        \n",
              "\n",
              "        marker_7f67b7973bd92cd56edd3d230a09b5b2.bindPopup(popup_545eaa210018b94cdd622c1d272402b2)\n",
              "        ;\n",
              "\n",
              "        \n",
              "    \n",
              "    \n",
              "            tile_layer_19dd79a1c58b03b9b6a44777e3bbf7f6.addTo(map_b1d061e12a2bfa87b60b2d3c4c961d95);\n",
              "        \n",
              "    \n",
              "            var marker_fa44a8648e72e4fa8a275fc04fe8ccef = L.marker(\n",
              "                [45.778867, 3.079426],\n",
              "                {&quot;zoomStart&quot;: 20}\n",
              "            ).addTo(map_b1d061e12a2bfa87b60b2d3c4c961d95);\n",
              "        \n",
              "    \n",
              "        var popup_3bf4aedae181eb3f9351a97642525589 = L.popup({&quot;maxWidth&quot;: &quot;100%&quot;});\n",
              "\n",
              "        \n",
              "            \n",
              "                var html_d73c069273d0a3583489210b2613a7d8 = $(`&lt;div id=&quot;html_d73c069273d0a3583489210b2613a7d8&quot; style=&quot;width: 100.0%; height: 100.0%;&quot;&gt;Polypode&lt;/div&gt;`)[0];\n",
              "                popup_3bf4aedae181eb3f9351a97642525589.setContent(html_d73c069273d0a3583489210b2613a7d8);\n",
              "            \n",
              "        \n",
              "\n",
              "        marker_fa44a8648e72e4fa8a275fc04fe8ccef.bindPopup(popup_3bf4aedae181eb3f9351a97642525589)\n",
              "        ;\n",
              "\n",
              "        \n",
              "    \n",
              "    \n",
              "            var marker_0b85532e44f662a908a3d294d5be9d88 = L.marker(\n",
              "                [45.778846, 3.080385],\n",
              "                {&quot;zoomStart&quot;: 20}\n",
              "            ).addTo(map_b1d061e12a2bfa87b60b2d3c4c961d95);\n",
              "        \n",
              "    \n",
              "        var popup_013c070353ce44fb31c193d0301ec872 = L.popup({&quot;maxWidth&quot;: &quot;100%&quot;});\n",
              "\n",
              "        \n",
              "            \n",
              "                var html_e44db623c093c85bdca8cb7886569bc5 = $(`&lt;div id=&quot;html_e44db623c093c85bdca8cb7886569bc5&quot; style=&quot;width: 100.0%; height: 100.0%;&quot;&gt;Jean-Claude Leclerc&lt;/div&gt;`)[0];\n",
              "                popup_013c070353ce44fb31c193d0301ec872.setContent(html_e44db623c093c85bdca8cb7886569bc5);\n",
              "            \n",
              "        \n",
              "\n",
              "        marker_0b85532e44f662a908a3d294d5be9d88.bindPopup(popup_013c070353ce44fb31c193d0301ec872)\n",
              "        ;\n",
              "\n",
              "        \n",
              "    \n",
              "    \n",
              "            var marker_9ed48674f49c6a5d4369af2dab88a7a7 = L.marker(\n",
              "                [45.779, 3.08043],\n",
              "                {&quot;zoomStart&quot;: 20}\n",
              "            ).addTo(map_b1d061e12a2bfa87b60b2d3c4c961d95);\n",
              "        \n",
              "    \n",
              "        var popup_87bdc05bd13f5458fba9a7475b3e5245 = L.popup({&quot;maxWidth&quot;: &quot;100%&quot;});\n",
              "\n",
              "        \n",
              "            \n",
              "                var html_6eee48f321352b58113a1251a445ae21 = $(`&lt;div id=&quot;html_6eee48f321352b58113a1251a445ae21&quot; style=&quot;width: 100.0%; height: 100.0%;&quot;&gt;L&#x27;Écureuil&lt;/div&gt;`)[0];\n",
              "                popup_87bdc05bd13f5458fba9a7475b3e5245.setContent(html_6eee48f321352b58113a1251a445ae21);\n",
              "            \n",
              "        \n",
              "\n",
              "        marker_9ed48674f49c6a5d4369af2dab88a7a7.bindPopup(popup_87bdc05bd13f5458fba9a7475b3e5245)\n",
              "        ;\n",
              "\n",
              "        \n",
              "    \n",
              "    \n",
              "            var marker_f533f2341a1327d8f2705b78e580648c = L.marker(\n",
              "                [45.781347, 3.08249],\n",
              "                {&quot;zoomStart&quot;: 20}\n",
              "            ).addTo(map_b1d061e12a2bfa87b60b2d3c4c961d95);\n",
              "        \n",
              "    \n",
              "        var popup_97b916e899a9f1e4f43f11b434600f26 = L.popup({&quot;maxWidth&quot;: &quot;100%&quot;});\n",
              "\n",
              "        \n",
              "            \n",
              "                var html_e2e239ae1ecb95bc22092cab92b01ef6 = $(`&lt;div id=&quot;html_e2e239ae1ecb95bc22092cab92b01ef6&quot; style=&quot;width: 100.0%; height: 100.0%;&quot;&gt;Le Saint-Eutrope&lt;/div&gt;`)[0];\n",
              "                popup_97b916e899a9f1e4f43f11b434600f26.setContent(html_e2e239ae1ecb95bc22092cab92b01ef6);\n",
              "            \n",
              "        \n",
              "\n",
              "        marker_f533f2341a1327d8f2705b78e580648c.bindPopup(popup_97b916e899a9f1e4f43f11b434600f26)\n",
              "        ;\n",
              "\n",
              "        \n",
              "    \n",
              "&lt;/script&gt;\n",
              "&lt;/html&gt;\" style=\"position:absolute;width:100%;height:100%;left:0;top:0;border:none !important;\" allowfullscreen webkitallowfullscreen mozallowfullscreen></iframe></div></div>"
            ],
            "text/plain": [
              "<folium.folium.Map at 0x11772d730>"
            ]
          },
          "execution_count": 16,
          "metadata": {},
          "output_type": "execute_result"
        }
      ],
      "source": [
        "for index, row in restaurants.iterrows():\n",
        "  folium.Marker(\n",
        "    location=row['coordonnées'],\n",
        "    popup = row['nom'],\n",
        "    zoom_start=20\n",
        "    ).add_to(m)\n",
        "m"
      ]
    },
    {
      "cell_type": "markdown",
      "metadata": {
        "id": "5198aDGpHIF2"
      },
      "source": [
        "# Remarques sur l'API Adresse\n",
        "Comme indiqué dans la quête, il existe un grand nombre de ressources permettant de faire du géocodage. La plupart sont sur inscription, et certaines sont payantes.\n",
        "\n",
        "L'API Adresse est gratuite et sans inscription. L'inconvénient est qu'elle est relativement lente. Si tu dois l'utiliser à l'avenir, pense donc à stocker les résultats pour éviter de devoir relancer le traitement plusieurs fois.\n",
        "\n",
        "Pour ta connaissance, il existe également :\n",
        "- l'API Adresse **reverse** qui permet de trouver l'adresse postale la plus proche à partir de coordonnées géographiques\n",
        "- l'API à partir d'un **fichier CSV** si vous avez beaucoup de lignes à géocoder\n",
        "- l'API **découpage administratif** qui permet d'obtenir un format geoJSON des communes et départements pour effectuer des cartes choroplèthes\n",
        "\n",
        "Toutes la [documentation est disponible ici](https://geo.api.gouv.fr/adresse)."
      ]
    }
  ],
  "metadata": {
    "colab": {
      "provenance": []
    },
    "kernelspec": {
      "display_name": "Python 3",
      "name": "python3"
    },
    "language_info": {
      "codemirror_mode": {
        "name": "ipython",
        "version": 3
      },
      "file_extension": ".py",
      "mimetype": "text/x-python",
      "name": "python",
      "nbconvert_exporter": "python",
      "pygments_lexer": "ipython3",
      "version": "3.12.2"
    }
  },
  "nbformat": 4,
  "nbformat_minor": 0
}
