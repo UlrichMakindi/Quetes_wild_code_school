{
  "cells": [
    {
      "cell_type": "markdown",
      "metadata": {
        "id": "Lq09sQbMUXRG"
      },
      "source": [
        "# Introduction\n",
        "The Nominatim API is a REST API (provided by OpenStreetMap), that returns geographic coordinates (latitude and longitude) from a postal address. If several postal addresses (due to inaccuracy or non-existent street number) corresponding to the request are found, the API returns several coordinates, each time with an `importance` score. The coordinates are given in descending order of importance, so you can select only the first address."
      ]
    },
    {
      "cell_type": "code",
      "execution_count": 1,
      "metadata": {
        "colab": {
          "base_uri": "https://localhost:8080/"
        },
        "id": "zzECVow7AfF5",
        "outputId": "6d29cd1e-e162-44da-8c72-6a00504ffcc6"
      },
      "outputs": [
        {
          "data": {
            "text/plain": [
              "[{'place_id': 46158390,\n",
              "  'licence': 'Data © OpenStreetMap contributors, ODbL 1.0. http://osm.org/copyright',\n",
              "  'osm_type': 'way',\n",
              "  'osm_id': 1203329854,\n",
              "  'lat': '37.7242361',\n",
              "  'lon': '15.1789984',\n",
              "  'class': 'highway',\n",
              "  'type': 'residential',\n",
              "  'place_rank': 26,\n",
              "  'importance': 0.10000999999999993,\n",
              "  'addresstype': 'road',\n",
              "  'name': 'Via Pietro Mascagni',\n",
              "  'display_name': 'Via Pietro Mascagni, Altarello, Giarre, Catania, Sicilia, 95014, Italia',\n",
              "  'boundingbox': ['37.7234970', '37.7249937', '15.1784912', '15.1794786']},\n",
              " {'place_id': 46193870,\n",
              "  'licence': 'Data © OpenStreetMap contributors, ODbL 1.0. http://osm.org/copyright',\n",
              "  'osm_type': 'way',\n",
              "  'osm_id': 128394486,\n",
              "  'lat': '37.6090903',\n",
              "  'lon': '15.1604414',\n",
              "  'class': 'highway',\n",
              "  'type': 'residential',\n",
              "  'place_rank': 26,\n",
              "  'importance': 0.10000999999999993,\n",
              "  'addresstype': 'road',\n",
              "  'name': 'Via Pietro Mascagni',\n",
              "  'display_name': 'Via Pietro Mascagni, Santa Caterina, Acireale, Catania, Sicilia, 95024, Italia',\n",
              "  'boundingbox': ['37.6089805', '37.6091110', '15.1602847', '15.1610300']},\n",
              " {'place_id': 46272134,\n",
              "  'licence': 'Data © OpenStreetMap contributors, ODbL 1.0. http://osm.org/copyright',\n",
              "  'osm_type': 'way',\n",
              "  'osm_id': 58232256,\n",
              "  'lat': '37.6091358',\n",
              "  'lon': '15.1596388',\n",
              "  'class': 'highway',\n",
              "  'type': 'residential',\n",
              "  'place_rank': 26,\n",
              "  'importance': 0.10000999999999993,\n",
              "  'addresstype': 'road',\n",
              "  'name': 'Via Pietro Mascagni',\n",
              "  'display_name': 'Via Pietro Mascagni, Sciarelle, Acireale, Catania, Sicilia, 95024, Italia',\n",
              "  'boundingbox': ['37.6088571', '37.6091358', '15.1591549', '15.1602847']},\n",
              " {'place_id': 46467517,\n",
              "  'licence': 'Data © OpenStreetMap contributors, ODbL 1.0. http://osm.org/copyright',\n",
              "  'osm_type': 'way',\n",
              "  'osm_id': 167016177,\n",
              "  'lat': '37.5676811',\n",
              "  'lon': '14.9106709',\n",
              "  'class': 'highway',\n",
              "  'type': 'residential',\n",
              "  'place_rank': 26,\n",
              "  'importance': 0.10000999999999993,\n",
              "  'addresstype': 'road',\n",
              "  'name': 'Via Pietro Mascagni',\n",
              "  'display_name': 'Via Pietro Mascagni, Paternò, Catania, Sicilia, 95047, Italia',\n",
              "  'boundingbox': ['37.5673863', '37.5680619', '14.9106500', '14.9109837']},\n",
              " {'place_id': 46401808,\n",
              "  'licence': 'Data © OpenStreetMap contributors, ODbL 1.0. http://osm.org/copyright',\n",
              "  'osm_type': 'way',\n",
              "  'osm_id': 223112430,\n",
              "  'lat': '37.2970326',\n",
              "  'lon': '14.8417094',\n",
              "  'class': 'highway',\n",
              "  'type': 'residential',\n",
              "  'place_rank': 26,\n",
              "  'importance': 0.10000999999999993,\n",
              "  'addresstype': 'road',\n",
              "  'name': 'Via Pietro Mascagni',\n",
              "  'display_name': 'Via Pietro Mascagni, Scordia, Catania, Sicilia, 95048, Italia',\n",
              "  'boundingbox': ['37.2968575', '37.2971447', '14.8410915', '14.8419764']},\n",
              " {'place_id': 46401218,\n",
              "  'licence': 'Data © OpenStreetMap contributors, ODbL 1.0. http://osm.org/copyright',\n",
              "  'osm_type': 'way',\n",
              "  'osm_id': 1125079468,\n",
              "  'lat': '37.22508',\n",
              "  'lon': '14.5244911',\n",
              "  'class': 'highway',\n",
              "  'type': 'residential',\n",
              "  'place_rank': 26,\n",
              "  'importance': 0.10000999999999993,\n",
              "  'addresstype': 'road',\n",
              "  'name': 'Via Pietro Mascagni',\n",
              "  'display_name': 'Via Pietro Mascagni, Caltagirone, Catania, Sicilia, 95041, Italia',\n",
              "  'boundingbox': ['37.2250444', '37.2253490', '14.5244318', '14.5249395']},\n",
              " {'place_id': 46420924,\n",
              "  'licence': 'Data © OpenStreetMap contributors, ODbL 1.0. http://osm.org/copyright',\n",
              "  'osm_type': 'way',\n",
              "  'osm_id': 1092232142,\n",
              "  'lat': '37.3293593',\n",
              "  'lon': '14.7414437',\n",
              "  'class': 'highway',\n",
              "  'type': 'residential',\n",
              "  'place_rank': 26,\n",
              "  'importance': 0.10000999999999993,\n",
              "  'addresstype': 'road',\n",
              "  'name': 'Via Pietro Mascagni',\n",
              "  'display_name': 'Via Pietro Mascagni, Palagonia, Catania, Sicilia, 95046, Italia',\n",
              "  'boundingbox': ['37.3287325', '37.3297427', '14.7407703', '14.7425445']},\n",
              " {'place_id': 46423884,\n",
              "  'licence': 'Data © OpenStreetMap contributors, ODbL 1.0. http://osm.org/copyright',\n",
              "  'osm_type': 'way',\n",
              "  'osm_id': 75224730,\n",
              "  'lat': '37.4769218',\n",
              "  'lon': '14.533668',\n",
              "  'class': 'highway',\n",
              "  'type': 'residential',\n",
              "  'place_rank': 26,\n",
              "  'importance': 0.10000999999999993,\n",
              "  'addresstype': 'road',\n",
              "  'name': 'Via Pietro Mascagni',\n",
              "  'display_name': 'Via Pietro Mascagni, Raddusa, Catania, Sicilia, 95040, Italia',\n",
              "  'boundingbox': ['37.4763164', '37.4778478', '14.5328669', '14.5348934']},\n",
              " {'place_id': 46607904,\n",
              "  'licence': 'Data © OpenStreetMap contributors, ODbL 1.0. http://osm.org/copyright',\n",
              "  'osm_type': 'way',\n",
              "  'osm_id': 82142425,\n",
              "  'lat': '37.3859977',\n",
              "  'lon': '14.6916633',\n",
              "  'class': 'highway',\n",
              "  'type': 'residential',\n",
              "  'place_rank': 26,\n",
              "  'importance': 0.10000999999999993,\n",
              "  'addresstype': 'road',\n",
              "  'name': 'Via Pietro Mascagni',\n",
              "  'display_name': 'Via Pietro Mascagni, Ramacca, Catania, Sicilia, 95040, Italia',\n",
              "  'boundingbox': ['37.3845850', '37.3874239', '14.6912861', '14.6920440']},\n",
              " {'place_id': 49964276,\n",
              "  'licence': 'Data © OpenStreetMap contributors, ODbL 1.0. http://osm.org/copyright',\n",
              "  'osm_type': 'way',\n",
              "  'osm_id': 340599607,\n",
              "  'lat': '37.213333',\n",
              "  'lon': '14.6341795',\n",
              "  'class': 'highway',\n",
              "  'type': 'residential',\n",
              "  'place_rank': 26,\n",
              "  'importance': 0.10000999999999993,\n",
              "  'addresstype': 'road',\n",
              "  'name': 'Via Pietro Mascagni',\n",
              "  'display_name': 'Via Pietro Mascagni, Grammichele, Catania, Sicilia, 95042, Italia',\n",
              "  'boundingbox': ['37.2132636', '37.2135294', '14.6341245', '14.6343514']}]"
            ]
          },
          "execution_count": 1,
          "metadata": {},
          "output_type": "execute_result"
        }
      ],
      "source": [
        "# Execute the code below :\n",
        "\n",
        "import requests\n",
        "link = \"https://nominatim.openstreetmap.org/?q=54+Via+Pietro+Mascagni,Catania,Italy&format=json\"\n",
        "headers = {\n",
        "    'User-Agent': 'Mozilla/5.0 (Windows NT 10.0; Win64; x64; rv:91.0) Gecko/20100101 Firefox/91.0',\n",
        "    'Referer': 'https://www.example.com'\n",
        "}\n",
        "r = requests.get(link, headers=headers).json()\n",
        "r"
      ]
    },
    {
      "cell_type": "code",
      "execution_count": 2,
      "metadata": {
        "colab": {
          "base_uri": "https://localhost:8080/"
        },
        "id": "D7YK4RLtYxJP",
        "outputId": "5b5dfb1f-de6f-41d5-816d-5666778d2d43"
      },
      "outputs": [
        {
          "name": "stdout",
          "output_type": "stream",
          "text": [
            "First address : {'place_id': 46158390, 'licence': 'Data © OpenStreetMap contributors, ODbL 1.0. http://osm.org/copyright', 'osm_type': 'way', 'osm_id': 1203329854, 'lat': '37.7242361', 'lon': '15.1789984', 'class': 'highway', 'type': 'residential', 'place_rank': 26, 'importance': 0.10000999999999993, 'addresstype': 'road', 'name': 'Via Pietro Mascagni', 'display_name': 'Via Pietro Mascagni, Altarello, Giarre, Catania, Sicilia, 95014, Italia', 'boundingbox': ['37.7234970', '37.7249937', '15.1784912', '15.1794786']}\n",
            "First address longitude : 15.1789984\n",
            "First address latitude : 37.7242361\n"
          ]
        }
      ],
      "source": [
        "# Here we select only the first address (index 0)\n",
        "print(\"First address :\", r[0])\n",
        "print(\"First address longitude :\",r[0]['lon'])\n",
        "print(\"First address latitude :\",r[0]['lat'])"
      ]
    },
    {
      "cell_type": "code",
      "execution_count": 3,
      "metadata": {
        "colab": {
          "base_uri": "https://localhost:8080/"
        },
        "collapsed": true,
        "id": "1n8xgPwnbddp",
        "outputId": "373fb0a2-72d2-44ad-917c-5ffb69e6aaa1"
      },
      "outputs": [
        {
          "name": "stdout",
          "output_type": "stream",
          "text": [
            "WITHOUT limit, how many coordinates does this address return? 10\n",
            "WITH limit, how many coordinates does this address return? 1\n"
          ]
        }
      ],
      "source": [
        "# For ease of use, you can add a limit on the number of items returned:\n",
        "\n",
        "link = \"https://nominatim.openstreetmap.org/?q=54+Via+Pietro+Mascagni,Catania,Italy&format=json\"\n",
        "r = requests.get(link, headers=headers).json()\n",
        "print(\"WITHOUT limit, how many coordinates does this address return?\",len(r))\n",
        "\n",
        "link = \"https://nominatim.openstreetmap.org/?q=54+Via+Pietro+Mascagni,Catania,Italy&format=json&limit=1\"\n",
        "r = requests.get(link, headers=headers).json()\n",
        "print(\"WITH limit, how many coordinates does this address return?\",len(r))"
      ]
    },
    {
      "cell_type": "markdown",
      "metadata": {
        "id": "PhjWl336aVUm"
      },
      "source": [
        "## How to create your API query\n",
        "It's up to you to modify the string to create the right request URL"
      ]
    },
    {
      "cell_type": "code",
      "execution_count": 4,
      "metadata": {
        "colab": {
          "base_uri": "https://localhost:8080/"
        },
        "id": "-_A9JKScWV5I",
        "outputId": "7a21bbb9-4fa3-4551-9cfa-80882307ee19"
      },
      "outputs": [
        {
          "name": "stdout",
          "output_type": "stream",
          "text": [
            "https://nominatim.openstreetmap.org/?q=54+Via+Pietro+Mascagni+Catania+Italy&format=json&limit=1\n"
          ]
        }
      ],
      "source": [
        "# We observe that the query consists of a fixed part, followed by the address to be searched for.\n",
        "# An URL cannot contain a \" \" space character,\n",
        "# and special characters or accents should be avoided if possible\n",
        "\n",
        "link_main = 'https://nominatim.openstreetmap.org/?q='\n",
        "address = '54 Via Pietro Mascagni, Catania, Italy'\n",
        "link_end = '&format=json&limit=1'\n",
        "\n",
        "link = link_main + address.replace(' ','+').replace(',','')# It's your turn here. Your goal is to get a link in the right format\n",
        "\n",
        "print(link + link_end)"
      ]
    },
    {
      "cell_type": "code",
      "execution_count": 5,
      "metadata": {
        "id": "9gLir_IWdHGz"
      },
      "outputs": [],
      "source": [
        "# Create a function here that turns a postal address into a request URL for the Nominatim API,\n",
        "# then makes the request and returns the coordinates :\n",
        "\n",
        "def API_address(postal_address):\n",
        "  link_main = 'https://nominatim.openstreetmap.org/?q='\n",
        "  link = link_main + postal_address.replace(' ','+').replace(',','') + link_end\n",
        "  r = requests.get(link, headers=headers).json()\n",
        "  return (r[0]['lon'], r[0]['lat'])[::-1]\n"
      ]
    },
    {
      "cell_type": "code",
      "execution_count": 6,
      "metadata": {
        "colab": {
          "base_uri": "https://localhost:8080/"
        },
        "id": "C0ZQnTyvdY4M",
        "outputId": "1835afe4-4126-44e7-debb-9a8cf90ee332"
      },
      "outputs": [
        {
          "data": {
            "text/plain": [
              "('37.7242361', '15.1789984')"
            ]
          },
          "execution_count": 6,
          "metadata": {},
          "output_type": "execute_result"
        }
      ],
      "source": [
        "# Test it here:\n",
        "API_address(address)"
      ]
    },
    {
      "cell_type": "markdown",
      "metadata": {
        "id": "rXLrMxFvcFu_"
      },
      "source": [
        "# DataViz\n",
        "Latitude & Longitude can be used on visualization tools, whether they are BI tools (PowerBI, Table), or Python DataViz libraries such as Plotly or Folium.\n",
        "\n",
        "Here we will display a map with Folium.\n"
      ]
    },
    {
      "cell_type": "code",
      "execution_count": 7,
      "metadata": {
        "colab": {
          "base_uri": "https://localhost:8080/",
          "height": 1000
        },
        "id": "969VKpP1fWdJ",
        "outputId": "6dd90789-e1a3-4adf-bc49-5e2612216d12"
      },
      "outputs": [
        {
          "data": {
            "text/html": [
              "<div style=\"width:100%;\"><div style=\"position:relative;width:100%;height:0;padding-bottom:60%;\"><span style=\"color:#565656\">Make this Notebook Trusted to load map: File -> Trust Notebook</span><iframe srcdoc=\"&lt;!DOCTYPE html&gt;\n",
              "&lt;html&gt;\n",
              "&lt;head&gt;\n",
              "    \n",
              "    &lt;meta http-equiv=&quot;content-type&quot; content=&quot;text/html; charset=UTF-8&quot; /&gt;\n",
              "    \n",
              "        &lt;script&gt;\n",
              "            L_NO_TOUCH = false;\n",
              "            L_DISABLE_3D = false;\n",
              "        &lt;/script&gt;\n",
              "    \n",
              "    &lt;style&gt;html, body {width: 100%;height: 100%;margin: 0;padding: 0;}&lt;/style&gt;\n",
              "    &lt;style&gt;#map {position:absolute;top:0;bottom:0;right:0;left:0;}&lt;/style&gt;\n",
              "    &lt;script src=&quot;https://cdn.jsdelivr.net/npm/leaflet@1.9.3/dist/leaflet.js&quot;&gt;&lt;/script&gt;\n",
              "    &lt;script src=&quot;https://code.jquery.com/jquery-3.7.1.min.js&quot;&gt;&lt;/script&gt;\n",
              "    &lt;script src=&quot;https://cdn.jsdelivr.net/npm/bootstrap@5.2.2/dist/js/bootstrap.bundle.min.js&quot;&gt;&lt;/script&gt;\n",
              "    &lt;script src=&quot;https://cdnjs.cloudflare.com/ajax/libs/Leaflet.awesome-markers/2.0.2/leaflet.awesome-markers.js&quot;&gt;&lt;/script&gt;\n",
              "    &lt;link rel=&quot;stylesheet&quot; href=&quot;https://cdn.jsdelivr.net/npm/leaflet@1.9.3/dist/leaflet.css&quot;/&gt;\n",
              "    &lt;link rel=&quot;stylesheet&quot; href=&quot;https://cdn.jsdelivr.net/npm/bootstrap@5.2.2/dist/css/bootstrap.min.css&quot;/&gt;\n",
              "    &lt;link rel=&quot;stylesheet&quot; href=&quot;https://netdna.bootstrapcdn.com/bootstrap/3.0.0/css/bootstrap-glyphicons.css&quot;/&gt;\n",
              "    &lt;link rel=&quot;stylesheet&quot; href=&quot;https://cdn.jsdelivr.net/npm/@fortawesome/fontawesome-free@6.2.0/css/all.min.css&quot;/&gt;\n",
              "    &lt;link rel=&quot;stylesheet&quot; href=&quot;https://cdnjs.cloudflare.com/ajax/libs/Leaflet.awesome-markers/2.0.2/leaflet.awesome-markers.css&quot;/&gt;\n",
              "    &lt;link rel=&quot;stylesheet&quot; href=&quot;https://cdn.jsdelivr.net/gh/python-visualization/folium/folium/templates/leaflet.awesome.rotate.min.css&quot;/&gt;\n",
              "    \n",
              "            &lt;meta name=&quot;viewport&quot; content=&quot;width=device-width,\n",
              "                initial-scale=1.0, maximum-scale=1.0, user-scalable=no&quot; /&gt;\n",
              "            &lt;style&gt;\n",
              "                #map_8aff6b94ef65eddda72658abb30592c4 {\n",
              "                    position: relative;\n",
              "                    width: 100.0%;\n",
              "                    height: 100.0%;\n",
              "                    left: 0.0%;\n",
              "                    top: 0.0%;\n",
              "                }\n",
              "                .leaflet-container { font-size: 1rem; }\n",
              "            &lt;/style&gt;\n",
              "        \n",
              "&lt;/head&gt;\n",
              "&lt;body&gt;\n",
              "    \n",
              "    \n",
              "            &lt;div class=&quot;folium-map&quot; id=&quot;map_8aff6b94ef65eddda72658abb30592c4&quot; &gt;&lt;/div&gt;\n",
              "        \n",
              "&lt;/body&gt;\n",
              "&lt;script&gt;\n",
              "    \n",
              "    \n",
              "            var map_8aff6b94ef65eddda72658abb30592c4 = L.map(\n",
              "                &quot;map_8aff6b94ef65eddda72658abb30592c4&quot;,\n",
              "                {\n",
              "                    center: [37.7242361, 15.1789984],\n",
              "                    crs: L.CRS.EPSG3857,\n",
              "                    zoom: 7,\n",
              "                    zoomControl: true,\n",
              "                    preferCanvas: false,\n",
              "                }\n",
              "            );\n",
              "\n",
              "            \n",
              "\n",
              "        \n",
              "    \n",
              "            var tile_layer_29ab50814c14fcf64e64b43718163056 = L.tileLayer(\n",
              "                &quot;https://tile.openstreetmap.org/{z}/{x}/{y}.png&quot;,\n",
              "                {&quot;attribution&quot;: &quot;\\u0026copy; \\u003ca href=\\&quot;https://www.openstreetmap.org/copyright\\&quot;\\u003eOpenStreetMap\\u003c/a\\u003e contributors&quot;, &quot;detectRetina&quot;: false, &quot;maxNativeZoom&quot;: 19, &quot;maxZoom&quot;: 19, &quot;minZoom&quot;: 0, &quot;noWrap&quot;: false, &quot;opacity&quot;: 1, &quot;subdomains&quot;: &quot;abc&quot;, &quot;tms&quot;: false}\n",
              "            );\n",
              "        \n",
              "    \n",
              "            tile_layer_29ab50814c14fcf64e64b43718163056.addTo(map_8aff6b94ef65eddda72658abb30592c4);\n",
              "        \n",
              "&lt;/script&gt;\n",
              "&lt;/html&gt;\" style=\"position:absolute;width:100%;height:100%;left:0;top:0;border:none !important;\" allowfullscreen webkitallowfullscreen mozallowfullscreen></iframe></div></div>"
            ],
            "text/plain": [
              "<folium.folium.Map at 0x108851430>"
            ]
          },
          "execution_count": 7,
          "metadata": {},
          "output_type": "execute_result"
        }
      ],
      "source": [
        "# The syntax of Folium is very simple, you start by creating a map centered on a point.\n",
        "# You can change the default zoom level with the argument \"zoom_start\".\n",
        "\n",
        "import folium\n",
        "\n",
        "# We define a location as a list with 2 values : latitude and longitude.\n",
        "point = [float(r[0]['lat']), float(r[0]['lon'])]\n",
        "\n",
        "# We center the map on the location\n",
        "m = folium.Map(location=point,zoom_start=7)\n",
        "\n",
        "# We display the map\n",
        "m"
      ]
    },
    {
      "cell_type": "code",
      "execution_count": 8,
      "metadata": {
        "colab": {
          "base_uri": "https://localhost:8080/",
          "height": 1000
        },
        "id": "eXWTn1mFUKrH",
        "outputId": "fcf0b528-0034-4601-a08f-39c4b7c3e0f3"
      },
      "outputs": [
        {
          "data": {
            "text/html": [
              "<div style=\"width:100%;\"><div style=\"position:relative;width:100%;height:0;padding-bottom:60%;\"><span style=\"color:#565656\">Make this Notebook Trusted to load map: File -> Trust Notebook</span><iframe srcdoc=\"&lt;!DOCTYPE html&gt;\n",
              "&lt;html&gt;\n",
              "&lt;head&gt;\n",
              "    \n",
              "    &lt;meta http-equiv=&quot;content-type&quot; content=&quot;text/html; charset=UTF-8&quot; /&gt;\n",
              "    \n",
              "        &lt;script&gt;\n",
              "            L_NO_TOUCH = false;\n",
              "            L_DISABLE_3D = false;\n",
              "        &lt;/script&gt;\n",
              "    \n",
              "    &lt;style&gt;html, body {width: 100%;height: 100%;margin: 0;padding: 0;}&lt;/style&gt;\n",
              "    &lt;style&gt;#map {position:absolute;top:0;bottom:0;right:0;left:0;}&lt;/style&gt;\n",
              "    &lt;script src=&quot;https://cdn.jsdelivr.net/npm/leaflet@1.9.3/dist/leaflet.js&quot;&gt;&lt;/script&gt;\n",
              "    &lt;script src=&quot;https://code.jquery.com/jquery-3.7.1.min.js&quot;&gt;&lt;/script&gt;\n",
              "    &lt;script src=&quot;https://cdn.jsdelivr.net/npm/bootstrap@5.2.2/dist/js/bootstrap.bundle.min.js&quot;&gt;&lt;/script&gt;\n",
              "    &lt;script src=&quot;https://cdnjs.cloudflare.com/ajax/libs/Leaflet.awesome-markers/2.0.2/leaflet.awesome-markers.js&quot;&gt;&lt;/script&gt;\n",
              "    &lt;link rel=&quot;stylesheet&quot; href=&quot;https://cdn.jsdelivr.net/npm/leaflet@1.9.3/dist/leaflet.css&quot;/&gt;\n",
              "    &lt;link rel=&quot;stylesheet&quot; href=&quot;https://cdn.jsdelivr.net/npm/bootstrap@5.2.2/dist/css/bootstrap.min.css&quot;/&gt;\n",
              "    &lt;link rel=&quot;stylesheet&quot; href=&quot;https://netdna.bootstrapcdn.com/bootstrap/3.0.0/css/bootstrap-glyphicons.css&quot;/&gt;\n",
              "    &lt;link rel=&quot;stylesheet&quot; href=&quot;https://cdn.jsdelivr.net/npm/@fortawesome/fontawesome-free@6.2.0/css/all.min.css&quot;/&gt;\n",
              "    &lt;link rel=&quot;stylesheet&quot; href=&quot;https://cdnjs.cloudflare.com/ajax/libs/Leaflet.awesome-markers/2.0.2/leaflet.awesome-markers.css&quot;/&gt;\n",
              "    &lt;link rel=&quot;stylesheet&quot; href=&quot;https://cdn.jsdelivr.net/gh/python-visualization/folium/folium/templates/leaflet.awesome.rotate.min.css&quot;/&gt;\n",
              "    \n",
              "            &lt;meta name=&quot;viewport&quot; content=&quot;width=device-width,\n",
              "                initial-scale=1.0, maximum-scale=1.0, user-scalable=no&quot; /&gt;\n",
              "            &lt;style&gt;\n",
              "                #map_14e21d0932edaff2b1af62ca4b80f6f7 {\n",
              "                    position: relative;\n",
              "                    width: 100.0%;\n",
              "                    height: 100.0%;\n",
              "                    left: 0.0%;\n",
              "                    top: 0.0%;\n",
              "                }\n",
              "                .leaflet-container { font-size: 1rem; }\n",
              "            &lt;/style&gt;\n",
              "        \n",
              "&lt;/head&gt;\n",
              "&lt;body&gt;\n",
              "    \n",
              "    \n",
              "            &lt;div class=&quot;folium-map&quot; id=&quot;map_14e21d0932edaff2b1af62ca4b80f6f7&quot; &gt;&lt;/div&gt;\n",
              "        \n",
              "&lt;/body&gt;\n",
              "&lt;script&gt;\n",
              "    \n",
              "    \n",
              "            var map_14e21d0932edaff2b1af62ca4b80f6f7 = L.map(\n",
              "                &quot;map_14e21d0932edaff2b1af62ca4b80f6f7&quot;,\n",
              "                {\n",
              "                    center: [37.7242361, 15.1789984],\n",
              "                    crs: L.CRS.EPSG3857,\n",
              "                    zoom: 10,\n",
              "                    zoomControl: true,\n",
              "                    preferCanvas: false,\n",
              "                }\n",
              "            );\n",
              "\n",
              "            \n",
              "\n",
              "        \n",
              "    \n",
              "            var tile_layer_e30432df63489079576bdd076a5591fe = L.tileLayer(\n",
              "                &quot;https://tile.openstreetmap.org/{z}/{x}/{y}.png&quot;,\n",
              "                {&quot;attribution&quot;: &quot;\\u0026copy; \\u003ca href=\\&quot;https://www.openstreetmap.org/copyright\\&quot;\\u003eOpenStreetMap\\u003c/a\\u003e contributors&quot;, &quot;detectRetina&quot;: false, &quot;maxNativeZoom&quot;: 19, &quot;maxZoom&quot;: 19, &quot;minZoom&quot;: 0, &quot;noWrap&quot;: false, &quot;opacity&quot;: 1, &quot;subdomains&quot;: &quot;abc&quot;, &quot;tms&quot;: false}\n",
              "            );\n",
              "        \n",
              "    \n",
              "            tile_layer_e30432df63489079576bdd076a5591fe.addTo(map_14e21d0932edaff2b1af62ca4b80f6f7);\n",
              "        \n",
              "    \n",
              "            var marker_3d3bc11ddf4cf119b48ba1fc4d59a1c9 = L.marker(\n",
              "                [37.7242361, 15.1789984],\n",
              "                {}\n",
              "            ).addTo(map_14e21d0932edaff2b1af62ca4b80f6f7);\n",
              "        \n",
              "    \n",
              "        var popup_d127fa731254fe5247cbab29f0e9139a = L.popup({&quot;maxWidth&quot;: &quot;100%&quot;});\n",
              "\n",
              "        \n",
              "            \n",
              "                var html_13ae830993037f252a2ee9309035e04d = $(`&lt;div id=&quot;html_13ae830993037f252a2ee9309035e04d&quot; style=&quot;width: 100.0%; height: 100.0%;&quot;&gt;a good restaurant&lt;/div&gt;`)[0];\n",
              "                popup_d127fa731254fe5247cbab29f0e9139a.setContent(html_13ae830993037f252a2ee9309035e04d);\n",
              "            \n",
              "        \n",
              "\n",
              "        marker_3d3bc11ddf4cf119b48ba1fc4d59a1c9.bindPopup(popup_d127fa731254fe5247cbab29f0e9139a)\n",
              "        ;\n",
              "\n",
              "        \n",
              "    \n",
              "&lt;/script&gt;\n",
              "&lt;/html&gt;\" style=\"position:absolute;width:100%;height:100%;left:0;top:0;border:none !important;\" allowfullscreen webkitallowfullscreen mozallowfullscreen></iframe></div></div>"
            ],
            "text/plain": [
              "<folium.folium.Map at 0x115f1bda0>"
            ]
          },
          "execution_count": 8,
          "metadata": {},
          "output_type": "execute_result"
        }
      ],
      "source": [
        "# Then you can add landmarks and put a clickable comment\n",
        "m = folium.Map(location=point, )\n",
        "folium.Marker(\n",
        "    location=point,\n",
        "    popup='a good restaurant'\n",
        "    ).add_to(m)\n",
        "m"
      ]
    },
    {
      "cell_type": "markdown",
      "metadata": {
        "id": "R1xRs4dlgC2-"
      },
      "source": [
        "# Challenge\n",
        "Here is a DataFrame with restaurants in Catania, Sicily, and their respective addresses. Here is your mission:\n",
        "- Create a new column \"coordinates\", which will store the coordinates corresponding to each address (you can use the function you created previously).\n",
        "- Display a map with the 4 restaurant markers. Be careful, the restaurants are very close, remember to set the default zoom level so that it is clearly legible. You can center the map on the first restaurant. And display the name of the restaurant in the tooltip popup."
      ]
    },
    {
      "cell_type": "code",
      "execution_count": 9,
      "metadata": {
        "colab": {
          "base_uri": "https://localhost:8080/",
          "height": 173
        },
        "id": "J4dQrpdVlzYL",
        "outputId": "67696fa2-3413-4ef4-dd58-3080d8e48d81"
      },
      "outputs": [
        {
          "data": {
            "text/html": [
              "<div>\n",
              "<style scoped>\n",
              "    .dataframe tbody tr th:only-of-type {\n",
              "        vertical-align: middle;\n",
              "    }\n",
              "\n",
              "    .dataframe tbody tr th {\n",
              "        vertical-align: top;\n",
              "    }\n",
              "\n",
              "    .dataframe thead th {\n",
              "        text-align: right;\n",
              "    }\n",
              "</style>\n",
              "<table border=\"1\" class=\"dataframe\">\n",
              "  <thead>\n",
              "    <tr style=\"text-align: right;\">\n",
              "      <th></th>\n",
              "      <th>name</th>\n",
              "      <th>address</th>\n",
              "    </tr>\n",
              "  </thead>\n",
              "  <tbody>\n",
              "    <tr>\n",
              "      <th>0</th>\n",
              "      <td>Gelateria Zio Pietro dal 1964</td>\n",
              "      <td>Via Porta di Ferro, 47, 95131 Catania CT</td>\n",
              "    </tr>\n",
              "    <tr>\n",
              "      <th>1</th>\n",
              "      <td>A Casa d'Amici</td>\n",
              "      <td>Via Fischetti, 14, 95131 Catania CT</td>\n",
              "    </tr>\n",
              "    <tr>\n",
              "      <th>2</th>\n",
              "      <td>La Bitta</td>\n",
              "      <td>Via Acquicella Porto, 95121 Catania CT</td>\n",
              "    </tr>\n",
              "    <tr>\n",
              "      <th>3</th>\n",
              "      <td>Steak House</td>\n",
              "      <td>Via Porta di Ferro, 8, 95100 Catania CT</td>\n",
              "    </tr>\n",
              "  </tbody>\n",
              "</table>\n",
              "</div>"
            ],
            "text/plain": [
              "                            name                                   address\n",
              "0  Gelateria Zio Pietro dal 1964  Via Porta di Ferro, 47, 95131 Catania CT\n",
              "1                 A Casa d'Amici       Via Fischetti, 14, 95131 Catania CT\n",
              "2                       La Bitta    Via Acquicella Porto, 95121 Catania CT\n",
              "3                    Steak House   Via Porta di Ferro, 8, 95100 Catania CT"
            ]
          },
          "execution_count": 9,
          "metadata": {},
          "output_type": "execute_result"
        }
      ],
      "source": [
        "import pandas as pd\n",
        "restaurants = pd.DataFrame([[\"Gelateria Zio Pietro dal 1964\", \"Via Porta di Ferro, 47, 95131 Catania CT\"],\n",
        "                            [\"A Casa d'Amici\",\"Via Fischetti, 14, 95131 Catania CT\"],\n",
        "                            [\"La Bitta\", \"Via Acquicella Porto, 95121 Catania CT\"],\n",
        "                            [\"Steak House\", \"Via Porta di Ferro, 8, 95100 Catania CT\"]\n",
        "                            ],\n",
        "                           columns = [\"name\", \"address\"])\n",
        "\n",
        "restaurants"
      ]
    },
    {
      "cell_type": "code",
      "execution_count": 10,
      "metadata": {
        "id": "Dl5ErL5GyK8-"
      },
      "outputs": [],
      "source": [
        "restaurants['coordinates'] = restaurants['address'].apply(API_address)"
      ]
    },
    {
      "cell_type": "code",
      "execution_count": 11,
      "metadata": {
        "colab": {
          "base_uri": "https://localhost:8080/",
          "height": 173
        },
        "id": "SgO4MaVxyS6K",
        "outputId": "40ecdf21-a085-4ac0-fbbc-4991a1dce09c"
      },
      "outputs": [
        {
          "data": {
            "text/html": [
              "<div>\n",
              "<style scoped>\n",
              "    .dataframe tbody tr th:only-of-type {\n",
              "        vertical-align: middle;\n",
              "    }\n",
              "\n",
              "    .dataframe tbody tr th {\n",
              "        vertical-align: top;\n",
              "    }\n",
              "\n",
              "    .dataframe thead th {\n",
              "        text-align: right;\n",
              "    }\n",
              "</style>\n",
              "<table border=\"1\" class=\"dataframe\">\n",
              "  <thead>\n",
              "    <tr style=\"text-align: right;\">\n",
              "      <th></th>\n",
              "      <th>name</th>\n",
              "      <th>address</th>\n",
              "      <th>coordinates</th>\n",
              "    </tr>\n",
              "  </thead>\n",
              "  <tbody>\n",
              "    <tr>\n",
              "      <th>0</th>\n",
              "      <td>Gelateria Zio Pietro dal 1964</td>\n",
              "      <td>Via Porta di Ferro, 47, 95131 Catania CT</td>\n",
              "      <td>(37.5020931, 15.0931951)</td>\n",
              "    </tr>\n",
              "    <tr>\n",
              "      <th>1</th>\n",
              "      <td>A Casa d'Amici</td>\n",
              "      <td>Via Fischetti, 14, 95131 Catania CT</td>\n",
              "      <td>(37.506171, 15.0943223)</td>\n",
              "    </tr>\n",
              "    <tr>\n",
              "      <th>2</th>\n",
              "      <td>La Bitta</td>\n",
              "      <td>Via Acquicella Porto, 95121 Catania CT</td>\n",
              "      <td>(37.4889155, 15.0833748)</td>\n",
              "    </tr>\n",
              "    <tr>\n",
              "      <th>3</th>\n",
              "      <td>Steak House</td>\n",
              "      <td>Via Porta di Ferro, 8, 95100 Catania CT</td>\n",
              "      <td>(37.5029335, 15.0930406)</td>\n",
              "    </tr>\n",
              "  </tbody>\n",
              "</table>\n",
              "</div>"
            ],
            "text/plain": [
              "                            name                                   address  \\\n",
              "0  Gelateria Zio Pietro dal 1964  Via Porta di Ferro, 47, 95131 Catania CT   \n",
              "1                 A Casa d'Amici       Via Fischetti, 14, 95131 Catania CT   \n",
              "2                       La Bitta    Via Acquicella Porto, 95121 Catania CT   \n",
              "3                    Steak House   Via Porta di Ferro, 8, 95100 Catania CT   \n",
              "\n",
              "                coordinates  \n",
              "0  (37.5020931, 15.0931951)  \n",
              "1   (37.506171, 15.0943223)  \n",
              "2  (37.4889155, 15.0833748)  \n",
              "3  (37.5029335, 15.0930406)  "
            ]
          },
          "execution_count": 11,
          "metadata": {},
          "output_type": "execute_result"
        }
      ],
      "source": [
        "restaurants"
      ]
    },
    {
      "cell_type": "code",
      "execution_count": 12,
      "metadata": {
        "colab": {
          "base_uri": "https://localhost:8080/",
          "height": 1000
        },
        "id": "N54JQ37Gyb7C",
        "outputId": "c8caad5f-0b92-4311-db63-b6a279c12da4"
      },
      "outputs": [
        {
          "data": {
            "text/html": [
              "<div style=\"width:100%;\"><div style=\"position:relative;width:100%;height:0;padding-bottom:60%;\"><span style=\"color:#565656\">Make this Notebook Trusted to load map: File -> Trust Notebook</span><iframe srcdoc=\"&lt;!DOCTYPE html&gt;\n",
              "&lt;html&gt;\n",
              "&lt;head&gt;\n",
              "    \n",
              "    &lt;meta http-equiv=&quot;content-type&quot; content=&quot;text/html; charset=UTF-8&quot; /&gt;\n",
              "    \n",
              "        &lt;script&gt;\n",
              "            L_NO_TOUCH = false;\n",
              "            L_DISABLE_3D = false;\n",
              "        &lt;/script&gt;\n",
              "    \n",
              "    &lt;style&gt;html, body {width: 100%;height: 100%;margin: 0;padding: 0;}&lt;/style&gt;\n",
              "    &lt;style&gt;#map {position:absolute;top:0;bottom:0;right:0;left:0;}&lt;/style&gt;\n",
              "    &lt;script src=&quot;https://cdn.jsdelivr.net/npm/leaflet@1.9.3/dist/leaflet.js&quot;&gt;&lt;/script&gt;\n",
              "    &lt;script src=&quot;https://code.jquery.com/jquery-3.7.1.min.js&quot;&gt;&lt;/script&gt;\n",
              "    &lt;script src=&quot;https://cdn.jsdelivr.net/npm/bootstrap@5.2.2/dist/js/bootstrap.bundle.min.js&quot;&gt;&lt;/script&gt;\n",
              "    &lt;script src=&quot;https://cdnjs.cloudflare.com/ajax/libs/Leaflet.awesome-markers/2.0.2/leaflet.awesome-markers.js&quot;&gt;&lt;/script&gt;\n",
              "    &lt;link rel=&quot;stylesheet&quot; href=&quot;https://cdn.jsdelivr.net/npm/leaflet@1.9.3/dist/leaflet.css&quot;/&gt;\n",
              "    &lt;link rel=&quot;stylesheet&quot; href=&quot;https://cdn.jsdelivr.net/npm/bootstrap@5.2.2/dist/css/bootstrap.min.css&quot;/&gt;\n",
              "    &lt;link rel=&quot;stylesheet&quot; href=&quot;https://netdna.bootstrapcdn.com/bootstrap/3.0.0/css/bootstrap-glyphicons.css&quot;/&gt;\n",
              "    &lt;link rel=&quot;stylesheet&quot; href=&quot;https://cdn.jsdelivr.net/npm/@fortawesome/fontawesome-free@6.2.0/css/all.min.css&quot;/&gt;\n",
              "    &lt;link rel=&quot;stylesheet&quot; href=&quot;https://cdnjs.cloudflare.com/ajax/libs/Leaflet.awesome-markers/2.0.2/leaflet.awesome-markers.css&quot;/&gt;\n",
              "    &lt;link rel=&quot;stylesheet&quot; href=&quot;https://cdn.jsdelivr.net/gh/python-visualization/folium/folium/templates/leaflet.awesome.rotate.min.css&quot;/&gt;\n",
              "    \n",
              "            &lt;meta name=&quot;viewport&quot; content=&quot;width=device-width,\n",
              "                initial-scale=1.0, maximum-scale=1.0, user-scalable=no&quot; /&gt;\n",
              "            &lt;style&gt;\n",
              "                #map_14e21d0932edaff2b1af62ca4b80f6f7 {\n",
              "                    position: relative;\n",
              "                    width: 100.0%;\n",
              "                    height: 100.0%;\n",
              "                    left: 0.0%;\n",
              "                    top: 0.0%;\n",
              "                }\n",
              "                .leaflet-container { font-size: 1rem; }\n",
              "            &lt;/style&gt;\n",
              "        \n",
              "&lt;/head&gt;\n",
              "&lt;body&gt;\n",
              "    \n",
              "    \n",
              "            &lt;div class=&quot;folium-map&quot; id=&quot;map_14e21d0932edaff2b1af62ca4b80f6f7&quot; &gt;&lt;/div&gt;\n",
              "        \n",
              "&lt;/body&gt;\n",
              "&lt;script&gt;\n",
              "    \n",
              "    \n",
              "            var map_14e21d0932edaff2b1af62ca4b80f6f7 = L.map(\n",
              "                &quot;map_14e21d0932edaff2b1af62ca4b80f6f7&quot;,\n",
              "                {\n",
              "                    center: [37.7242361, 15.1789984],\n",
              "                    crs: L.CRS.EPSG3857,\n",
              "                    zoom: 10,\n",
              "                    zoomControl: true,\n",
              "                    preferCanvas: false,\n",
              "                }\n",
              "            );\n",
              "\n",
              "            \n",
              "\n",
              "        \n",
              "    \n",
              "            var tile_layer_e30432df63489079576bdd076a5591fe = L.tileLayer(\n",
              "                &quot;https://tile.openstreetmap.org/{z}/{x}/{y}.png&quot;,\n",
              "                {&quot;attribution&quot;: &quot;\\u0026copy; \\u003ca href=\\&quot;https://www.openstreetmap.org/copyright\\&quot;\\u003eOpenStreetMap\\u003c/a\\u003e contributors&quot;, &quot;detectRetina&quot;: false, &quot;maxNativeZoom&quot;: 19, &quot;maxZoom&quot;: 19, &quot;minZoom&quot;: 0, &quot;noWrap&quot;: false, &quot;opacity&quot;: 1, &quot;subdomains&quot;: &quot;abc&quot;, &quot;tms&quot;: false}\n",
              "            );\n",
              "        \n",
              "    \n",
              "            tile_layer_e30432df63489079576bdd076a5591fe.addTo(map_14e21d0932edaff2b1af62ca4b80f6f7);\n",
              "        \n",
              "    \n",
              "            var marker_3d3bc11ddf4cf119b48ba1fc4d59a1c9 = L.marker(\n",
              "                [37.7242361, 15.1789984],\n",
              "                {}\n",
              "            ).addTo(map_14e21d0932edaff2b1af62ca4b80f6f7);\n",
              "        \n",
              "    \n",
              "        var popup_d127fa731254fe5247cbab29f0e9139a = L.popup({&quot;maxWidth&quot;: &quot;100%&quot;});\n",
              "\n",
              "        \n",
              "            \n",
              "                var html_13ae830993037f252a2ee9309035e04d = $(`&lt;div id=&quot;html_13ae830993037f252a2ee9309035e04d&quot; style=&quot;width: 100.0%; height: 100.0%;&quot;&gt;a good restaurant&lt;/div&gt;`)[0];\n",
              "                popup_d127fa731254fe5247cbab29f0e9139a.setContent(html_13ae830993037f252a2ee9309035e04d);\n",
              "            \n",
              "        \n",
              "\n",
              "        marker_3d3bc11ddf4cf119b48ba1fc4d59a1c9.bindPopup(popup_d127fa731254fe5247cbab29f0e9139a)\n",
              "        ;\n",
              "\n",
              "        \n",
              "    \n",
              "    \n",
              "            tile_layer_e30432df63489079576bdd076a5591fe.addTo(map_14e21d0932edaff2b1af62ca4b80f6f7);\n",
              "        \n",
              "    \n",
              "            var marker_3e2e3ca9deefc4694037aac4a2317945 = L.marker(\n",
              "                [37.5020931, 15.0931951],\n",
              "                {}\n",
              "            ).addTo(map_14e21d0932edaff2b1af62ca4b80f6f7);\n",
              "        \n",
              "    \n",
              "        var popup_78b1285e219b65df49271bcab80749d1 = L.popup({&quot;maxWidth&quot;: &quot;100%&quot;});\n",
              "\n",
              "        \n",
              "            \n",
              "                var html_5993524b56b5f3f26b3102e2d6f6911e = $(`&lt;div id=&quot;html_5993524b56b5f3f26b3102e2d6f6911e&quot; style=&quot;width: 100.0%; height: 100.0%;&quot;&gt;Gelateria Zio Pietro dal 1964&lt;/div&gt;`)[0];\n",
              "                popup_78b1285e219b65df49271bcab80749d1.setContent(html_5993524b56b5f3f26b3102e2d6f6911e);\n",
              "            \n",
              "        \n",
              "\n",
              "        marker_3e2e3ca9deefc4694037aac4a2317945.bindPopup(popup_78b1285e219b65df49271bcab80749d1)\n",
              "        ;\n",
              "\n",
              "        \n",
              "    \n",
              "    \n",
              "            var marker_59554d797a7481d24fc0d178c4fd4c70 = L.marker(\n",
              "                [37.506171, 15.0943223],\n",
              "                {}\n",
              "            ).addTo(map_14e21d0932edaff2b1af62ca4b80f6f7);\n",
              "        \n",
              "    \n",
              "        var popup_b40882905b7b4b54ee779e003b632502 = L.popup({&quot;maxWidth&quot;: &quot;100%&quot;});\n",
              "\n",
              "        \n",
              "            \n",
              "                var html_ed04ca5d8e68cf6c656d3fdf207ce37a = $(`&lt;div id=&quot;html_ed04ca5d8e68cf6c656d3fdf207ce37a&quot; style=&quot;width: 100.0%; height: 100.0%;&quot;&gt;A Casa d&#x27;Amici&lt;/div&gt;`)[0];\n",
              "                popup_b40882905b7b4b54ee779e003b632502.setContent(html_ed04ca5d8e68cf6c656d3fdf207ce37a);\n",
              "            \n",
              "        \n",
              "\n",
              "        marker_59554d797a7481d24fc0d178c4fd4c70.bindPopup(popup_b40882905b7b4b54ee779e003b632502)\n",
              "        ;\n",
              "\n",
              "        \n",
              "    \n",
              "    \n",
              "            var marker_a03fb4b14d720d1642e91f3ea21c2eb7 = L.marker(\n",
              "                [37.4889155, 15.0833748],\n",
              "                {}\n",
              "            ).addTo(map_14e21d0932edaff2b1af62ca4b80f6f7);\n",
              "        \n",
              "    \n",
              "        var popup_0392ae21494fcfdb46dcb49258670ae6 = L.popup({&quot;maxWidth&quot;: &quot;100%&quot;});\n",
              "\n",
              "        \n",
              "            \n",
              "                var html_35f9077ef2f67d7155ac6b7eea869681 = $(`&lt;div id=&quot;html_35f9077ef2f67d7155ac6b7eea869681&quot; style=&quot;width: 100.0%; height: 100.0%;&quot;&gt;La Bitta&lt;/div&gt;`)[0];\n",
              "                popup_0392ae21494fcfdb46dcb49258670ae6.setContent(html_35f9077ef2f67d7155ac6b7eea869681);\n",
              "            \n",
              "        \n",
              "\n",
              "        marker_a03fb4b14d720d1642e91f3ea21c2eb7.bindPopup(popup_0392ae21494fcfdb46dcb49258670ae6)\n",
              "        ;\n",
              "\n",
              "        \n",
              "    \n",
              "    \n",
              "            var marker_40ee8aec3a6cfcc886fe5f2278b43923 = L.marker(\n",
              "                [37.5029335, 15.0930406],\n",
              "                {}\n",
              "            ).addTo(map_14e21d0932edaff2b1af62ca4b80f6f7);\n",
              "        \n",
              "    \n",
              "        var popup_a85dc7775fc9c6d4b5167138b7fe7b35 = L.popup({&quot;maxWidth&quot;: &quot;100%&quot;});\n",
              "\n",
              "        \n",
              "            \n",
              "                var html_ac5dd1bc532aecc059551c1220c7e737 = $(`&lt;div id=&quot;html_ac5dd1bc532aecc059551c1220c7e737&quot; style=&quot;width: 100.0%; height: 100.0%;&quot;&gt;Steak House&lt;/div&gt;`)[0];\n",
              "                popup_a85dc7775fc9c6d4b5167138b7fe7b35.setContent(html_ac5dd1bc532aecc059551c1220c7e737);\n",
              "            \n",
              "        \n",
              "\n",
              "        marker_40ee8aec3a6cfcc886fe5f2278b43923.bindPopup(popup_a85dc7775fc9c6d4b5167138b7fe7b35)\n",
              "        ;\n",
              "\n",
              "        \n",
              "    \n",
              "&lt;/script&gt;\n",
              "&lt;/html&gt;\" style=\"position:absolute;width:100%;height:100%;left:0;top:0;border:none !important;\" allowfullscreen webkitallowfullscreen mozallowfullscreen></iframe></div></div>"
            ],
            "text/plain": [
              "<folium.folium.Map at 0x115f1bda0>"
            ]
          },
          "execution_count": 12,
          "metadata": {},
          "output_type": "execute_result"
        }
      ],
      "source": [
        "for index, row in restaurants.iterrows():\n",
        "  folium.Marker(\n",
        "    location=row['coordinates'],\n",
        "    popup = row['name']\n",
        "    ).add_to(m)\n",
        "m"
      ]
    },
    {
      "cell_type": "markdown",
      "metadata": {
        "id": "5198aDGpHIF2"
      },
      "source": [
        "# Remarks on the Nominatim API\n",
        "As indicated in the quest, there are many resources for geocoding. Most of them are available by registration, and some require a fee.\n",
        "\n",
        "The Nominatim API is free and without registration. The disadvantage is that it is relatively slow. If you need to use it in the future, remember to store the results so you don't have to run it several times.\n",
        "\n",
        "For your knowledge, there is also :\n",
        "- the **reverse** address API, which allows you to find the nearest postal address using geographic coordinates.\n",
        "- the API from a **CSV file** if you have a lot of addresses to geocode\n",
        "- the API **GeoJSON** which allows to obtain a geoJSON format of locations to make choropleth maps\n",
        "\n",
        "\n",
        "All the [documentation is available here](https://nominatim.org/release-docs/develop/api/Search/)."
      ]
    }
  ],
  "metadata": {
    "colab": {
      "provenance": []
    },
    "kernelspec": {
      "display_name": "Python 3",
      "name": "python3"
    },
    "language_info": {
      "codemirror_mode": {
        "name": "ipython",
        "version": 3
      },
      "file_extension": ".py",
      "mimetype": "text/x-python",
      "name": "python",
      "nbconvert_exporter": "python",
      "pygments_lexer": "ipython3",
      "version": "3.12.2"
    }
  },
  "nbformat": 4,
  "nbformat_minor": 0
}
