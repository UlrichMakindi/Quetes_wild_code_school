{
  "cells": [
    {
      "cell_type": "markdown",
      "metadata": {
        "id": "v6t-vvMpLhAJ"
      },
      "source": [
        "# Execute the code below"
      ]
    },
    {
      "cell_type": "code",
      "execution_count": 1,
      "metadata": {
        "colab": {
          "base_uri": "https://localhost:8080/",
          "height": 419
        },
        "id": "lqNi8-C9KhCq",
        "outputId": "c9106d3b-0e01-4a5b-cda3-1108f2c275ab"
      },
      "outputs": [
        {
          "data": {
            "text/html": [
              "<div>\n",
              "<style scoped>\n",
              "    .dataframe tbody tr th:only-of-type {\n",
              "        vertical-align: middle;\n",
              "    }\n",
              "\n",
              "    .dataframe tbody tr th {\n",
              "        vertical-align: top;\n",
              "    }\n",
              "\n",
              "    .dataframe thead th {\n",
              "        text-align: right;\n",
              "    }\n",
              "</style>\n",
              "<table border=\"1\" class=\"dataframe\">\n",
              "  <thead>\n",
              "    <tr style=\"text-align: right;\">\n",
              "      <th></th>\n",
              "      <th>genre</th>\n",
              "      <th>duration_ms</th>\n",
              "      <th>speechiness</th>\n",
              "    </tr>\n",
              "  </thead>\n",
              "  <tbody>\n",
              "    <tr>\n",
              "      <th>0</th>\n",
              "      <td>Country</td>\n",
              "      <td>200013</td>\n",
              "      <td>0.0444</td>\n",
              "    </tr>\n",
              "    <tr>\n",
              "      <th>1</th>\n",
              "      <td>Country</td>\n",
              "      <td>208187</td>\n",
              "      <td>0.0569</td>\n",
              "    </tr>\n",
              "    <tr>\n",
              "      <th>2</th>\n",
              "      <td>Country</td>\n",
              "      <td>123360</td>\n",
              "      <td>0.0960</td>\n",
              "    </tr>\n",
              "    <tr>\n",
              "      <th>3</th>\n",
              "      <td>Country</td>\n",
              "      <td>238600</td>\n",
              "      <td>0.0368</td>\n",
              "    </tr>\n",
              "    <tr>\n",
              "      <th>4</th>\n",
              "      <td>Country</td>\n",
              "      <td>243000</td>\n",
              "      <td>0.0330</td>\n",
              "    </tr>\n",
              "    <tr>\n",
              "      <th>...</th>\n",
              "      <td>...</td>\n",
              "      <td>...</td>\n",
              "      <td>...</td>\n",
              "    </tr>\n",
              "    <tr>\n",
              "      <th>17915</th>\n",
              "      <td>Country</td>\n",
              "      <td>179147</td>\n",
              "      <td>0.0322</td>\n",
              "    </tr>\n",
              "    <tr>\n",
              "      <th>17916</th>\n",
              "      <td>Country</td>\n",
              "      <td>230400</td>\n",
              "      <td>0.0832</td>\n",
              "    </tr>\n",
              "    <tr>\n",
              "      <th>17917</th>\n",
              "      <td>Country</td>\n",
              "      <td>216093</td>\n",
              "      <td>0.0268</td>\n",
              "    </tr>\n",
              "    <tr>\n",
              "      <th>17918</th>\n",
              "      <td>Country</td>\n",
              "      <td>179947</td>\n",
              "      <td>0.0909</td>\n",
              "    </tr>\n",
              "    <tr>\n",
              "      <th>17919</th>\n",
              "      <td>Country</td>\n",
              "      <td>238173</td>\n",
              "      <td>0.0362</td>\n",
              "    </tr>\n",
              "  </tbody>\n",
              "</table>\n",
              "<p>17920 rows × 3 columns</p>\n",
              "</div>"
            ],
            "text/plain": [
              "         genre  duration_ms  speechiness\n",
              "0      Country       200013       0.0444\n",
              "1      Country       208187       0.0569\n",
              "2      Country       123360       0.0960\n",
              "3      Country       238600       0.0368\n",
              "4      Country       243000       0.0330\n",
              "...        ...          ...          ...\n",
              "17915  Country       179147       0.0322\n",
              "17916  Country       230400       0.0832\n",
              "17917  Country       216093       0.0268\n",
              "17918  Country       179947       0.0909\n",
              "17919  Country       238173       0.0362\n",
              "\n",
              "[17920 rows x 3 columns]"
            ]
          },
          "execution_count": 1,
          "metadata": {},
          "output_type": "execute_result"
        }
      ],
      "source": [
        "import pandas as pd\n",
        "import seaborn as sns\n",
        "from sklearn.preprocessing import LabelEncoder\n",
        "\n",
        "url = \"https://raw.githubusercontent.com/murpi/wilddata/master/quests/spotify.zip\"\n",
        "df_music = pd.read_csv(url)\n",
        "df_zoom = df_music.loc[df_music.genre.isin(['Country', 'Classical']), ['genre', 'duration_ms', 'speechiness']].reset_index(drop = True)\n",
        "df_zoom"
      ]
    },
    {
      "cell_type": "code",
      "execution_count": 2,
      "metadata": {
        "colab": {
          "base_uri": "https://localhost:8080/"
        },
        "id": "7-8ZcMAcEtJA",
        "outputId": "d61809b1-3178-4336-edbd-f230f9a8f4e2"
      },
      "outputs": [
        {
          "data": {
            "text/plain": [
              "array(['Country', 'Classical'], dtype=object)"
            ]
          },
          "execution_count": 2,
          "metadata": {},
          "output_type": "execute_result"
        }
      ],
      "source": [
        "df_zoom['genre'].unique()"
      ]
    },
    {
      "cell_type": "markdown",
      "metadata": {
        "id": "GUc_ToyALjdJ"
      },
      "source": [
        "# Standardization and classification\n",
        "\n",
        "You now have a dataset with Country and Classical musics, and 2 numerical features : duration and speechiness.\n",
        "Our goal will be to predict genre from numerical features."
      ]
    },
    {
      "cell_type": "markdown",
      "metadata": {
        "id": "ZIbWjlGyMIV1"
      },
      "source": [
        "## Draw a scatterplot from df_zoom with\n",
        "- 'duration_ms' on X axis\n",
        "- 'speechiness' on Y axis\n",
        "- 'genre' in hue"
      ]
    },
    {
      "cell_type": "code",
      "execution_count": 3,
      "metadata": {
        "colab": {
          "base_uri": "https://localhost:8080/",
          "height": 467
        },
        "id": "_BJLKhdjMY8N",
        "outputId": "c1d81f41-fb55-46e0-ef86-eb6580bda190"
      },
      "outputs": [
        {
          "data": {
            "text/plain": [
              "<Axes: xlabel='duration_ms', ylabel='speechiness'>"
            ]
          },
          "execution_count": 3,
          "metadata": {},
          "output_type": "execute_result"
        },
        {
          "data": {
            "image/png": "[encoded data removed]",
            "text/plain": [
              "<Figure size 640x480 with 1 Axes>"
            ]
          },
          "metadata": {},
          "output_type": "display_data"
        }
      ],
      "source": [
        "# Your code here :\n",
        "sns.scatterplot(df_zoom, x = 'duration_ms', y = 'speechiness', hue = 'genre')"
      ]
    },
    {
      "cell_type": "markdown",
      "metadata": {
        "id": "bWh5LxO6MjkA"
      },
      "source": [
        "## Classification\n",
        "From df_zoom :\n",
        "- define X (`duration_ms` and `speechiness`)\n",
        "- define y (`genre`)\n",
        "- split your datas into train and test datasets, and `random_state = 2`\n",
        "- perform 3 classification algorithms (Logistic Regression, KNN and Decision Tree)\n",
        "- score your 3 models with accuracy score on the train dataset and on the test dataset\n"
      ]
    },
    {
      "cell_type": "code",
      "execution_count": 4,
      "metadata": {
        "id": "7alacR9vGR60"
      },
      "outputs": [],
      "source": [
        "from sklearn.model_selection import train_test_split\n",
        "from sklearn.linear_model import LogisticRegression\n",
        "from sklearn.neighbors import KNeighborsClassifier\n",
        "from sklearn.tree import DecisionTreeRegressor\n",
        "from sklearn import tree\n",
        "from sklearn.metrics import accuracy_score, r2_score"
      ]
    },
    {
      "cell_type": "code",
      "execution_count": 5,
      "metadata": {
        "id": "4aD1v6vnVAIK"
      },
      "outputs": [],
      "source": [
        "df_zoom['genre_encoded'] = LabelEncoder().fit_transform(df_zoom['genre'])"
      ]
    },
    {
      "cell_type": "code",
      "execution_count": 6,
      "metadata": {
        "colab": {
          "base_uri": "https://localhost:8080/"
        },
        "id": "-qAYEO6QN6ta",
        "outputId": "b14f622c-8fe7-433e-a317-090dfcc4e78f"
      },
      "outputs": [
        {
          "name": "stdout",
          "output_type": "stream",
          "text": [
            "test_score_LR : 0.50982\n"
          ]
        }
      ],
      "source": [
        "# Your code here :\n",
        "\"\"\"\n",
        "regression logistique\n",
        "sépéaration du jeu de données en deux datasets\n",
        "entrainement des jeux de données\n",
        "affichage des scores train et test\n",
        "\n",
        "\"\"\"\n",
        "\n",
        "\n",
        "X = df_zoom[['duration_ms', 'speechiness']]\n",
        "y = df_zoom['genre_encoded']\n",
        "\n",
        "X_train, X_test, y_train, y_test = train_test_split(X, y, test_size = 0.25, random_state = 2)\n",
        "\n",
        "modelLR = LogisticRegression().fit(X_train,y_train)\n",
        "\n",
        "train_score_LR = modelLR.score(X_train,y_train)\n",
        "test_score_LR = modelLR.score(X_test, y_test)\n",
        "\n",
        "print('test_score_LR :', round(test_score_LR, 5))"
      ]
    },
    {
      "cell_type": "code",
      "execution_count": 7,
      "metadata": {
        "colab": {
          "base_uri": "https://localhost:8080/"
        },
        "id": "8ohENYZqIqW1",
        "outputId": "ff577d96-2fd2-4d67-8f58-e6f0ab21e062"
      },
      "outputs": [
        {
          "name": "stdout",
          "output_type": "stream",
          "text": [
            "test_score_KN : 0.7127232142857143\n"
          ]
        }
      ],
      "source": [
        "\"\"\" KNN \"\"\"\n",
        "\n",
        "modelKN =  KNeighborsClassifier().fit(X_train,y_train)\n",
        "\n",
        "train_score_KN = modelKN.score(X_train,y_train)\n",
        "test_score_KN = modelKN.score(X_test, y_test)\n",
        "\n",
        "print('test_score_KN :', test_score_KN)"
      ]
    },
    {
      "cell_type": "code",
      "execution_count": 17,
      "metadata": {
        "colab": {
          "base_uri": "https://localhost:8080/"
        },
        "id": "rjcwHzeLKDDH",
        "outputId": "bdf75e29-25a6-4c1b-e98b-0eeebe312a62"
      },
      "outputs": [
        {
          "name": "stdout",
          "output_type": "stream",
          "text": [
            "0.9995529427543197 -0.0521916938614706 0.7364311018641997\n"
          ]
        }
      ],
      "source": [
        "\"\"\" decision tree \"\"\"\n",
        "\n",
        "from sklearn.preprocessing import LabelEncoder\n",
        "\n",
        "modelDTR = DecisionTreeRegressor()\n",
        "modelDTR.fit(X_train, y_train)\n",
        "\n",
        "train_score_DTR = modelDTR.score(X_train,y_train)\n",
        "test_score_DTR = modelDTR.score(X_test, y_test)\n",
        "\n",
        "score = modelDTR.score(X,y)\n",
        "print(train_score_DTR, test_score_DTR, score)"
      ]
    },
    {
      "cell_type": "markdown",
      "metadata": {
        "id": "b9zPpxjhOWrJ"
      },
      "source": [
        "\n",
        "You have to find these accuracy scores for test set :\n",
        "- Logistic regression : 0.50982\n",
        "- KNN : 0.71295\n",
        "- Decision tree : 0.73728\n",
        "\n",
        "It seems Decision tree is better, but did you look at the overfitting ?"
      ]
    },
    {
      "cell_type": "markdown",
      "metadata": {
        "id": "Fqe6OCZrOg5f"
      },
      "source": [
        "## Standardization\n",
        "\n",
        "- Fit your scaler model on X_train\n",
        "- Transform X_train and X_test  with your scaler model into  X_train_scaled and X_test_scaled\n",
        "- perform and score the same 3 classification algorithms, but with X_train_scaled and X_test_scaled"
      ]
    },
    {
      "cell_type": "code",
      "execution_count": 9,
      "metadata": {
        "id": "isjZWoE0YXYV"
      },
      "outputs": [],
      "source": [
        "from sklearn.preprocessing import StandardScaler\n",
        "scaler = StandardScaler()"
      ]
    },
    {
      "cell_type": "code",
      "execution_count": 10,
      "metadata": {
        "id": "fO_T_Ma7PJR7"
      },
      "outputs": [],
      "source": [
        "# Your code here :\n",
        "scaler = StandardScaler()\n",
        "\n",
        "X_train_scaled = scaler.fit_transform(X_train)\n",
        "X_test_scaled = scaler.fit_transform(X_test)"
      ]
    },
    {
      "cell_type": "code",
      "execution_count": 11,
      "metadata": {
        "colab": {
          "base_uri": "https://localhost:8080/"
        },
        "id": "TChlnEvJzBJU",
        "outputId": "43270b93-15ca-4845-f42e-f92207493068"
      },
      "outputs": [
        {
          "name": "stdout",
          "output_type": "stream",
          "text": [
            "test_score_LR : 0.6694196428571428\n"
          ]
        }
      ],
      "source": [
        "\"\"\" logistic regression \"\"\"\n",
        "\n",
        "modelLR = LogisticRegression().fit(X_train_scaled,y_train)\n",
        "train_score_LR = modelLR.score(X_train_scaled,y_train)\n",
        "test_score_LR = modelLR.score(X_test_scaled, y_test)\n",
        "\n",
        "print('test_score_LR :', test_score_LR)"
      ]
    },
    {
      "cell_type": "code",
      "execution_count": 12,
      "metadata": {
        "colab": {
          "base_uri": "https://localhost:8080/"
        },
        "id": "Np1kGccM1NLm",
        "outputId": "919cc717-dd1e-4ce2-d3d3-5a1bcae1de09"
      },
      "outputs": [
        {
          "name": "stdout",
          "output_type": "stream",
          "text": [
            "test_score_KN : 0.7796875\n"
          ]
        }
      ],
      "source": [
        "\"\"\" KNN \"\"\"\n",
        "\n",
        "modelKN =  KNeighborsClassifier().fit(X_train_scaled,y_train)\n",
        "train_score_KN = modelKN.score(X_train_scaled,y_train)\n",
        "test_score_KN = modelKN.score(X_test_scaled, y_test)\n",
        "\n",
        "print('test_score_KN :', test_score_KN)"
      ]
    },
    {
      "cell_type": "code",
      "execution_count": 13,
      "metadata": {
        "colab": {
          "base_uri": "https://localhost:8080/"
        },
        "id": "smF80U9x3I0t",
        "outputId": "e317311d-3766-40e0-dde8-289654938776"
      },
      "outputs": [
        {
          "name": "stderr",
          "output_type": "stream",
          "text": [
            "/usr/local/anaconda3/lib/python3.11/site-packages/sklearn/base.py:457: UserWarning: X has feature names, but DecisionTreeRegressor was fitted without feature names\n",
            "  warnings.warn(\n"
          ]
        },
        {
          "data": {
            "text/plain": [
              "-0.9344772794926861"
            ]
          },
          "execution_count": 13,
          "metadata": {},
          "output_type": "execute_result"
        }
      ],
      "source": [
        "modelDTR.fit(X_train_scaled, y_train)\n",
        "\n",
        "train_score_DTR = modelDTR.score(X_train_scaled,y_train)\n",
        "test_score_DTR = modelDTR.score(X_test_scaled, y_test)\n",
        "\n",
        "score = modelDTR.score(X,y)\n",
        "score"
      ]
    },
    {
      "cell_type": "markdown",
      "metadata": {
        "id": "g0ehPzz2PK3r"
      },
      "source": [
        "# Conclusion\n",
        "- Decision tree is insensitive to Standardization.\n",
        "- Logistic regression and KNN have better result after Standardization.\n",
        "\n",
        "\n",
        "We can remember that standardization is always good in preprocessing, before machine learning classifications and regressions. At worst, it does not change anything. At best, it improves results."
      ]
    }
  ],
  "metadata": {
    "colab": {
      "provenance": []
    },
    "kernelspec": {
      "display_name": "Python 3",
      "name": "python3"
    },
    "language_info": {
      "codemirror_mode": {
        "name": "ipython",
        "version": 3
      },
      "file_extension": ".py",
      "mimetype": "text/x-python",
      "name": "python",
      "nbconvert_exporter": "python",
      "pygments_lexer": "ipython3",
      "version": "3.11.5"
    }
  },
  "nbformat": 4,
  "nbformat_minor": 0
}
