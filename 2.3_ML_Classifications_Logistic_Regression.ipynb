{
  "cells": [
    {
      "cell_type": "markdown",
      "metadata": {
        "id": "1Ap1mtkdiXwS"
      },
      "source": [
        "# Execute the code below\n",
        "You will get a passenger list of the titanic."
      ]
    },
    {
      "cell_type": "code",
      "execution_count": 37,
      "metadata": {
        "id": "4MxBOWLWD67O"
      },
      "outputs": [],
      "source": [
        "import pandas as pd\n",
        "import seaborn as sns\n",
        "import numpy as np\n",
        "import matplotlib.pyplot as plt\n",
        "import plotly.express as px"
      ]
    },
    {
      "cell_type": "code",
      "execution_count": 38,
      "metadata": {
        "colab": {
          "base_uri": "https://localhost:8080/",
          "height": 204
        },
        "id": "53zP-4uyicEu",
        "outputId": "23e5b1dd-0e5d-4c6a-a8f2-7371715b6d5e"
      },
      "outputs": [
        {
          "data": {
            "text/html": [
              "<div>\n",
              "<style scoped>\n",
              "    .dataframe tbody tr th:only-of-type {\n",
              "        vertical-align: middle;\n",
              "    }\n",
              "\n",
              "    .dataframe tbody tr th {\n",
              "        vertical-align: top;\n",
              "    }\n",
              "\n",
              "    .dataframe thead th {\n",
              "        text-align: right;\n",
              "    }\n",
              "</style>\n",
              "<table border=\"1\" class=\"dataframe\">\n",
              "  <thead>\n",
              "    <tr style=\"text-align: right;\">\n",
              "      <th></th>\n",
              "      <th>Survived</th>\n",
              "      <th>Pclass</th>\n",
              "      <th>Name</th>\n",
              "      <th>Sex</th>\n",
              "      <th>Age</th>\n",
              "      <th>Siblings/Spouses Aboard</th>\n",
              "      <th>Parents/Children Aboard</th>\n",
              "      <th>Fare</th>\n",
              "    </tr>\n",
              "  </thead>\n",
              "  <tbody>\n",
              "    <tr>\n",
              "      <th>0</th>\n",
              "      <td>Dead</td>\n",
              "      <td>3</td>\n",
              "      <td>Mr. Owen Harris Braund</td>\n",
              "      <td>male</td>\n",
              "      <td>22.0</td>\n",
              "      <td>1</td>\n",
              "      <td>0</td>\n",
              "      <td>7.2500</td>\n",
              "    </tr>\n",
              "    <tr>\n",
              "      <th>1</th>\n",
              "      <td>Survived</td>\n",
              "      <td>1</td>\n",
              "      <td>Mrs. John Bradley (Florence Briggs Thayer) Cum...</td>\n",
              "      <td>female</td>\n",
              "      <td>38.0</td>\n",
              "      <td>1</td>\n",
              "      <td>0</td>\n",
              "      <td>71.2833</td>\n",
              "    </tr>\n",
              "    <tr>\n",
              "      <th>2</th>\n",
              "      <td>Survived</td>\n",
              "      <td>3</td>\n",
              "      <td>Miss. Laina Heikkinen</td>\n",
              "      <td>female</td>\n",
              "      <td>26.0</td>\n",
              "      <td>0</td>\n",
              "      <td>0</td>\n",
              "      <td>7.9250</td>\n",
              "    </tr>\n",
              "    <tr>\n",
              "      <th>3</th>\n",
              "      <td>Survived</td>\n",
              "      <td>1</td>\n",
              "      <td>Mrs. Jacques Heath (Lily May Peel) Futrelle</td>\n",
              "      <td>female</td>\n",
              "      <td>35.0</td>\n",
              "      <td>1</td>\n",
              "      <td>0</td>\n",
              "      <td>53.1000</td>\n",
              "    </tr>\n",
              "    <tr>\n",
              "      <th>4</th>\n",
              "      <td>Dead</td>\n",
              "      <td>3</td>\n",
              "      <td>Mr. William Henry Allen</td>\n",
              "      <td>male</td>\n",
              "      <td>35.0</td>\n",
              "      <td>0</td>\n",
              "      <td>0</td>\n",
              "      <td>8.0500</td>\n",
              "    </tr>\n",
              "  </tbody>\n",
              "</table>\n",
              "</div>"
            ],
            "text/plain": [
              "   Survived  Pclass                                               Name  \\\n",
              "0      Dead       3                             Mr. Owen Harris Braund   \n",
              "1  Survived       1  Mrs. John Bradley (Florence Briggs Thayer) Cum...   \n",
              "2  Survived       3                              Miss. Laina Heikkinen   \n",
              "3  Survived       1        Mrs. Jacques Heath (Lily May Peel) Futrelle   \n",
              "4      Dead       3                            Mr. William Henry Allen   \n",
              "\n",
              "      Sex   Age  Siblings/Spouses Aboard  Parents/Children Aboard     Fare  \n",
              "0    male  22.0                        1                        0   7.2500  \n",
              "1  female  38.0                        1                        0  71.2833  \n",
              "2  female  26.0                        0                        0   7.9250  \n",
              "3  female  35.0                        1                        0  53.1000  \n",
              "4    male  35.0                        0                        0   8.0500  "
            ]
          },
          "execution_count": 38,
          "metadata": {},
          "output_type": "execute_result"
        }
      ],
      "source": [
        "link = \"https://raw.githubusercontent.com/murpi/wilddata/master/quests/titanic.csv\"\n",
        "df_titanic = pd.read_csv(link)\n",
        "df_titanic['Survived'] = df_titanic['Survived'].apply(lambda x: \"Survived\" if x == 1 else \"Dead\")\n",
        "df_titanic.head()"
      ]
    },
    {
      "cell_type": "code",
      "execution_count": 39,
      "metadata": {
        "colab": {
          "base_uri": "https://localhost:8080/",
          "height": 696
        },
        "id": "PH6zn8G_TSka",
        "outputId": "d45c486c-ed6c-4ee0-ec22-dc0e11d8e404"
      },
      "outputs": [
        {
          "data": {
            "image/png": "[encoded data removed]",
            "text/plain": [
              "<Figure size 800x800 with 2 Axes>"
            ]
          },
          "metadata": {},
          "output_type": "display_data"
        }
      ],
      "source": [
        "# @title Survived vs Sex\n",
        "\n",
        "from matplotlib import pyplot as plt\n",
        "import seaborn as sns\n",
        "import pandas as pd\n",
        "plt.subplots(figsize=(8, 8))\n",
        "df_2dhist = pd.DataFrame({\n",
        "    x_label: grp['Sex'].value_counts()\n",
        "    for x_label, grp in df_titanic.groupby('Survived')\n",
        "})\n",
        "sns.heatmap(df_2dhist, cmap='viridis')\n",
        "plt.xlabel('Survived')\n",
        "_ = plt.ylabel('Sex')"
      ]
    },
    {
      "cell_type": "code",
      "execution_count": 40,
      "metadata": {
        "colab": {
          "base_uri": "https://localhost:8080/",
          "height": 452
        },
        "id": "Of06tkcXS41p",
        "outputId": "cccbba5b-7b46-447f-d1ac-7d0efe85f69c"
      },
      "outputs": [
        {
          "data": {
            "image/png": "[encoded data removed]",
            "text/plain": [
              "<Figure size 640x480 with 1 Axes>"
            ]
          },
          "metadata": {},
          "output_type": "display_data"
        }
      ],
      "source": [
        "# @title Age\n",
        "\n",
        "from matplotlib import pyplot as plt\n",
        "df_titanic['Age'].plot(kind='hist', bins=20, title='Age')\n",
        "plt.gca().spines[['top', 'right',]].set_visible(False)"
      ]
    },
    {
      "cell_type": "markdown",
      "metadata": {
        "id": "wPKc4UTfjM7t"
      },
      "source": [
        "# Data preparation"
      ]
    },
    {
      "cell_type": "markdown",
      "metadata": {
        "id": "ew_BixpIjRl1"
      },
      "source": [
        "What are the \"type\" of each column? Are there non-numeric columns?"
      ]
    },
    {
      "cell_type": "code",
      "execution_count": 41,
      "metadata": {
        "colab": {
          "base_uri": "https://localhost:8080/"
        },
        "id": "0LCDhqijixTR",
        "outputId": "95f5d0cf-b564-4fba-a009-e088d2cd6d66"
      },
      "outputs": [
        {
          "name": "stdout",
          "output_type": "stream",
          "text": [
            "<class 'pandas.core.frame.DataFrame'>\n",
            "RangeIndex: 887 entries, 0 to 886\n",
            "Data columns (total 8 columns):\n",
            " #   Column                   Non-Null Count  Dtype  \n",
            "---  ------                   --------------  -----  \n",
            " 0   Survived                 887 non-null    object \n",
            " 1   Pclass                   887 non-null    int64  \n",
            " 2   Name                     887 non-null    object \n",
            " 3   Sex                      887 non-null    object \n",
            " 4   Age                      887 non-null    float64\n",
            " 5   Siblings/Spouses Aboard  887 non-null    int64  \n",
            " 6   Parents/Children Aboard  887 non-null    int64  \n",
            " 7   Fare                     887 non-null    float64\n",
            "dtypes: float64(2), int64(3), object(3)\n",
            "memory usage: 55.6+ KB\n"
          ]
        }
      ],
      "source": [
        "# What are the \"type\" of each column?\n",
        "df_titanic.info()"
      ]
    },
    {
      "cell_type": "markdown",
      "metadata": {
        "id": "bHR5fxjtmcWN"
      },
      "source": [
        "Then, make a first exploration (pairplots, correlation heatmaps, etc...) of the dataset"
      ]
    },
    {
      "cell_type": "code",
      "execution_count": 42,
      "metadata": {
        "colab": {
          "base_uri": "https://localhost:8080/",
          "height": 542
        },
        "id": "0hyLZ_pYnJYs",
        "outputId": "28366a8a-051e-403d-b7e5-66c3f0cf4720"
      },
      "outputs": [
        {
          "data": {
            "application/vnd.plotly.v1+json": {
              "config": {
                "plotlyServerURL": "https://plot.ly"
              },
              "data": [
                {
                  "coloraxis": "coloraxis",
                  "hovertemplate": "x: %{x}<br>y: %{y}<br>color: %{z}<extra></extra>",
                  "name": "0",
                  "type": "heatmap",
                  "x": [
                    "Survived",
                    "Pclass",
                    "Name",
                    "Sex",
                    "Age",
                    "Siblings/Spouses Aboard",
                    "Parents/Children Aboard",
                    "Fare"
                  ],
                  "xaxis": "x",
                  "y": [
                    0,
                    1,
                    2,
                    3,
                    4,
                    5,
                    6,
                    7,
                    8,
                    9,
                    10,
                    11,
                    12,
                    13,
                    14,
                    15,
                    16,
                    17,
                    18,
                    19,
                    20,
                    21,
                    22,
                    23,
                    24,
                    25,
                    26,
                    27,
                    28,
                    29,
                    30,
                    31,
                    32,
                    33,
                    34,
                    35,
                    36,
                    37,
                    38,
                    39,
                    40,
                    41,
                    42,
                    43,
                    44,
                    45,
                    46,
                    47,
                    48,
                    49,
                    50,
                    51,
                    52,
                    53,
                    54,
                    55,
                    56,
                    57,
                    58,
                    59,
                    60,
                    61,
                    62,
                    63,
                    64,
                    65,
                    66,
                    67,
                    68,
                    69,
                    70,
                    71,
                    72,
                    73,
                    74,
                    75,
                    76,
                    77,
                    78,
                    79,
                    80,
                    81,
                    82,
                    83,
                    84,
                    85,
                    86,
                    87,
                    88,
                    89,
                    90,
                    91,
                    92,
                    93,
                    94,
                    95,
                    96,
                    97,
                    98,
                    99,
                    100,
                    101,
                    102,
                    103,
                    104,
                    105,
                    106,
                    107,
                    108,
                    109,
                    110,
                    111,
                    112,
                    113,
                    114,
                    115,
                    116,
                    117,
                    118,
                    119,
                    120,
                    121,
                    122,
                    123,
                    124,
                    125,
                    126,
                    127,
                    128,
                    129,
                    130,
                    131,
                    132,
                    133,
                    134,
                    135,
                    136,
                    137,
                    138,
                    139,
                    140,
                    141,
                    142,
                    143,
                    144,
                    145,
                    146,
                    147,
                    148,
                    149,
                    150,
                    151,
                    152,
                    153,
                    154,
                    155,
                    156,
                    157,
                    158,
                    159,
                    160,
                    161,
                    162,
                    163,
                    164,
                    165,
                    166,
                    167,
                    168,
                    169,
                    170,
                    171,
                    172,
                    173,
                    174,
                    175,
                    176,
                    177,
                    178,
                    179,
                    180,
                    181,
                    182,
                    183,
                    184,
                    185,
                    186,
                    187,
                    188,
                    189,
                    190,
                    191,
                    192,
                    193,
                    194,
                    195,
                    196,
                    197,
                    198,
                    199,
                    200,
                    201,
                    202,
                    203,
                    204,
                    205,
                    206,
                    207,
                    208,
                    209,
                    210,
                    211,
                    212,
                    213,
                    214,
                    215,
                    216,
                    217,
                    218,
                    219,
                    220,
                    221,
                    222,
                    223,
                    224,
                    225,
                    226,
                    227,
                    228,
                    229,
                    230,
                    231,
                    232,
                    233,
                    234,
                    235,
                    236,
                    237,
                    238,
                    239,
                    240,
                    241,
                    242,
                    243,
                    244,
                    245,
                    246,
                    247,
                    248,
                    249,
                    250,
                    251,
                    252,
                    253,
                    254,
                    255,
                    256,
                    257,
                    258,
                    259,
                    260,
                    261,
                    262,
                    263,
                    264,
                    265,
                    266,
                    267,
                    268,
                    269,
                    270,
                    271,
                    272,
                    273,
                    274,
                    275,
                    276,
                    277,
                    278,
                    279,
                    280,
                    281,
                    282,
                    283,
                    284,
                    285,
                    286,
                    287,
                    288,
                    289,
                    290,
                    291,
                    292,
                    293,
                    294,
                    295,
                    296,
                    297,
                    298,
                    299,
                    300,
                    301,
                    302,
                    303,
                    304,
                    305,
                    306,
                    307,
                    308,
                    309,
                    310,
                    311,
                    312,
                    313,
                    314,
                    315,
                    316,
                    317,
                    318,
                    319,
                    320,
                    321,
                    322,
                    323,
                    324,
                    325,
                    326,
                    327,
                    328,
                    329,
                    330,
                    331,
                    332,
                    333,
                    334,
                    335,
                    336,
                    337,
                    338,
                    339,
                    340,
                    341,
                    342,
                    343,
                    344,
                    345,
                    346,
                    347,
                    348,
                    349,
                    350,
                    351,
                    352,
                    353,
                    354,
                    355,
                    356,
                    357,
                    358,
                    359,
                    360,
                    361,
                    362,
                    363,
                    364,
                    365,
                    366,
                    367,
                    368,
                    369,
                    370,
                    371,
                    372,
                    373,
                    374,
                    375,
                    376,
                    377,
                    378,
                    379,
                    380,
                    381,
                    382,
                    383,
                    384,
                    385,
                    386,
                    387,
                    388,
                    389,
                    390,
                    391,
                    392,
                    393,
                    394,
                    395,
                    396,
                    397,
                    398,
                    399,
                    400,
                    401,
                    402,
                    403,
                    404,
                    405,
                    406,
                    407,
                    408,
                    409,
                    410,
                    411,
                    412,
                    413,
                    414,
                    415,
                    416,
                    417,
                    418,
                    419,
                    420,
                    421,
                    422,
                    423,
                    424,
                    425,
                    426,
                    427,
                    428,
                    429,
                    430,
                    431,
                    432,
                    433,
                    434,
                    435,
                    436,
                    437,
                    438,
                    439,
                    440,
                    441,
                    442,
                    443,
                    444,
                    445,
                    446,
                    447,
                    448,
                    449,
                    450,
                    451,
                    452,
                    453,
                    454,
                    455,
                    456,
                    457,
                    458,
                    459,
                    460,
                    461,
                    462,
                    463,
                    464,
                    465,
                    466,
                    467,
                    468,
                    469,
                    470,
                    471,
                    472,
                    473,
                    474,
                    475,
                    476,
                    477,
                    478,
                    479,
                    480,
                    481,
                    482,
                    483,
                    484,
                    485,
                    486,
                    487,
                    488,
                    489,
                    490,
                    491,
                    492,
                    493,
                    494,
                    495,
                    496,
                    497,
                    498,
                    499,
                    500,
                    501,
                    502,
                    503,
                    504,
                    505,
                    506,
                    507,
                    508,
                    509,
                    510,
                    511,
                    512,
                    513,
                    514,
                    515,
                    516,
                    517,
                    518,
                    519,
                    520,
                    521,
                    522,
                    523,
                    524,
                    525,
                    526,
                    527,
                    528,
                    529,
                    530,
                    531,
                    532,
                    533,
                    534,
                    535,
                    536,
                    537,
                    538,
                    539,
                    540,
                    541,
                    542,
                    543,
                    544,
                    545,
                    546,
                    547,
                    548,
                    549,
                    550,
                    551,
                    552,
                    553,
                    554,
                    555,
                    556,
                    557,
                    558,
                    559,
                    560,
                    561,
                    562,
                    563,
                    564,
                    565,
                    566,
                    567,
                    568,
                    569,
                    570,
                    571,
                    572,
                    573,
                    574,
                    575,
                    576,
                    577,
                    578,
                    579,
                    580,
                    581,
                    582,
                    583,
                    584,
                    585,
                    586,
                    587,
                    588,
                    589,
                    590,
                    591,
                    592,
                    593,
                    594,
                    595,
                    596,
                    597,
                    598,
                    599,
                    600,
                    601,
                    602,
                    603,
                    604,
                    605,
                    606,
                    607,
                    608,
                    609,
                    610,
                    611,
                    612,
                    613,
                    614,
                    615,
                    616,
                    617,
                    618,
                    619,
                    620,
                    621,
                    622,
                    623,
                    624,
                    625,
                    626,
                    627,
                    628,
                    629,
                    630,
                    631,
                    632,
                    633,
                    634,
                    635,
                    636,
                    637,
                    638,
                    639,
                    640,
                    641,
                    642,
                    643,
                    644,
                    645,
                    646,
                    647,
                    648,
                    649,
                    650,
                    651,
                    652,
                    653,
                    654,
                    655,
                    656,
                    657,
                    658,
                    659,
                    660,
                    661,
                    662,
                    663,
                    664,
                    665,
                    666,
                    667,
                    668,
                    669,
                    670,
                    671,
                    672,
                    673,
                    674,
                    675,
                    676,
                    677,
                    678,
                    679,
                    680,
                    681,
                    682,
                    683,
                    684,
                    685,
                    686,
                    687,
                    688,
                    689,
                    690,
                    691,
                    692,
                    693,
                    694,
                    695,
                    696,
                    697,
                    698,
                    699,
                    700,
                    701,
                    702,
                    703,
                    704,
                    705,
                    706,
                    707,
                    708,
                    709,
                    710,
                    711,
                    712,
                    713,
                    714,
                    715,
                    716,
                    717,
                    718,
                    719,
                    720,
                    721,
                    722,
                    723,
                    724,
                    725,
                    726,
                    727,
                    728,
                    729,
                    730,
                    731,
                    732,
                    733,
                    734,
                    735,
                    736,
                    737,
                    738,
                    739,
                    740,
                    741,
                    742,
                    743,
                    744,
                    745,
                    746,
                    747,
                    748,
                    749,
                    750,
                    751,
                    752,
                    753,
                    754,
                    755,
                    756,
                    757,
                    758,
                    759,
                    760,
                    761,
                    762,
                    763,
                    764,
                    765,
                    766,
                    767,
                    768,
                    769,
                    770,
                    771,
                    772,
                    773,
                    774,
                    775,
                    776,
                    777,
                    778,
                    779,
                    780,
                    781,
                    782,
                    783,
                    784,
                    785,
                    786,
                    787,
                    788,
                    789,
                    790,
                    791,
                    792,
                    793,
                    794,
                    795,
                    796,
                    797,
                    798,
                    799,
                    800,
                    801,
                    802,
                    803,
                    804,
                    805,
                    806,
                    807,
                    808,
                    809,
                    810,
                    811,
                    812,
                    813,
                    814,
                    815,
                    816,
                    817,
                    818,
                    819,
                    820,
                    821,
                    822,
                    823,
                    824,
                    825,
                    826,
                    827,
                    828,
                    829,
                    830,
                    831,
                    832,
                    833,
                    834,
                    835,
                    836,
                    837,
                    838,
                    839,
                    840,
                    841,
                    842,
                    843,
                    844,
                    845,
                    846,
                    847,
                    848,
                    849,
                    850,
                    851,
                    852,
                    853,
                    854,
                    855,
                    856,
                    857,
                    858,
                    859,
                    860,
                    861,
                    862,
                    863,
                    864,
                    865,
                    866,
                    867,
                    868,
                    869,
                    870,
                    871,
                    872,
                    873,
                    874,
                    875,
                    876,
                    877,
                    878,
                    879,
                    880,
                    881,
                    882,
                    883,
                    884,
                    885,
                    886
                  ],
                  "yaxis": "y",
                  "z": [
                    [
                      "Dead",
                      3,
                      "Mr. Owen Harris Braund",
                      "male",
                      22,
                      1,
                      0,
                      7.25
                    ],
                    [
                      "Survived",
                      1,
                      "Mrs. John Bradley (Florence Briggs Thayer) Cumings",
                      "female",
                      38,
                      1,
                      0,
                      71.2833
                    ],
                    [
                      "Survived",
                      3,
                      "Miss. Laina Heikkinen",
                      "female",
                      26,
                      0,
                      0,
                      7.925
                    ],
                    [
                      "Survived",
                      1,
                      "Mrs. Jacques Heath (Lily May Peel) Futrelle",
                      "female",
                      35,
                      1,
                      0,
                      53.1
                    ],
                    [
                      "Dead",
                      3,
                      "Mr. William Henry Allen",
                      "male",
                      35,
                      0,
                      0,
                      8.05
                    ],
                    [
                      "Dead",
                      3,
                      "Mr. James Moran",
                      "male",
                      27,
                      0,
                      0,
                      8.4583
                    ],
                    [
                      "Dead",
                      1,
                      "Mr. Timothy J McCarthy",
                      "male",
                      54,
                      0,
                      0,
                      51.8625
                    ],
                    [
                      "Dead",
                      3,
                      "Master. Gosta Leonard Palsson",
                      "male",
                      2,
                      3,
                      1,
                      21.075
                    ],
                    [
                      "Survived",
                      3,
                      "Mrs. Oscar W (Elisabeth Vilhelmina Berg) Johnson",
                      "female",
                      27,
                      0,
                      2,
                      11.1333
                    ],
                    [
                      "Survived",
                      2,
                      "Mrs. Nicholas (Adele Achem) Nasser",
                      "female",
                      14,
                      1,
                      0,
                      30.0708
                    ],
                    [
                      "Survived",
                      3,
                      "Miss. Marguerite Rut Sandstrom",
                      "female",
                      4,
                      1,
                      1,
                      16.7
                    ],
                    [
                      "Survived",
                      1,
                      "Miss. Elizabeth Bonnell",
                      "female",
                      58,
                      0,
                      0,
                      26.55
                    ],
                    [
                      "Dead",
                      3,
                      "Mr. William Henry Saundercock",
                      "male",
                      20,
                      0,
                      0,
                      8.05
                    ],
                    [
                      "Dead",
                      3,
                      "Mr. Anders Johan Andersson",
                      "male",
                      39,
                      1,
                      5,
                      31.275
                    ],
                    [
                      "Dead",
                      3,
                      "Miss. Hulda Amanda Adolfina Vestrom",
                      "female",
                      14,
                      0,
                      0,
                      7.8542
                    ],
                    [
                      "Survived",
                      2,
                      "Mrs. (Mary D Kingcome) Hewlett",
                      "female",
                      55,
                      0,
                      0,
                      16
                    ],
                    [
                      "Dead",
                      3,
                      "Master. Eugene Rice",
                      "male",
                      2,
                      4,
                      1,
                      29.125
                    ],
                    [
                      "Survived",
                      2,
                      "Mr. Charles Eugene Williams",
                      "male",
                      23,
                      0,
                      0,
                      13
                    ],
                    [
                      "Dead",
                      3,
                      "Mrs. Julius (Emelia Maria Vandemoortele) Vander Planke",
                      "female",
                      31,
                      1,
                      0,
                      18
                    ],
                    [
                      "Survived",
                      3,
                      "Mrs. Fatima Masselmani",
                      "female",
                      22,
                      0,
                      0,
                      7.225
                    ],
                    [
                      "Dead",
                      2,
                      "Mr. Joseph J Fynney",
                      "male",
                      35,
                      0,
                      0,
                      26
                    ],
                    [
                      "Survived",
                      2,
                      "Mr. Lawrence Beesley",
                      "male",
                      34,
                      0,
                      0,
                      13
                    ],
                    [
                      "Survived",
                      3,
                      "Miss. Anna McGowan",
                      "female",
                      15,
                      0,
                      0,
                      8.0292
                    ],
                    [
                      "Survived",
                      1,
                      "Mr. William Thompson Sloper",
                      "male",
                      28,
                      0,
                      0,
                      35.5
                    ],
                    [
                      "Dead",
                      3,
                      "Miss. Torborg Danira Palsson",
                      "female",
                      8,
                      3,
                      1,
                      21.075
                    ],
                    [
                      "Survived",
                      3,
                      "Mrs. Carl Oscar (Selma Augusta Emilia Johansson) Asplund",
                      "female",
                      38,
                      1,
                      5,
                      31.3875
                    ],
                    [
                      "Dead",
                      3,
                      "Mr. Farred Chehab Emir",
                      "male",
                      26,
                      0,
                      0,
                      7.225
                    ],
                    [
                      "Dead",
                      1,
                      "Mr. Charles Alexander Fortune",
                      "male",
                      19,
                      3,
                      2,
                      263
                    ],
                    [
                      "Survived",
                      3,
                      "Miss. Ellen O'Dwyer",
                      "female",
                      24,
                      0,
                      0,
                      7.8792
                    ],
                    [
                      "Dead",
                      3,
                      "Mr. Lalio Todoroff",
                      "male",
                      23,
                      0,
                      0,
                      7.8958
                    ],
                    [
                      "Dead",
                      1,
                      "Don. Manuel E Uruchurtu",
                      "male",
                      40,
                      0,
                      0,
                      27.7208
                    ],
                    [
                      "Survived",
                      1,
                      "Mrs. William Augustus (Marie Eugenie) Spencer",
                      "female",
                      48,
                      1,
                      0,
                      146.5208
                    ],
                    [
                      "Survived",
                      3,
                      "Miss. Mary Agatha Glynn",
                      "female",
                      18,
                      0,
                      0,
                      7.75
                    ],
                    [
                      "Dead",
                      2,
                      "Mr. Edward H Wheadon",
                      "male",
                      66,
                      0,
                      0,
                      10.5
                    ],
                    [
                      "Dead",
                      1,
                      "Mr. Edgar Joseph Meyer",
                      "male",
                      28,
                      1,
                      0,
                      82.1708
                    ],
                    [
                      "Dead",
                      1,
                      "Mr. Alexander Oskar Holverson",
                      "male",
                      42,
                      1,
                      0,
                      52
                    ],
                    [
                      "Survived",
                      3,
                      "Mr. Hanna Mamee",
                      "male",
                      18,
                      0,
                      0,
                      7.2292
                    ],
                    [
                      "Dead",
                      3,
                      "Mr. Ernest Charles Cann",
                      "male",
                      21,
                      0,
                      0,
                      8.05
                    ],
                    [
                      "Dead",
                      3,
                      "Miss. Augusta Maria Vander Planke",
                      "female",
                      18,
                      2,
                      0,
                      18
                    ],
                    [
                      "Survived",
                      3,
                      "Miss. Jamila Nicola-Yarred",
                      "female",
                      14,
                      1,
                      0,
                      11.2417
                    ],
                    [
                      "Dead",
                      3,
                      "Mrs. Johan (Johanna Persdotter Larsson) Ahlin",
                      "female",
                      40,
                      1,
                      0,
                      9.475
                    ],
                    [
                      "Dead",
                      2,
                      "Mrs. William John Robert (Dorothy Ann Wonnacott) Turpin",
                      "female",
                      27,
                      1,
                      0,
                      21
                    ],
                    [
                      "Survived",
                      2,
                      "Miss. Simonne Marie Anne Andree Laroche",
                      "female",
                      3,
                      1,
                      2,
                      41.5792
                    ],
                    [
                      "Survived",
                      3,
                      "Miss. Margaret Delia Devaney",
                      "female",
                      19,
                      0,
                      0,
                      7.8792
                    ],
                    [
                      "Dead",
                      3,
                      "Mr. William John Rogers",
                      "male",
                      30,
                      0,
                      0,
                      8.05
                    ],
                    [
                      "Dead",
                      3,
                      "Mr. Denis Lennon",
                      "male",
                      20,
                      1,
                      0,
                      15.5
                    ],
                    [
                      "Survived",
                      3,
                      "Miss. Bridget O'Driscoll",
                      "female",
                      27,
                      0,
                      0,
                      7.75
                    ],
                    [
                      "Dead",
                      3,
                      "Mr. Youssef Samaan",
                      "male",
                      16,
                      2,
                      0,
                      21.6792
                    ],
                    [
                      "Dead",
                      3,
                      "Mrs. Josef (Josefine Franchi) Arnold-Franchi",
                      "female",
                      18,
                      1,
                      0,
                      17.8
                    ],
                    [
                      "Dead",
                      3,
                      "Master. Juha Niilo Panula",
                      "male",
                      7,
                      4,
                      1,
                      39.6875
                    ],
                    [
                      "Dead",
                      3,
                      "Mr. Richard Cater Nosworthy",
                      "male",
                      21,
                      0,
                      0,
                      7.8
                    ],
                    [
                      "Survived",
                      1,
                      "Mrs. Henry Sleeper (Myna Haxtun) Harper",
                      "female",
                      49,
                      1,
                      0,
                      76.7292
                    ],
                    [
                      "Survived",
                      2,
                      "Mrs. Lizzie (Elizabeth Anne Wilkinson) Faunthorpe",
                      "female",
                      29,
                      1,
                      0,
                      26
                    ],
                    [
                      "Dead",
                      1,
                      "Mr. Engelhart Cornelius Ostby",
                      "male",
                      65,
                      0,
                      1,
                      61.9792
                    ],
                    [
                      "Survived",
                      1,
                      "Mr. Hugh Woolner",
                      "male",
                      46,
                      0,
                      0,
                      35.5
                    ],
                    [
                      "Survived",
                      2,
                      "Miss. Emily Rugg",
                      "female",
                      21,
                      0,
                      0,
                      10.5
                    ],
                    [
                      "Dead",
                      3,
                      "Mr. Mansouer Novel",
                      "male",
                      28.5,
                      0,
                      0,
                      7.2292
                    ],
                    [
                      "Survived",
                      2,
                      "Miss. Constance Mirium West",
                      "female",
                      5,
                      1,
                      2,
                      27.75
                    ],
                    [
                      "Dead",
                      3,
                      "Master. William Frederick Goodwin",
                      "male",
                      11,
                      5,
                      2,
                      46.9
                    ],
                    [
                      "Dead",
                      3,
                      "Mr. Orsen Sirayanian",
                      "male",
                      22,
                      0,
                      0,
                      7.2292
                    ],
                    [
                      "Survived",
                      1,
                      "Miss. Amelie Icard",
                      "female",
                      38,
                      0,
                      0,
                      80
                    ],
                    [
                      "Dead",
                      1,
                      "Mr. Henry Birkhardt Harris",
                      "male",
                      45,
                      1,
                      0,
                      83.475
                    ],
                    [
                      "Dead",
                      3,
                      "Master. Harald Skoog",
                      "male",
                      4,
                      3,
                      2,
                      27.9
                    ],
                    [
                      "Dead",
                      1,
                      "Mr. Albert A Stewart",
                      "male",
                      64,
                      0,
                      0,
                      27.7208
                    ],
                    [
                      "Survived",
                      3,
                      "Master. Gerios Moubarek",
                      "male",
                      7,
                      1,
                      1,
                      15.2458
                    ],
                    [
                      "Survived",
                      2,
                      "Mrs. (Elizabeth Ramell) Nye",
                      "female",
                      29,
                      0,
                      0,
                      10.5
                    ],
                    [
                      "Dead",
                      3,
                      "Mr. Ernest James Crease",
                      "male",
                      19,
                      0,
                      0,
                      8.1583
                    ],
                    [
                      "Survived",
                      3,
                      "Miss. Erna Alexandra Andersson",
                      "female",
                      17,
                      4,
                      2,
                      7.925
                    ],
                    [
                      "Dead",
                      3,
                      "Mr. Vincenz Kink",
                      "male",
                      26,
                      2,
                      0,
                      8.6625
                    ],
                    [
                      "Dead",
                      2,
                      "Mr. Stephen Curnow Jenkin",
                      "male",
                      32,
                      0,
                      0,
                      10.5
                    ],
                    [
                      "Dead",
                      3,
                      "Miss. Lillian Amy Goodwin",
                      "female",
                      16,
                      5,
                      2,
                      46.9
                    ],
                    [
                      "Dead",
                      2,
                      "Mr. Ambrose Jr Hood",
                      "male",
                      21,
                      0,
                      0,
                      73.5
                    ],
                    [
                      "Dead",
                      3,
                      "Mr. Apostolos Chronopoulos",
                      "male",
                      26,
                      1,
                      0,
                      14.4542
                    ],
                    [
                      "Survived",
                      3,
                      "Mr. Lee Bing",
                      "male",
                      32,
                      0,
                      0,
                      56.4958
                    ],
                    [
                      "Dead",
                      3,
                      "Mr. Sigurd Hansen Moen",
                      "male",
                      25,
                      0,
                      0,
                      7.65
                    ],
                    [
                      "Dead",
                      3,
                      "Mr. Ivan Staneff",
                      "male",
                      23,
                      0,
                      0,
                      7.8958
                    ],
                    [
                      "Dead",
                      3,
                      "Mr. Rahamin Haim Moutal",
                      "male",
                      28,
                      0,
                      0,
                      8.05
                    ],
                    [
                      "Survived",
                      2,
                      "Master. Alden Gates Caldwell",
                      "male",
                      0.83,
                      0,
                      2,
                      29
                    ],
                    [
                      "Survived",
                      3,
                      "Miss. Elizabeth Dowdell",
                      "female",
                      30,
                      0,
                      0,
                      12.475
                    ],
                    [
                      "Dead",
                      3,
                      "Mr. Achille Waelens",
                      "male",
                      22,
                      0,
                      0,
                      9
                    ],
                    [
                      "Survived",
                      3,
                      "Mr. Jan Baptist Sheerlinck",
                      "male",
                      29,
                      0,
                      0,
                      9.5
                    ],
                    [
                      "Survived",
                      3,
                      "Miss. Brigdet Delia McDermott",
                      "female",
                      31,
                      0,
                      0,
                      7.7875
                    ],
                    [
                      "Dead",
                      1,
                      "Mr. Francisco M Carrau",
                      "male",
                      28,
                      0,
                      0,
                      47.1
                    ],
                    [
                      "Survived",
                      2,
                      "Miss. Bertha Ilett",
                      "female",
                      17,
                      0,
                      0,
                      10.5
                    ],
                    [
                      "Survived",
                      3,
                      "Mrs. Karl Alfred (Maria Mathilda Gustafsson) Backstrom",
                      "female",
                      33,
                      3,
                      0,
                      15.85
                    ],
                    [
                      "Dead",
                      3,
                      "Mr. William Neal Ford",
                      "male",
                      16,
                      1,
                      3,
                      34.375
                    ],
                    [
                      "Dead",
                      3,
                      "Mr. Selman Francis Slocovski",
                      "male",
                      20,
                      0,
                      0,
                      8.05
                    ],
                    [
                      "Survived",
                      1,
                      "Miss. Mabel Helen Fortune",
                      "female",
                      23,
                      3,
                      2,
                      263
                    ],
                    [
                      "Dead",
                      3,
                      "Mr. Francesco Celotti",
                      "male",
                      24,
                      0,
                      0,
                      8.05
                    ],
                    [
                      "Dead",
                      3,
                      "Mr. Emil Christmann",
                      "male",
                      29,
                      0,
                      0,
                      8.05
                    ],
                    [
                      "Dead",
                      3,
                      "Mr. Paul Edvin Andreasson",
                      "male",
                      20,
                      0,
                      0,
                      7.8542
                    ],
                    [
                      "Dead",
                      1,
                      "Mr. Herbert Fuller Chaffee",
                      "male",
                      46,
                      1,
                      0,
                      61.175
                    ],
                    [
                      "Dead",
                      3,
                      "Mr. Bertram Frank Dean",
                      "male",
                      26,
                      1,
                      2,
                      20.575
                    ],
                    [
                      "Dead",
                      3,
                      "Mr. Daniel Coxon",
                      "male",
                      59,
                      0,
                      0,
                      7.25
                    ],
                    [
                      "Dead",
                      3,
                      "Mr. Charles Joseph Shorney",
                      "male",
                      22,
                      0,
                      0,
                      8.05
                    ],
                    [
                      "Dead",
                      1,
                      "Mr. George B Goldschmidt",
                      "male",
                      71,
                      0,
                      0,
                      34.6542
                    ],
                    [
                      "Survived",
                      1,
                      "Mr. William Bertram Greenfield",
                      "male",
                      23,
                      0,
                      1,
                      63.3583
                    ],
                    [
                      "Survived",
                      2,
                      "Mrs. John T (Ada Julia Bone) Doling",
                      "female",
                      34,
                      0,
                      1,
                      23
                    ],
                    [
                      "Dead",
                      2,
                      "Mr. Sinai Kantor",
                      "male",
                      34,
                      1,
                      0,
                      26
                    ],
                    [
                      "Dead",
                      3,
                      "Miss. Matilda Petranec",
                      "female",
                      28,
                      0,
                      0,
                      7.8958
                    ],
                    [
                      "Dead",
                      3,
                      "Mr. Pastcho Petroff",
                      "male",
                      29,
                      0,
                      0,
                      7.8958
                    ],
                    [
                      "Dead",
                      1,
                      "Mr. Richard Frasar White",
                      "male",
                      21,
                      0,
                      1,
                      77.2875
                    ],
                    [
                      "Dead",
                      3,
                      "Mr. Gustaf Joel Johansson",
                      "male",
                      33,
                      0,
                      0,
                      8.6542
                    ],
                    [
                      "Dead",
                      3,
                      "Mr. Anders Vilhelm Gustafsson",
                      "male",
                      37,
                      2,
                      0,
                      7.925
                    ],
                    [
                      "Dead",
                      3,
                      "Mr. Stoytcho Mionoff",
                      "male",
                      28,
                      0,
                      0,
                      7.8958
                    ],
                    [
                      "Survived",
                      3,
                      "Miss. Anna Kristine Salkjelsvik",
                      "female",
                      21,
                      0,
                      0,
                      7.65
                    ],
                    [
                      "Survived",
                      3,
                      "Mr. Albert Johan Moss",
                      "male",
                      29,
                      0,
                      0,
                      7.775
                    ],
                    [
                      "Dead",
                      3,
                      "Mr. Tido Rekic",
                      "male",
                      38,
                      0,
                      0,
                      7.8958
                    ],
                    [
                      "Survived",
                      3,
                      "Miss. Bertha Moran",
                      "female",
                      28,
                      1,
                      0,
                      24.15
                    ],
                    [
                      "Dead",
                      1,
                      "Mr. Walter Chamberlain Porter",
                      "male",
                      47,
                      0,
                      0,
                      52
                    ],
                    [
                      "Dead",
                      3,
                      "Miss. Hileni Zabour",
                      "female",
                      14.5,
                      1,
                      0,
                      14.4542
                    ],
                    [
                      "Dead",
                      3,
                      "Mr. David John Barton",
                      "male",
                      22,
                      0,
                      0,
                      8.05
                    ],
                    [
                      "Dead",
                      3,
                      "Miss. Katriina Jussila",
                      "female",
                      20,
                      1,
                      0,
                      9.825
                    ],
                    [
                      "Dead",
                      3,
                      "Miss. Malake Attalah",
                      "female",
                      17,
                      0,
                      0,
                      14.4583
                    ],
                    [
                      "Dead",
                      3,
                      "Mr. Edvard Pekoniemi",
                      "male",
                      21,
                      0,
                      0,
                      7.925
                    ],
                    [
                      "Dead",
                      3,
                      "Mr. Patrick Connors",
                      "male",
                      70.5,
                      0,
                      0,
                      7.75
                    ],
                    [
                      "Dead",
                      2,
                      "Mr. William John Robert Turpin",
                      "male",
                      29,
                      1,
                      0,
                      21
                    ],
                    [
                      "Dead",
                      1,
                      "Mr. Quigg Edmond Baxter",
                      "male",
                      24,
                      0,
                      1,
                      247.5208
                    ],
                    [
                      "Dead",
                      3,
                      "Miss. Ellis Anna Maria Andersson",
                      "female",
                      2,
                      4,
                      2,
                      31.275
                    ],
                    [
                      "Dead",
                      2,
                      "Mr. Stanley George Hickman",
                      "male",
                      21,
                      2,
                      0,
                      73.5
                    ],
                    [
                      "Dead",
                      3,
                      "Mr. Leonard Charles Moore",
                      "male",
                      19,
                      0,
                      0,
                      8.05
                    ],
                    [
                      "Dead",
                      2,
                      "Mr. Nicholas Nasser",
                      "male",
                      32.5,
                      1,
                      0,
                      30.0708
                    ],
                    [
                      "Survived",
                      2,
                      "Miss. Susan Webber",
                      "female",
                      32.5,
                      0,
                      0,
                      13
                    ],
                    [
                      "Dead",
                      1,
                      "Mr. Percival Wayland White",
                      "male",
                      54,
                      0,
                      1,
                      77.2875
                    ],
                    [
                      "Survived",
                      3,
                      "Master. Elias Nicola-Yarred",
                      "male",
                      12,
                      1,
                      0,
                      11.2417
                    ],
                    [
                      "Dead",
                      3,
                      "Mr. Martin McMahon",
                      "male",
                      19,
                      0,
                      0,
                      7.75
                    ],
                    [
                      "Survived",
                      3,
                      "Mr. Fridtjof Arne Madsen",
                      "male",
                      24,
                      0,
                      0,
                      7.1417
                    ],
                    [
                      "Survived",
                      3,
                      "Miss. Anna Peter",
                      "female",
                      2,
                      1,
                      1,
                      22.3583
                    ],
                    [
                      "Dead",
                      3,
                      "Mr. Johan Ekstrom",
                      "male",
                      45,
                      0,
                      0,
                      6.975
                    ],
                    [
                      "Dead",
                      3,
                      "Mr. Jozef Drazenoic",
                      "male",
                      33,
                      0,
                      0,
                      7.8958
                    ],
                    [
                      "Dead",
                      3,
                      "Mr. Domingos Fernandeo Coelho",
                      "male",
                      20,
                      0,
                      0,
                      7.05
                    ],
                    [
                      "Dead",
                      3,
                      "Mrs. Alexander A (Grace Charity Laury) Robins",
                      "female",
                      47,
                      1,
                      0,
                      14.5
                    ],
                    [
                      "Survived",
                      2,
                      "Mrs. Leopold (Mathilde Francoise Pede) Weisz",
                      "female",
                      29,
                      1,
                      0,
                      26
                    ],
                    [
                      "Dead",
                      2,
                      "Mr. Samuel James Hayden Sobey",
                      "male",
                      25,
                      0,
                      0,
                      13
                    ],
                    [
                      "Dead",
                      2,
                      "Mr. Emile Richard",
                      "male",
                      23,
                      0,
                      0,
                      15.0458
                    ],
                    [
                      "Survived",
                      1,
                      "Miss. Helen Monypeny Newsom",
                      "female",
                      19,
                      0,
                      2,
                      26.2833
                    ],
                    [
                      "Dead",
                      1,
                      "Mr. Jacques Heath Futrelle",
                      "male",
                      37,
                      1,
                      0,
                      53.1
                    ],
                    [
                      "Dead",
                      3,
                      "Mr. Olaf Elon Osen",
                      "male",
                      16,
                      0,
                      0,
                      9.2167
                    ],
                    [
                      "Dead",
                      1,
                      "Mr. Victor Giglio",
                      "male",
                      24,
                      0,
                      0,
                      79.2
                    ],
                    [
                      "Dead",
                      3,
                      "Mrs. Joseph (Sultana) Boulos",
                      "female",
                      40,
                      0,
                      2,
                      15.2458
                    ],
                    [
                      "Survived",
                      3,
                      "Miss. Anna Sofia Nysten",
                      "female",
                      22,
                      0,
                      0,
                      7.75
                    ],
                    [
                      "Survived",
                      3,
                      "Mrs. Pekka Pietari (Elin Matilda Dolck) Hakkarainen",
                      "female",
                      24,
                      1,
                      0,
                      15.85
                    ],
                    [
                      "Dead",
                      3,
                      "Mr. Jeremiah Burke",
                      "male",
                      19,
                      0,
                      0,
                      6.75
                    ],
                    [
                      "Dead",
                      2,
                      "Mr. Edgardo Samuel Andrew",
                      "male",
                      18,
                      0,
                      0,
                      11.5
                    ],
                    [
                      "Dead",
                      2,
                      "Mr. Joseph Charles Nicholls",
                      "male",
                      19,
                      1,
                      1,
                      36.75
                    ],
                    [
                      "Survived",
                      3,
                      "Mr. August Edvard Andersson",
                      "male",
                      27,
                      0,
                      0,
                      7.7958
                    ],
                    [
                      "Dead",
                      3,
                      "Miss. Robina Maggie Ford",
                      "female",
                      9,
                      2,
                      2,
                      34.375
                    ],
                    [
                      "Dead",
                      2,
                      "Mr. Michel Navratil",
                      "male",
                      36.5,
                      0,
                      2,
                      26
                    ],
                    [
                      "Dead",
                      2,
                      "Rev. Thomas Roussel Davids Byles",
                      "male",
                      42,
                      0,
                      0,
                      13
                    ],
                    [
                      "Dead",
                      2,
                      "Rev. Robert James Bateman",
                      "male",
                      51,
                      0,
                      0,
                      12.525
                    ],
                    [
                      "Survived",
                      1,
                      "Mrs. Thomas (Edith Wearne) Pears",
                      "female",
                      22,
                      1,
                      0,
                      66.6
                    ],
                    [
                      "Dead",
                      3,
                      "Mr. Alfonzo Meo",
                      "male",
                      55.5,
                      0,
                      0,
                      8.05
                    ],
                    [
                      "Dead",
                      3,
                      "Mr. Austin Blyler van Billiard",
                      "male",
                      40.5,
                      0,
                      2,
                      14.5
                    ],
                    [
                      "Dead",
                      3,
                      "Mr. Ole Martin Olsen",
                      "male",
                      27,
                      0,
                      0,
                      7.3125
                    ],
                    [
                      "Dead",
                      1,
                      "Mr. Charles Duane Williams",
                      "male",
                      51,
                      0,
                      1,
                      61.3792
                    ],
                    [
                      "Survived",
                      3,
                      "Miss. Katherine Gilnagh",
                      "female",
                      16,
                      0,
                      0,
                      7.7333
                    ],
                    [
                      "Dead",
                      3,
                      "Mr. Harry Corn",
                      "male",
                      30,
                      0,
                      0,
                      8.05
                    ],
                    [
                      "Dead",
                      3,
                      "Mr. Mile Smiljanic",
                      "male",
                      37,
                      0,
                      0,
                      8.6625
                    ],
                    [
                      "Dead",
                      3,
                      "Master. Thomas Henry Sage",
                      "male",
                      5,
                      8,
                      2,
                      69.55
                    ],
                    [
                      "Dead",
                      3,
                      "Mr. John Hatfield Cribb",
                      "male",
                      44,
                      0,
                      1,
                      16.1
                    ],
                    [
                      "Survived",
                      2,
                      "Mrs. James (Elizabeth Inglis Milne) Watt",
                      "female",
                      40,
                      0,
                      0,
                      15.75
                    ],
                    [
                      "Dead",
                      3,
                      "Mr. John Viktor Bengtsson",
                      "male",
                      26,
                      0,
                      0,
                      7.775
                    ],
                    [
                      "Dead",
                      3,
                      "Mr. Jovo Calic",
                      "male",
                      17,
                      0,
                      0,
                      8.6625
                    ],
                    [
                      "Dead",
                      3,
                      "Master. Eino Viljami Panula",
                      "male",
                      1,
                      4,
                      1,
                      39.6875
                    ],
                    [
                      "Survived",
                      3,
                      "Master. Frank John William Goldsmith",
                      "male",
                      9,
                      0,
                      2,
                      20.525
                    ],
                    [
                      "Survived",
                      1,
                      "Mrs. (Edith Martha Bowerman) Chibnall",
                      "female",
                      48,
                      0,
                      1,
                      55
                    ],
                    [
                      "Dead",
                      3,
                      "Mrs. William (Anna Bernhardina Karlsson) Skoog",
                      "female",
                      45,
                      1,
                      4,
                      27.9
                    ],
                    [
                      "Dead",
                      1,
                      "Mr. John D Baumann",
                      "male",
                      60,
                      0,
                      0,
                      25.925
                    ],
                    [
                      "Dead",
                      3,
                      "Mr. Lee Ling",
                      "male",
                      28,
                      0,
                      0,
                      56.4958
                    ],
                    [
                      "Dead",
                      1,
                      "Mr. Wyckoff Van der hoef",
                      "male",
                      61,
                      0,
                      0,
                      33.5
                    ],
                    [
                      "Dead",
                      3,
                      "Master. Arthur Rice",
                      "male",
                      4,
                      4,
                      1,
                      29.125
                    ],
                    [
                      "Survived",
                      3,
                      "Miss. Eleanor Ileen Johnson",
                      "female",
                      1,
                      1,
                      1,
                      11.1333
                    ],
                    [
                      "Dead",
                      3,
                      "Mr. Antti Wilhelm Sivola",
                      "male",
                      21,
                      0,
                      0,
                      7.925
                    ],
                    [
                      "Dead",
                      1,
                      "Mr. James Clinch Smith",
                      "male",
                      56,
                      0,
                      0,
                      30.6958
                    ],
                    [
                      "Dead",
                      3,
                      "Mr. Klas Albin Klasen",
                      "male",
                      18,
                      1,
                      1,
                      7.8542
                    ],
                    [
                      "Dead",
                      3,
                      "Master. Henry Forbes Lefebre",
                      "male",
                      5,
                      3,
                      1,
                      25.4667
                    ],
                    [
                      "Dead",
                      1,
                      "Miss. Ann Elizabeth Isham",
                      "female",
                      50,
                      0,
                      0,
                      28.7125
                    ],
                    [
                      "Dead",
                      2,
                      "Mr. Reginald Hale",
                      "male",
                      30,
                      0,
                      0,
                      13
                    ],
                    [
                      "Dead",
                      3,
                      "Mr. Lionel Leonard",
                      "male",
                      36,
                      0,
                      0,
                      0
                    ],
                    [
                      "Dead",
                      3,
                      "Miss. Constance Gladys Sage",
                      "female",
                      8,
                      8,
                      2,
                      69.55
                    ],
                    [
                      "Dead",
                      2,
                      "Mr. Rene Pernot",
                      "male",
                      39,
                      0,
                      0,
                      15.05
                    ],
                    [
                      "Dead",
                      3,
                      "Master. Clarence Gustaf Hugo Asplund",
                      "male",
                      9,
                      4,
                      2,
                      31.3875
                    ],
                    [
                      "Survived",
                      2,
                      "Master. Richard F Becker",
                      "male",
                      1,
                      2,
                      1,
                      39
                    ],
                    [
                      "Survived",
                      3,
                      "Miss. Luise Gretchen Kink-Heilmann",
                      "female",
                      4,
                      0,
                      2,
                      22.025
                    ],
                    [
                      "Dead",
                      1,
                      "Mr. Hugh Roscoe Rood",
                      "male",
                      39,
                      0,
                      0,
                      50
                    ],
                    [
                      "Survived",
                      3,
                      "Mrs. Thomas (Johanna Godfrey) O'Brien",
                      "female",
                      26,
                      1,
                      0,
                      15.5
                    ],
                    [
                      "Survived",
                      1,
                      "Mr. Charles Hallace Romaine",
                      "male",
                      45,
                      0,
                      0,
                      26.55
                    ],
                    [
                      "Dead",
                      3,
                      "Mr. John Bourke",
                      "male",
                      40,
                      1,
                      1,
                      15.5
                    ],
                    [
                      "Dead",
                      3,
                      "Mr. Stjepan Turcin",
                      "male",
                      36,
                      0,
                      0,
                      7.8958
                    ],
                    [
                      "Survived",
                      2,
                      "Mrs. (Rosa) Pinsky",
                      "female",
                      32,
                      0,
                      0,
                      13
                    ],
                    [
                      "Dead",
                      2,
                      "Mr. William Carbines",
                      "male",
                      19,
                      0,
                      0,
                      13
                    ],
                    [
                      "Survived",
                      3,
                      "Miss. Carla Christine Nielsine Andersen-Jensen",
                      "female",
                      19,
                      1,
                      0,
                      7.8542
                    ],
                    [
                      "Survived",
                      2,
                      "Master. Michel M Navratil",
                      "male",
                      3,
                      1,
                      1,
                      26
                    ],
                    [
                      "Survived",
                      1,
                      "Mrs. James Joseph (Margaret Tobin) Brown",
                      "female",
                      44,
                      0,
                      0,
                      27.7208
                    ],
                    [
                      "Survived",
                      1,
                      "Miss. Elise Lurette",
                      "female",
                      58,
                      0,
                      0,
                      146.5208
                    ],
                    [
                      "Dead",
                      3,
                      "Mr. Robert Mernagh",
                      "male",
                      28,
                      0,
                      0,
                      7.75
                    ],
                    [
                      "Dead",
                      3,
                      "Mr. Karl Siegwart Andreas Olsen",
                      "male",
                      42,
                      0,
                      1,
                      8.4042
                    ],
                    [
                      "Survived",
                      3,
                      "Miss. Margaret Madigan",
                      "female",
                      21,
                      0,
                      0,
                      7.75
                    ],
                    [
                      "Dead",
                      2,
                      "Miss. Henriette Yrois",
                      "female",
                      24,
                      0,
                      0,
                      13
                    ],
                    [
                      "Dead",
                      3,
                      "Mr. Nestor Cyriel Vande Walle",
                      "male",
                      28,
                      0,
                      0,
                      9.5
                    ],
                    [
                      "Dead",
                      3,
                      "Mr. Frederick Sage",
                      "male",
                      17,
                      8,
                      2,
                      69.55
                    ],
                    [
                      "Dead",
                      3,
                      "Mr. Jakob Alfred Johanson",
                      "male",
                      34,
                      0,
                      0,
                      6.4958
                    ],
                    [
                      "Dead",
                      3,
                      "Mr. Gerious Youseff",
                      "male",
                      45.5,
                      0,
                      0,
                      7.225
                    ],
                    [
                      "Survived",
                      3,
                      "Mr. Gurshon Cohen",
                      "male",
                      18,
                      0,
                      0,
                      8.05
                    ],
                    [
                      "Dead",
                      3,
                      "Miss. Telma Matilda Strom",
                      "female",
                      2,
                      0,
                      1,
                      10.4625
                    ],
                    [
                      "Dead",
                      3,
                      "Mr. Karl Alfred Backstrom",
                      "male",
                      32,
                      1,
                      0,
                      15.85
                    ],
                    [
                      "Survived",
                      3,
                      "Mr. Nassef Cassem Albimona",
                      "male",
                      26,
                      0,
                      0,
                      18.7875
                    ],
                    [
                      "Survived",
                      3,
                      "Miss. Helen Carr",
                      "female",
                      16,
                      0,
                      0,
                      7.75
                    ],
                    [
                      "Survived",
                      1,
                      "Mr. Henry Blank",
                      "male",
                      40,
                      0,
                      0,
                      31
                    ],
                    [
                      "Dead",
                      3,
                      "Mr. Ahmed Ali",
                      "male",
                      24,
                      0,
                      0,
                      7.05
                    ],
                    [
                      "Survived",
                      2,
                      "Miss. Clear Annie Cameron",
                      "female",
                      35,
                      0,
                      0,
                      21
                    ],
                    [
                      "Dead",
                      3,
                      "Mr. John Henry Perkin",
                      "male",
                      22,
                      0,
                      0,
                      7.25
                    ],
                    [
                      "Dead",
                      2,
                      "Mr. Hans Kristensen Givard",
                      "male",
                      30,
                      0,
                      0,
                      13
                    ],
                    [
                      "Dead",
                      3,
                      "Mr. Philip Kiernan",
                      "male",
                      22,
                      1,
                      0,
                      7.75
                    ],
                    [
                      "Survived",
                      1,
                      "Miss. Madeleine Newell",
                      "female",
                      31,
                      1,
                      0,
                      113.275
                    ],
                    [
                      "Survived",
                      3,
                      "Miss. Eliina Honkanen",
                      "female",
                      27,
                      0,
                      0,
                      7.925
                    ],
                    [
                      "Dead",
                      2,
                      "Mr. Sidney Samuel Jacobsohn",
                      "male",
                      42,
                      1,
                      0,
                      27
                    ],
                    [
                      "Survived",
                      1,
                      "Miss. Albina Bazzani",
                      "female",
                      32,
                      0,
                      0,
                      76.2917
                    ],
                    [
                      "Dead",
                      2,
                      "Mr. Walter Harris",
                      "male",
                      30,
                      0,
                      0,
                      10.5
                    ],
                    [
                      "Survived",
                      3,
                      "Mr. Victor Francis Sunderland",
                      "male",
                      16,
                      0,
                      0,
                      8.05
                    ],
                    [
                      "Dead",
                      2,
                      "Mr. James H Bracken",
                      "male",
                      27,
                      0,
                      0,
                      13
                    ],
                    [
                      "Dead",
                      3,
                      "Mr. George Henry Green",
                      "male",
                      51,
                      0,
                      0,
                      8.05
                    ],
                    [
                      "Dead",
                      3,
                      "Mr. Christo Nenkoff",
                      "male",
                      22,
                      0,
                      0,
                      7.8958
                    ],
                    [
                      "Survived",
                      1,
                      "Mr. Frederick Maxfield Hoyt",
                      "male",
                      38,
                      1,
                      0,
                      90
                    ],
                    [
                      "Dead",
                      3,
                      "Mr. Karl Ivar Sven Berglund",
                      "male",
                      22,
                      0,
                      0,
                      9.35
                    ],
                    [
                      "Survived",
                      2,
                      "Mr. William John Mellors",
                      "male",
                      19,
                      0,
                      0,
                      10.5
                    ],
                    [
                      "Dead",
                      3,
                      "Mr. John Hall Lovell",
                      "male",
                      20.5,
                      0,
                      0,
                      7.25
                    ],
                    [
                      "Dead",
                      2,
                      "Mr. Arne Jonas Fahlstrom",
                      "male",
                      18,
                      0,
                      0,
                      13
                    ],
                    [
                      "Dead",
                      3,
                      "Miss. Mathilde Lefebre",
                      "female",
                      12,
                      3,
                      1,
                      25.4667
                    ],
                    [
                      "Survived",
                      1,
                      "Mrs. Henry Birkhardt (Irene Wallach) Harris",
                      "female",
                      35,
                      1,
                      0,
                      83.475
                    ],
                    [
                      "Dead",
                      3,
                      "Mr. Bengt Edvin Larsson",
                      "male",
                      29,
                      0,
                      0,
                      7.775
                    ],
                    [
                      "Dead",
                      2,
                      "Mr. Ernst Adolf Sjostedt",
                      "male",
                      59,
                      0,
                      0,
                      13.5
                    ],
                    [
                      "Survived",
                      3,
                      "Miss. Lillian Gertrud Asplund",
                      "female",
                      5,
                      4,
                      2,
                      31.3875
                    ],
                    [
                      "Dead",
                      2,
                      "Mr. Robert William Norman Leyson",
                      "male",
                      24,
                      0,
                      0,
                      10.5
                    ],
                    [
                      "Dead",
                      3,
                      "Miss. Alice Phoebe Harknett",
                      "female",
                      21,
                      0,
                      0,
                      7.55
                    ],
                    [
                      "Dead",
                      2,
                      "Mr. Stephen Hold",
                      "male",
                      44,
                      1,
                      0,
                      26
                    ],
                    [
                      "Survived",
                      2,
                      "Miss. Marjorie Collyer",
                      "female",
                      8,
                      0,
                      2,
                      26.25
                    ],
                    [
                      "Dead",
                      2,
                      "Mr. Frederick William Pengelly",
                      "male",
                      19,
                      0,
                      0,
                      10.5
                    ],
                    [
                      "Dead",
                      2,
                      "Mr. George Henry Hunt",
                      "male",
                      33,
                      0,
                      0,
                      12.275
                    ],
                    [
                      "Dead",
                      3,
                      "Miss. Thamine Zabour",
                      "female",
                      19,
                      1,
                      0,
                      14.4542
                    ],
                    [
                      "Survived",
                      3,
                      "Miss. Katherine Murphy",
                      "female",
                      18,
                      1,
                      0,
                      15.5
                    ],
                    [
                      "Dead",
                      2,
                      "Mr. Reginald Charles Coleridge",
                      "male",
                      29,
                      0,
                      0,
                      10.5
                    ],
                    [
                      "Dead",
                      3,
                      "Mr. Matti Alexanteri Maenpaa",
                      "male",
                      22,
                      0,
                      0,
                      7.125
                    ],
                    [
                      "Dead",
                      3,
                      "Mr. Sleiman Attalah",
                      "male",
                      30,
                      0,
                      0,
                      7.225
                    ],
                    [
                      "Dead",
                      1,
                      "Dr. William Edward Minahan",
                      "male",
                      44,
                      2,
                      0,
                      90
                    ],
                    [
                      "Dead",
                      3,
                      "Miss. Agda Thorilda Viktoria Lindahl",
                      "female",
                      25,
                      0,
                      0,
                      7.775
                    ],
                    [
                      "Survived",
                      2,
                      "Mrs. William (Anna) Hamalainen",
                      "female",
                      24,
                      0,
                      2,
                      14.5
                    ],
                    [
                      "Survived",
                      1,
                      "Mr. Richard Leonard Beckwith",
                      "male",
                      37,
                      1,
                      1,
                      52.5542
                    ],
                    [
                      "Dead",
                      2,
                      "Rev. Ernest Courtenay Carter",
                      "male",
                      54,
                      1,
                      0,
                      26
                    ],
                    [
                      "Dead",
                      3,
                      "Mr. James George Reed",
                      "male",
                      18,
                      0,
                      0,
                      7.25
                    ],
                    [
                      "Dead",
                      3,
                      "Mrs. Wilhelm (Elna Matilda Persson) Strom",
                      "female",
                      29,
                      1,
                      1,
                      10.4625
                    ],
                    [
                      "Dead",
                      1,
                      "Mr. William Thomas Stead",
                      "male",
                      62,
                      0,
                      0,
                      26.55
                    ],
                    [
                      "Dead",
                      3,
                      "Mr. William Arthur Lobb",
                      "male",
                      30,
                      1,
                      0,
                      16.1
                    ],
                    [
                      "Dead",
                      3,
                      "Mrs. Viktor (Helena Wilhelmina) Rosblom",
                      "female",
                      41,
                      0,
                      2,
                      20.2125
                    ],
                    [
                      "Survived",
                      3,
                      "Mrs. Darwis (Hanne Youssef Razi) Touma",
                      "female",
                      29,
                      0,
                      2,
                      15.2458
                    ],
                    [
                      "Survived",
                      1,
                      "Mrs. Gertrude Maybelle Thorne",
                      "female",
                      38,
                      0,
                      0,
                      79.2
                    ],
                    [
                      "Survived",
                      1,
                      "Miss. Gladys Cherry",
                      "female",
                      30,
                      0,
                      0,
                      86.5
                    ],
                    [
                      "Survived",
                      1,
                      "Miss. Anna Ward",
                      "female",
                      35,
                      0,
                      0,
                      512.3292
                    ],
                    [
                      "Survived",
                      2,
                      "Mrs. (Lutie Davis) Parrish",
                      "female",
                      50,
                      0,
                      1,
                      26
                    ],
                    [
                      "Survived",
                      3,
                      "Master. Edvin Rojj Felix Asplund",
                      "male",
                      3,
                      4,
                      2,
                      31.3875
                    ],
                    [
                      "Dead",
                      1,
                      "Mr. Emil Taussig",
                      "male",
                      52,
                      1,
                      1,
                      79.65
                    ],
                    [
                      "Dead",
                      1,
                      "Mr. William Harrison",
                      "male",
                      40,
                      0,
                      0,
                      0
                    ],
                    [
                      "Dead",
                      3,
                      "Miss. Delia Henry",
                      "female",
                      21,
                      0,
                      0,
                      7.75
                    ],
                    [
                      "Dead",
                      2,
                      "Mr. David Reeves",
                      "male",
                      36,
                      0,
                      0,
                      10.5
                    ],
                    [
                      "Dead",
                      3,
                      "Mr. Ernesti Arvid Panula",
                      "male",
                      16,
                      4,
                      1,
                      39.6875
                    ],
                    [
                      "Survived",
                      3,
                      "Mr. Ernst Ulrik Persson",
                      "male",
                      25,
                      1,
                      0,
                      7.775
                    ],
                    [
                      "Survived",
                      1,
                      "Mrs. William Thompson (Edith Junkins) Graham",
                      "female",
                      58,
                      0,
                      1,
                      153.4625
                    ],
                    [
                      "Survived",
                      1,
                      "Miss. Amelia Bissette",
                      "female",
                      35,
                      0,
                      0,
                      135.6333
                    ],
                    [
                      "Dead",
                      1,
                      "Mr. Alexander Cairns",
                      "male",
                      28,
                      0,
                      0,
                      31
                    ],
                    [
                      "Survived",
                      3,
                      "Mr. William Henry Tornquist",
                      "male",
                      25,
                      0,
                      0,
                      0
                    ],
                    [
                      "Survived",
                      2,
                      "Mrs. (Elizabeth Anne Maidment) Mellinger",
                      "female",
                      41,
                      0,
                      1,
                      19.5
                    ],
                    [
                      "Dead",
                      1,
                      "Mr. Charles H Natsch",
                      "male",
                      37,
                      0,
                      1,
                      29.7
                    ],
                    [
                      "Survived",
                      3,
                      "Miss. Hanora Healy",
                      "female",
                      33,
                      0,
                      0,
                      7.75
                    ],
                    [
                      "Survived",
                      1,
                      "Miss. Kornelia Theodosia Andrews",
                      "female",
                      63,
                      1,
                      0,
                      77.9583
                    ],
                    [
                      "Dead",
                      3,
                      "Miss. Augusta Charlotta Lindblom",
                      "female",
                      45,
                      0,
                      0,
                      7.75
                    ],
                    [
                      "Dead",
                      2,
                      "Mr. Francis Parkes",
                      "male",
                      21,
                      0,
                      0,
                      0
                    ],
                    [
                      "Dead",
                      3,
                      "Master. Eric Rice",
                      "male",
                      7,
                      4,
                      1,
                      29.125
                    ],
                    [
                      "Survived",
                      3,
                      "Mrs. Stanton (Rosa Hunt) Abbott",
                      "female",
                      35,
                      1,
                      1,
                      20.25
                    ],
                    [
                      "Dead",
                      3,
                      "Mr. Frank Duane",
                      "male",
                      65,
                      0,
                      0,
                      7.75
                    ],
                    [
                      "Dead",
                      3,
                      "Mr. Nils Johan Goransson Olsson",
                      "male",
                      28,
                      0,
                      0,
                      7.8542
                    ],
                    [
                      "Dead",
                      3,
                      "Mr. Alfons de Pelsmaeker",
                      "male",
                      16,
                      0,
                      0,
                      9.5
                    ],
                    [
                      "Survived",
                      3,
                      "Mr. Edward Arthur Dorking",
                      "male",
                      19,
                      0,
                      0,
                      8.05
                    ],
                    [
                      "Dead",
                      1,
                      "Mr. Richard William Smith",
                      "male",
                      57,
                      0,
                      0,
                      26
                    ],
                    [
                      "Dead",
                      3,
                      "Mr. Ivan Stankovic",
                      "male",
                      33,
                      0,
                      0,
                      8.6625
                    ],
                    [
                      "Survived",
                      3,
                      "Mr. Theodore de Mulder",
                      "male",
                      30,
                      0,
                      0,
                      9.5
                    ],
                    [
                      "Dead",
                      3,
                      "Mr. Penko Naidenoff",
                      "male",
                      22,
                      0,
                      0,
                      7.8958
                    ],
                    [
                      "Survived",
                      2,
                      "Mr. Masabumi Hosono",
                      "male",
                      42,
                      0,
                      0,
                      13
                    ],
                    [
                      "Survived",
                      3,
                      "Miss. Kate Connolly",
                      "female",
                      22,
                      0,
                      0,
                      7.75
                    ],
                    [
                      "Survived",
                      1,
                      "Miss. Ellen Barber",
                      "female",
                      26,
                      0,
                      0,
                      78.85
                    ],
                    [
                      "Survived",
                      1,
                      "Mrs. Dickinson H (Helen Walton) Bishop",
                      "female",
                      19,
                      1,
                      0,
                      91.0792
                    ],
                    [
                      "Dead",
                      2,
                      "Mr. Rene Jacques Levy",
                      "male",
                      36,
                      0,
                      0,
                      12.875
                    ],
                    [
                      "Dead",
                      3,
                      "Miss. Aloisia Haas",
                      "female",
                      24,
                      0,
                      0,
                      8.85
                    ],
                    [
                      "Dead",
                      3,
                      "Mr. Ivan Mineff",
                      "male",
                      24,
                      0,
                      0,
                      7.8958
                    ],
                    [
                      "Dead",
                      1,
                      "Mr. Ervin G Lewy",
                      "male",
                      30,
                      0,
                      0,
                      27.7208
                    ],
                    [
                      "Dead",
                      3,
                      "Mr. Mansour Hanna",
                      "male",
                      23.5,
                      0,
                      0,
                      7.2292
                    ],
                    [
                      "Dead",
                      1,
                      "Miss. Helen Loraine Allison",
                      "female",
                      2,
                      1,
                      2,
                      151.55
                    ],
                    [
                      "Survived",
                      1,
                      "Mr. Adolphe Saalfeld",
                      "male",
                      47,
                      0,
                      0,
                      30.5
                    ],
                    [
                      "Survived",
                      1,
                      "Mrs. James (Helene DeLaudeniere Chaput) Baxter",
                      "female",
                      50,
                      0,
                      1,
                      247.5208
                    ],
                    [
                      "Survived",
                      3,
                      "Miss. Anna Katherine Kelly",
                      "female",
                      20,
                      0,
                      0,
                      7.75
                    ],
                    [
                      "Survived",
                      3,
                      "Mr. Bernard McCoy",
                      "male",
                      24,
                      2,
                      0,
                      23.25
                    ],
                    [
                      "Dead",
                      3,
                      "Mr. William Cahoone Jr Johnson",
                      "male",
                      19,
                      0,
                      0,
                      0
                    ],
                    [
                      "Survived",
                      2,
                      "Miss. Nora A Keane",
                      "female",
                      46,
                      0,
                      0,
                      12.35
                    ],
                    [
                      "Dead",
                      3,
                      "Mr. Howard Hugh Williams",
                      "male",
                      28,
                      0,
                      0,
                      8.05
                    ],
                    [
                      "Survived",
                      1,
                      "Master. Hudson Trevor Allison",
                      "male",
                      0.92,
                      1,
                      2,
                      151.55
                    ],
                    [
                      "Survived",
                      1,
                      "Miss. Margaret Fleming",
                      "female",
                      42,
                      0,
                      0,
                      110.8833
                    ],
                    [
                      "Survived",
                      1,
                      "Mrs. Victor de Satode (Maria Josefa Perez de Soto y Vallejo) Penasco y Castellana",
                      "female",
                      17,
                      1,
                      0,
                      108.9
                    ],
                    [
                      "Dead",
                      2,
                      "Mr. Samuel Abelson",
                      "male",
                      30,
                      1,
                      0,
                      24
                    ],
                    [
                      "Survived",
                      1,
                      "Miss. Laura Mabel Francatelli",
                      "female",
                      30,
                      0,
                      0,
                      56.9292
                    ],
                    [
                      "Survived",
                      1,
                      "Miss. Margaret Bechstein Hays",
                      "female",
                      24,
                      0,
                      0,
                      83.1583
                    ],
                    [
                      "Survived",
                      1,
                      "Miss. Emily Borie Ryerson",
                      "female",
                      18,
                      2,
                      2,
                      262.375
                    ],
                    [
                      "Dead",
                      2,
                      "Mrs. William (Anna Sylfven) Lahtinen",
                      "female",
                      26,
                      1,
                      1,
                      26
                    ],
                    [
                      "Dead",
                      3,
                      "Mr. Ignjac Hendekovic",
                      "male",
                      28,
                      0,
                      0,
                      7.8958
                    ],
                    [
                      "Dead",
                      2,
                      "Mr. Benjamin Hart",
                      "male",
                      43,
                      1,
                      1,
                      26.25
                    ],
                    [
                      "Survived",
                      3,
                      "Miss. Helmina Josefina Nilsson",
                      "female",
                      26,
                      0,
                      0,
                      7.8542
                    ],
                    [
                      "Survived",
                      2,
                      "Mrs. Sinai (Miriam Sternin) Kantor",
                      "female",
                      24,
                      1,
                      0,
                      26
                    ],
                    [
                      "Dead",
                      2,
                      "Dr. Ernest Moraweck",
                      "male",
                      54,
                      0,
                      0,
                      14
                    ],
                    [
                      "Survived",
                      1,
                      "Miss. Mary Natalie Wick",
                      "female",
                      31,
                      0,
                      2,
                      164.8667
                    ],
                    [
                      "Survived",
                      1,
                      "Mrs. Frederic Oakley (Margaretta Corning Stone) Spedden",
                      "female",
                      40,
                      1,
                      1,
                      134.5
                    ],
                    [
                      "Dead",
                      3,
                      "Mr. Samuel Dennis",
                      "male",
                      22,
                      0,
                      0,
                      7.25
                    ],
                    [
                      "Dead",
                      3,
                      "Mr. Yoto Danoff",
                      "male",
                      27,
                      0,
                      0,
                      7.8958
                    ],
                    [
                      "Survived",
                      2,
                      "Miss. Hilda Mary Slayter",
                      "female",
                      30,
                      0,
                      0,
                      12.35
                    ],
                    [
                      "Survived",
                      2,
                      "Mrs. Albert Francis (Sylvia Mae Harbaugh) Caldwell",
                      "female",
                      22,
                      1,
                      1,
                      29
                    ],
                    [
                      "Dead",
                      3,
                      "Mr. George John Jr Sage",
                      "male",
                      20,
                      8,
                      2,
                      69.55
                    ],
                    [
                      "Survived",
                      1,
                      "Miss. Marie Grice Young",
                      "female",
                      36,
                      0,
                      0,
                      135.6333
                    ],
                    [
                      "Dead",
                      3,
                      "Mr. Johan Hansen Nysveen",
                      "male",
                      61,
                      0,
                      0,
                      6.2375
                    ],
                    [
                      "Survived",
                      2,
                      "Mrs. (Ada E Hall) Ball",
                      "female",
                      36,
                      0,
                      0,
                      13
                    ],
                    [
                      "Survived",
                      3,
                      "Mrs. Frank John (Emily Alice Brown) Goldsmith",
                      "female",
                      31,
                      1,
                      1,
                      20.525
                    ],
                    [
                      "Survived",
                      1,
                      "Miss. Jean Gertrude Hippach",
                      "female",
                      16,
                      0,
                      1,
                      57.9792
                    ],
                    [
                      "Survived",
                      3,
                      "Miss. Agnes McCoy",
                      "female",
                      28,
                      2,
                      0,
                      23.25
                    ],
                    [
                      "Dead",
                      1,
                      "Mr. Austen Partner",
                      "male",
                      45.5,
                      0,
                      0,
                      28.5
                    ],
                    [
                      "Dead",
                      1,
                      "Mr. George Edward Graham",
                      "male",
                      38,
                      0,
                      1,
                      153.4625
                    ],
                    [
                      "Dead",
                      3,
                      "Mr. Leo Edmondus Vander Planke",
                      "male",
                      16,
                      2,
                      0,
                      18
                    ],
                    [
                      "Survived",
                      1,
                      "Mrs. Henry William (Clara Heinsheimer) Frauenthal",
                      "female",
                      42,
                      1,
                      0,
                      133.65
                    ],
                    [
                      "Dead",
                      3,
                      "Mr. Mitto Denkoff",
                      "male",
                      30,
                      0,
                      0,
                      7.8958
                    ],
                    [
                      "Dead",
                      1,
                      "Mr. Thomas Clinton Pears",
                      "male",
                      29,
                      1,
                      0,
                      66.6
                    ],
                    [
                      "Survived",
                      1,
                      "Miss. Elizabeth Margaret Burns",
                      "female",
                      41,
                      0,
                      0,
                      134.5
                    ],
                    [
                      "Survived",
                      3,
                      "Mr. Karl Edwart Dahl",
                      "male",
                      45,
                      0,
                      0,
                      8.05
                    ],
                    [
                      "Dead",
                      1,
                      "Mr. Stephen Weart Blackwell",
                      "male",
                      45,
                      0,
                      0,
                      35.5
                    ],
                    [
                      "Survived",
                      2,
                      "Master. Edmond Roger Navratil",
                      "male",
                      2,
                      1,
                      1,
                      26
                    ],
                    [
                      "Survived",
                      1,
                      "Miss. Alice Elizabeth Fortune",
                      "female",
                      24,
                      3,
                      2,
                      263
                    ],
                    [
                      "Dead",
                      2,
                      "Mr. Erik Gustaf Collander",
                      "male",
                      28,
                      0,
                      0,
                      13
                    ],
                    [
                      "Dead",
                      2,
                      "Mr. Charles Frederick Waddington Sedgwick",
                      "male",
                      25,
                      0,
                      0,
                      13
                    ],
                    [
                      "Dead",
                      2,
                      "Mr. Stanley Hubert Fox",
                      "male",
                      36,
                      0,
                      0,
                      13
                    ],
                    [
                      "Survived",
                      2,
                      "Miss. Amelia Brown",
                      "female",
                      24,
                      0,
                      0,
                      13
                    ],
                    [
                      "Survived",
                      2,
                      "Miss. Marion Elsie Smith",
                      "female",
                      40,
                      0,
                      0,
                      13
                    ],
                    [
                      "Survived",
                      3,
                      "Mrs. Thomas Henry (Mary E Finck) Davison",
                      "female",
                      34,
                      1,
                      0,
                      16.1
                    ],
                    [
                      "Survived",
                      3,
                      "Master. William Loch Coutts",
                      "male",
                      3,
                      1,
                      1,
                      15.9
                    ],
                    [
                      "Dead",
                      3,
                      "Mr. Jovan Dimic",
                      "male",
                      42,
                      0,
                      0,
                      8.6625
                    ],
                    [
                      "Dead",
                      3,
                      "Mr. Nils Martin Odahl",
                      "male",
                      23,
                      0,
                      0,
                      9.225
                    ],
                    [
                      "Dead",
                      1,
                      "Mr. Fletcher Fellows Williams-Lambert",
                      "male",
                      43,
                      0,
                      0,
                      35
                    ],
                    [
                      "Dead",
                      3,
                      "Mr. Tannous Elias",
                      "male",
                      15,
                      1,
                      1,
                      7.2292
                    ],
                    [
                      "Dead",
                      3,
                      "Mr. Josef Arnold-Franchi",
                      "male",
                      25,
                      1,
                      0,
                      17.8
                    ],
                    [
                      "Dead",
                      3,
                      "Mr. Wazli Yousif",
                      "male",
                      23,
                      0,
                      0,
                      7.225
                    ],
                    [
                      "Dead",
                      3,
                      "Mr. Leo Peter Vanden Steen",
                      "male",
                      28,
                      0,
                      0,
                      9.5
                    ],
                    [
                      "Survived",
                      1,
                      "Miss. Elsie Edith Bowerman",
                      "female",
                      22,
                      0,
                      1,
                      55
                    ],
                    [
                      "Dead",
                      2,
                      "Miss. Annie Clemmer Funk",
                      "female",
                      38,
                      0,
                      0,
                      13
                    ],
                    [
                      "Survived",
                      3,
                      "Miss. Mary McGovern",
                      "female",
                      22,
                      0,
                      0,
                      7.8792
                    ],
                    [
                      "Survived",
                      3,
                      "Miss. Helen Mary Mockler",
                      "female",
                      23,
                      0,
                      0,
                      7.8792
                    ],
                    [
                      "Dead",
                      3,
                      "Mr. Wilhelm Skoog",
                      "male",
                      40,
                      1,
                      4,
                      27.9
                    ],
                    [
                      "Dead",
                      2,
                      "Mr. Sebastiano del Carlo",
                      "male",
                      29,
                      1,
                      0,
                      27.7208
                    ],
                    [
                      "Dead",
                      3,
                      "Mrs. (Catherine David) Barbara",
                      "female",
                      45,
                      0,
                      1,
                      14.4542
                    ],
                    [
                      "Dead",
                      3,
                      "Mr. Adola Asim",
                      "male",
                      35,
                      0,
                      0,
                      7.05
                    ],
                    [
                      "Dead",
                      3,
                      "Mr. Thomas O'Brien",
                      "male",
                      27,
                      1,
                      0,
                      15.5
                    ],
                    [
                      "Dead",
                      3,
                      "Mr. Mauritz Nils Martin Adahl",
                      "male",
                      30,
                      0,
                      0,
                      7.25
                    ],
                    [
                      "Survived",
                      1,
                      "Mrs. Frank Manley (Anna Sophia Atkinson) Warren",
                      "female",
                      60,
                      1,
                      0,
                      75.25
                    ],
                    [
                      "Survived",
                      3,
                      "Mrs. (Mantoura Boulos) Moussa",
                      "female",
                      35,
                      0,
                      0,
                      7.2292
                    ],
                    [
                      "Survived",
                      3,
                      "Miss. Annie Jermyn",
                      "female",
                      22,
                      0,
                      0,
                      7.75
                    ],
                    [
                      "Survived",
                      1,
                      "Mme. Leontine Pauline Aubart",
                      "female",
                      24,
                      0,
                      0,
                      69.3
                    ],
                    [
                      "Survived",
                      1,
                      "Mr. George Achilles Harder",
                      "male",
                      25,
                      1,
                      0,
                      55.4417
                    ],
                    [
                      "Dead",
                      3,
                      "Mr. Jakob Alfred Wiklund",
                      "male",
                      18,
                      1,
                      0,
                      6.4958
                    ],
                    [
                      "Dead",
                      3,
                      "Mr. William Thomas Beavan",
                      "male",
                      19,
                      0,
                      0,
                      8.05
                    ],
                    [
                      "Dead",
                      1,
                      "Mr. Sante Ringhini",
                      "male",
                      22,
                      0,
                      0,
                      135.6333
                    ],
                    [
                      "Dead",
                      3,
                      "Miss. Stina Viola Palsson",
                      "female",
                      3,
                      3,
                      1,
                      21.075
                    ],
                    [
                      "Survived",
                      1,
                      "Mrs. Edgar Joseph (Leila Saks) Meyer",
                      "female",
                      25,
                      1,
                      0,
                      82.1708
                    ],
                    [
                      "Survived",
                      3,
                      "Miss. Aurora Adelia Landergren",
                      "female",
                      22,
                      0,
                      0,
                      7.25
                    ],
                    [
                      "Dead",
                      1,
                      "Mr. Harry Elkins Widener",
                      "male",
                      27,
                      0,
                      2,
                      211.5
                    ],
                    [
                      "Dead",
                      3,
                      "Mr. Tannous Betros",
                      "male",
                      20,
                      0,
                      0,
                      4.0125
                    ],
                    [
                      "Dead",
                      3,
                      "Mr. Karl Gideon Gustafsson",
                      "male",
                      19,
                      0,
                      0,
                      7.775
                    ],
                    [
                      "Survived",
                      1,
                      "Miss. Rosalie Bidois",
                      "female",
                      42,
                      0,
                      0,
                      227.525
                    ],
                    [
                      "Survived",
                      3,
                      "Miss. Maria Nakid",
                      "female",
                      1,
                      0,
                      2,
                      15.7417
                    ],
                    [
                      "Dead",
                      3,
                      "Mr. Juho Tikkanen",
                      "male",
                      32,
                      0,
                      0,
                      7.925
                    ],
                    [
                      "Survived",
                      1,
                      "Mrs. Alexander Oskar (Mary Aline Towner) Holverson",
                      "female",
                      35,
                      1,
                      0,
                      52
                    ],
                    [
                      "Dead",
                      3,
                      "Mr. Vasil Plotcharsky",
                      "male",
                      27,
                      0,
                      0,
                      7.8958
                    ],
                    [
                      "Dead",
                      2,
                      "Mr. Charles Henry Davies",
                      "male",
                      18,
                      0,
                      0,
                      73.5
                    ],
                    [
                      "Dead",
                      3,
                      "Master. Sidney Leonard Goodwin",
                      "male",
                      1,
                      5,
                      2,
                      46.9
                    ],
                    [
                      "Survived",
                      2,
                      "Miss. Kate Buss",
                      "female",
                      36,
                      0,
                      0,
                      13
                    ],
                    [
                      "Dead",
                      3,
                      "Mr. Matthew Sadlier",
                      "male",
                      19,
                      0,
                      0,
                      7.7292
                    ],
                    [
                      "Survived",
                      2,
                      "Miss. Bertha Lehmann",
                      "female",
                      17,
                      0,
                      0,
                      12
                    ],
                    [
                      "Survived",
                      1,
                      "Mr. William Ernest Carter",
                      "male",
                      36,
                      1,
                      2,
                      120
                    ],
                    [
                      "Survived",
                      3,
                      "Mr. Carl Olof Jansson",
                      "male",
                      21,
                      0,
                      0,
                      7.7958
                    ],
                    [
                      "Dead",
                      3,
                      "Mr. Johan Birger Gustafsson",
                      "male",
                      28,
                      2,
                      0,
                      7.925
                    ],
                    [
                      "Survived",
                      1,
                      "Miss. Marjorie Newell",
                      "female",
                      23,
                      1,
                      0,
                      113.275
                    ],
                    [
                      "Survived",
                      3,
                      "Mrs. Hjalmar (Agnes Charlotta Bengtsson) Sandstrom",
                      "female",
                      24,
                      0,
                      2,
                      16.7
                    ],
                    [
                      "Dead",
                      3,
                      "Mr. Erik Johansson",
                      "male",
                      22,
                      0,
                      0,
                      7.7958
                    ],
                    [
                      "Dead",
                      3,
                      "Miss. Elina Olsson",
                      "female",
                      31,
                      0,
                      0,
                      7.8542
                    ],
                    [
                      "Dead",
                      2,
                      "Mr. Peter David McKane",
                      "male",
                      46,
                      0,
                      0,
                      26
                    ],
                    [
                      "Dead",
                      2,
                      "Dr. Alfred Pain",
                      "male",
                      23,
                      0,
                      0,
                      10.5
                    ],
                    [
                      "Survived",
                      2,
                      "Mrs. William H (Jessie L) Trout",
                      "female",
                      28,
                      0,
                      0,
                      12.65
                    ],
                    [
                      "Survived",
                      3,
                      "Mr. Juha Niskanen",
                      "male",
                      39,
                      0,
                      0,
                      7.925
                    ],
                    [
                      "Dead",
                      3,
                      "Mr. John Adams",
                      "male",
                      26,
                      0,
                      0,
                      8.05
                    ],
                    [
                      "Dead",
                      3,
                      "Miss. Mari Aina Jussila",
                      "female",
                      21,
                      1,
                      0,
                      9.825
                    ],
                    [
                      "Dead",
                      3,
                      "Mr. Pekka Pietari Hakkarainen",
                      "male",
                      28,
                      1,
                      0,
                      15.85
                    ],
                    [
                      "Dead",
                      3,
                      "Miss. Marija Oreskovic",
                      "female",
                      20,
                      0,
                      0,
                      8.6625
                    ],
                    [
                      "Dead",
                      2,
                      "Mr. Shadrach Gale",
                      "male",
                      34,
                      1,
                      0,
                      21
                    ],
                    [
                      "Dead",
                      3,
                      "Mr. Carl/Charles Peter Widegren",
                      "male",
                      51,
                      0,
                      0,
                      7.75
                    ],
                    [
                      "Survived",
                      2,
                      "Master. William Rowe Richards",
                      "male",
                      3,
                      1,
                      1,
                      18.75
                    ],
                    [
                      "Dead",
                      3,
                      "Mr. Hans Martin Monsen Birkeland",
                      "male",
                      21,
                      0,
                      0,
                      7.775
                    ],
                    [
                      "Dead",
                      3,
                      "Miss. Ida Lefebre",
                      "female",
                      3,
                      3,
                      1,
                      25.4667
                    ],
                    [
                      "Dead",
                      3,
                      "Mr. Todor Sdycoff",
                      "male",
                      42,
                      0,
                      0,
                      7.8958
                    ],
                    [
                      "Dead",
                      3,
                      "Mr. Henry Hart",
                      "male",
                      27,
                      0,
                      0,
                      6.8583
                    ],
                    [
                      "Survived",
                      1,
                      "Miss. Daisy E Minahan",
                      "female",
                      33,
                      1,
                      0,
                      90
                    ],
                    [
                      "Dead",
                      2,
                      "Mr. Alfred Fleming Cunningham",
                      "male",
                      22,
                      0,
                      0,
                      0
                    ],
                    [
                      "Survived",
                      3,
                      "Mr. Johan Julian Sundman",
                      "male",
                      44,
                      0,
                      0,
                      7.925
                    ],
                    [
                      "Dead",
                      3,
                      "Mrs. Thomas (Annie Louise Rowley) Meek",
                      "female",
                      32,
                      0,
                      0,
                      8.05
                    ],
                    [
                      "Survived",
                      2,
                      "Mrs. James Vivian (Lulu Thorne Christian) Drew",
                      "female",
                      34,
                      1,
                      1,
                      32.5
                    ],
                    [
                      "Survived",
                      2,
                      "Miss. Lyyli Karoliina Silven",
                      "female",
                      18,
                      0,
                      2,
                      13
                    ],
                    [
                      "Dead",
                      2,
                      "Mr. William John Matthews",
                      "male",
                      30,
                      0,
                      0,
                      13
                    ],
                    [
                      "Dead",
                      3,
                      "Miss. Catharina Van Impe",
                      "female",
                      10,
                      0,
                      2,
                      24.15
                    ],
                    [
                      "Dead",
                      3,
                      "Mr. David Charters",
                      "male",
                      21,
                      0,
                      0,
                      7.7333
                    ],
                    [
                      "Dead",
                      3,
                      "Mr. Leo Zimmerman",
                      "male",
                      29,
                      0,
                      0,
                      7.875
                    ],
                    [
                      "Dead",
                      3,
                      "Mrs. Ernst Gilbert (Anna Sigrid Maria Brogren) Danbom",
                      "female",
                      28,
                      1,
                      1,
                      14.4
                    ],
                    [
                      "Dead",
                      3,
                      "Mr. Viktor Richard Rosblom",
                      "male",
                      18,
                      1,
                      1,
                      20.2125
                    ],
                    [
                      "Dead",
                      3,
                      "Mr. Phillippe Wiseman",
                      "male",
                      54,
                      0,
                      0,
                      7.25
                    ],
                    [
                      "Survived",
                      2,
                      "Mrs. Charles V (Ada Maria Winfield) Clarke",
                      "female",
                      28,
                      1,
                      0,
                      26
                    ],
                    [
                      "Survived",
                      2,
                      "Miss. Kate Florence Phillips",
                      "female",
                      19,
                      0,
                      0,
                      26
                    ],
                    [
                      "Dead",
                      3,
                      "Mr. James Flynn",
                      "male",
                      28,
                      0,
                      0,
                      7.75
                    ],
                    [
                      "Survived",
                      3,
                      "Mr. Berk (Berk Trembisky) Pickard",
                      "male",
                      32,
                      0,
                      0,
                      8.05
                    ],
                    [
                      "Survived",
                      1,
                      "Mr. Mauritz Hakan Bjornstrom-Steffansson",
                      "male",
                      28,
                      0,
                      0,
                      26.55
                    ],
                    [
                      "Survived",
                      3,
                      "Mrs. Percival (Florence Kate White) Thorneycroft",
                      "female",
                      33,
                      1,
                      0,
                      16.1
                    ],
                    [
                      "Survived",
                      2,
                      "Mrs. Charles Alexander (Alice Adelaide Slow) Louch",
                      "female",
                      42,
                      1,
                      0,
                      26
                    ],
                    [
                      "Dead",
                      3,
                      "Mr. Nikolai Erland Kallio",
                      "male",
                      17,
                      0,
                      0,
                      7.125
                    ],
                    [
                      "Dead",
                      1,
                      "Mr. William Baird Silvey",
                      "male",
                      50,
                      1,
                      0,
                      55.9
                    ],
                    [
                      "Survived",
                      1,
                      "Miss. Lucile Polk Carter",
                      "female",
                      14,
                      1,
                      2,
                      120
                    ],
                    [
                      "Dead",
                      3,
                      "Miss. Doolina Margaret Ford",
                      "female",
                      21,
                      2,
                      2,
                      34.375
                    ],
                    [
                      "Survived",
                      2,
                      "Mrs. Sidney (Emily Hocking) Richards",
                      "female",
                      24,
                      2,
                      3,
                      18.75
                    ],
                    [
                      "Dead",
                      1,
                      "Mr. Mark Fortune",
                      "male",
                      64,
                      1,
                      4,
                      263
                    ],
                    [
                      "Dead",
                      2,
                      "Mr. Johan Henrik Johannesson Kvillner",
                      "male",
                      31,
                      0,
                      0,
                      10.5
                    ],
                    [
                      "Survived",
                      2,
                      "Mrs. Benjamin (Esther Ada Bloomfield) Hart",
                      "female",
                      45,
                      1,
                      1,
                      26.25
                    ],
                    [
                      "Dead",
                      3,
                      "Mr. Leon Hampe",
                      "male",
                      20,
                      0,
                      0,
                      9.5
                    ],
                    [
                      "Dead",
                      3,
                      "Mr. Johan Emil Petterson",
                      "male",
                      25,
                      1,
                      0,
                      7.775
                    ],
                    [
                      "Survived",
                      2,
                      "Ms. Encarnacion Reynaldo",
                      "female",
                      28,
                      0,
                      0,
                      13
                    ],
                    [
                      "Survived",
                      3,
                      "Mr. Bernt Johannesen-Bratthammer",
                      "male",
                      29,
                      0,
                      0,
                      8.1125
                    ],
                    [
                      "Survived",
                      1,
                      "Master. Washington Dodge",
                      "male",
                      4,
                      0,
                      2,
                      81.8583
                    ],
                    [
                      "Survived",
                      2,
                      "Miss. Madeleine Violet Mellinger",
                      "female",
                      13,
                      0,
                      1,
                      19.5
                    ],
                    [
                      "Survived",
                      1,
                      "Mr. Frederic Kimber Seward",
                      "male",
                      34,
                      0,
                      0,
                      26.55
                    ],
                    [
                      "Survived",
                      3,
                      "Miss. Marie Catherine Baclini",
                      "female",
                      5,
                      2,
                      1,
                      19.2583
                    ],
                    [
                      "Survived",
                      1,
                      "Major. Arthur Godfrey Peuchen",
                      "male",
                      52,
                      0,
                      0,
                      30.5
                    ],
                    [
                      "Dead",
                      2,
                      "Mr. Edwy Arthur West",
                      "male",
                      36,
                      1,
                      2,
                      27.75
                    ],
                    [
                      "Dead",
                      3,
                      "Mr. Ingvald Olai Olsen Hagland",
                      "male",
                      28,
                      1,
                      0,
                      19.9667
                    ],
                    [
                      "Dead",
                      1,
                      "Mr. Benjamin Laventall Foreman",
                      "male",
                      30,
                      0,
                      0,
                      27.75
                    ],
                    [
                      "Survived",
                      1,
                      "Mr. Samuel L Goldenberg",
                      "male",
                      49,
                      1,
                      0,
                      89.1042
                    ],
                    [
                      "Dead",
                      3,
                      "Mr. Joseph Peduzzi",
                      "male",
                      24,
                      0,
                      0,
                      8.05
                    ],
                    [
                      "Survived",
                      3,
                      "Mr. Ivan Jalsevac",
                      "male",
                      29,
                      0,
                      0,
                      7.8958
                    ],
                    [
                      "Dead",
                      1,
                      "Mr. Francis Davis Millet",
                      "male",
                      65,
                      0,
                      0,
                      26.55
                    ],
                    [
                      "Survived",
                      1,
                      "Mrs. Frederick R (Marion) Kenyon",
                      "female",
                      41,
                      1,
                      0,
                      51.8625
                    ],
                    [
                      "Survived",
                      2,
                      "Miss. Ellen Toomey",
                      "female",
                      50,
                      0,
                      0,
                      10.5
                    ],
                    [
                      "Dead",
                      3,
                      "Mr. Maurice O'Connor",
                      "male",
                      17,
                      0,
                      0,
                      7.75
                    ],
                    [
                      "Survived",
                      1,
                      "Mr. Harry Anderson",
                      "male",
                      48,
                      0,
                      0,
                      26.55
                    ],
                    [
                      "Dead",
                      3,
                      "Mr. William Morley",
                      "male",
                      34,
                      0,
                      0,
                      8.05
                    ],
                    [
                      "Dead",
                      1,
                      "Mr. Arthur H Gee",
                      "male",
                      47,
                      0,
                      0,
                      38.5
                    ],
                    [
                      "Dead",
                      2,
                      "Mr. Jacob Christian Milling",
                      "male",
                      48,
                      0,
                      0,
                      13
                    ],
                    [
                      "Dead",
                      3,
                      "Mr. Simon Maisner",
                      "male",
                      34,
                      0,
                      0,
                      8.05
                    ],
                    [
                      "Dead",
                      3,
                      "Mr. Manuel Estanslas Goncalves",
                      "male",
                      38,
                      0,
                      0,
                      7.05
                    ],
                    [
                      "Dead",
                      2,
                      "Mr. William Campbell",
                      "male",
                      21,
                      0,
                      0,
                      0
                    ],
                    [
                      "Dead",
                      1,
                      "Mr. John Montgomery Smart",
                      "male",
                      56,
                      0,
                      0,
                      26.55
                    ],
                    [
                      "Dead",
                      3,
                      "Mr. James Scanlan",
                      "male",
                      22,
                      0,
                      0,
                      7.725
                    ],
                    [
                      "Survived",
                      3,
                      "Miss. Helene Barbara Baclini",
                      "female",
                      0.75,
                      2,
                      1,
                      19.2583
                    ],
                    [
                      "Dead",
                      3,
                      "Mr. Arthur Keefe",
                      "male",
                      39,
                      0,
                      0,
                      7.25
                    ],
                    [
                      "Dead",
                      3,
                      "Mr. Luka Cacic",
                      "male",
                      38,
                      0,
                      0,
                      8.6625
                    ],
                    [
                      "Survived",
                      2,
                      "Mrs. Edwy Arthur (Ada Mary Worth) West",
                      "female",
                      33,
                      1,
                      2,
                      27.75
                    ],
                    [
                      "Survived",
                      2,
                      "Mrs. Amin S (Marie Marthe Thuillard) Jerwan",
                      "female",
                      23,
                      0,
                      0,
                      13.7917
                    ],
                    [
                      "Dead",
                      3,
                      "Miss. Ida Sofia Strandberg",
                      "female",
                      22,
                      0,
                      0,
                      9.8375
                    ],
                    [
                      "Dead",
                      1,
                      "Mr. George Quincy Clifford",
                      "male",
                      40,
                      0,
                      0,
                      52
                    ],
                    [
                      "Dead",
                      2,
                      "Mr. Peter Henry Renouf",
                      "male",
                      34,
                      1,
                      0,
                      21
                    ],
                    [
                      "Dead",
                      3,
                      "Mr. Lewis Richard Braund",
                      "male",
                      29,
                      1,
                      0,
                      7.0458
                    ],
                    [
                      "Dead",
                      3,
                      "Mr. Nils August Karlsson",
                      "male",
                      22,
                      0,
                      0,
                      7.5208
                    ],
                    [
                      "Survived",
                      3,
                      "Miss. Hildur E Hirvonen",
                      "female",
                      2,
                      0,
                      1,
                      12.2875
                    ],
                    [
                      "Dead",
                      3,
                      "Master. Harold Victor Goodwin",
                      "male",
                      9,
                      5,
                      2,
                      46.9
                    ],
                    [
                      "Dead",
                      2,
                      "Mr. Anthony Wood Frost",
                      "male",
                      37,
                      0,
                      0,
                      0
                    ],
                    [
                      "Dead",
                      3,
                      "Mr. Richard Henry Rouse",
                      "male",
                      50,
                      0,
                      0,
                      8.05
                    ],
                    [
                      "Survived",
                      3,
                      "Mrs. (Hedwig) Turkula",
                      "female",
                      63,
                      0,
                      0,
                      9.5875
                    ],
                    [
                      "Survived",
                      1,
                      "Mr. Dickinson H Bishop",
                      "male",
                      25,
                      1,
                      0,
                      91.0792
                    ],
                    [
                      "Dead",
                      3,
                      "Miss. Jeannie Lefebre",
                      "female",
                      8,
                      3,
                      1,
                      25.4667
                    ],
                    [
                      "Survived",
                      1,
                      "Mrs. Frederick Maxfield (Jane Anne Forby) Hoyt",
                      "female",
                      35,
                      1,
                      0,
                      90
                    ],
                    [
                      "Dead",
                      1,
                      "Mr. Edward Austin Kent",
                      "male",
                      58,
                      0,
                      0,
                      29.7
                    ],
                    [
                      "Dead",
                      3,
                      "Mr. Francis William Somerton",
                      "male",
                      30,
                      0,
                      0,
                      8.05
                    ],
                    [
                      "Survived",
                      3,
                      "Master. Eden Leslie Coutts",
                      "male",
                      9,
                      1,
                      1,
                      15.9
                    ],
                    [
                      "Dead",
                      3,
                      "Mr. Konrad Mathias Reiersen Hagland",
                      "male",
                      19,
                      1,
                      0,
                      19.9667
                    ],
                    [
                      "Dead",
                      3,
                      "Mr. Einar Windelov",
                      "male",
                      21,
                      0,
                      0,
                      7.25
                    ],
                    [
                      "Dead",
                      1,
                      "Mr. Harry Markland Molson",
                      "male",
                      55,
                      0,
                      0,
                      30.5
                    ],
                    [
                      "Dead",
                      1,
                      "Mr. Ramon Artagaveytia",
                      "male",
                      71,
                      0,
                      0,
                      49.5042
                    ],
                    [
                      "Dead",
                      3,
                      "Mr. Edward Roland Stanley",
                      "male",
                      21,
                      0,
                      0,
                      8.05
                    ],
                    [
                      "Dead",
                      3,
                      "Mr. Gerious Yousseff",
                      "male",
                      26,
                      0,
                      0,
                      14.4583
                    ],
                    [
                      "Survived",
                      1,
                      "Miss. Elizabeth Mussey Eustis",
                      "female",
                      54,
                      1,
                      0,
                      78.2667
                    ],
                    [
                      "Dead",
                      3,
                      "Mr. Frederick William Shellard",
                      "male",
                      55,
                      0,
                      0,
                      15.1
                    ],
                    [
                      "Dead",
                      1,
                      "Mrs. Hudson J C (Bessie Waldo Daniels) Allison",
                      "female",
                      25,
                      1,
                      2,
                      151.55
                    ],
                    [
                      "Dead",
                      3,
                      "Mr. Olof Svensson",
                      "male",
                      24,
                      0,
                      0,
                      7.7958
                    ],
                    [
                      "Dead",
                      3,
                      "Mr. Petar Calic",
                      "male",
                      17,
                      0,
                      0,
                      8.6625
                    ],
                    [
                      "Dead",
                      3,
                      "Miss. Mary Canavan",
                      "female",
                      21,
                      0,
                      0,
                      7.75
                    ],
                    [
                      "Dead",
                      3,
                      "Miss. Bridget Mary O'Sullivan",
                      "female",
                      21,
                      0,
                      0,
                      7.6292
                    ],
                    [
                      "Dead",
                      3,
                      "Miss. Kristina Sofia Laitinen",
                      "female",
                      37,
                      0,
                      0,
                      9.5875
                    ],
                    [
                      "Survived",
                      1,
                      "Miss. Roberta Maioni",
                      "female",
                      16,
                      0,
                      0,
                      86.5
                    ],
                    [
                      "Dead",
                      1,
                      "Mr. Victor de Satode Penasco y Castellana",
                      "male",
                      18,
                      1,
                      0,
                      108.9
                    ],
                    [
                      "Survived",
                      2,
                      "Mrs. Frederick Charles (Jane Richards) Quick",
                      "female",
                      33,
                      0,
                      2,
                      26
                    ],
                    [
                      "Survived",
                      1,
                      "Mr. George Bradley",
                      "male",
                      37,
                      0,
                      0,
                      26.55
                    ],
                    [
                      "Dead",
                      3,
                      "Mr. Henry Margido Olsen",
                      "male",
                      28,
                      0,
                      0,
                      22.525
                    ],
                    [
                      "Survived",
                      3,
                      "Mr. Fang Lang",
                      "male",
                      26,
                      0,
                      0,
                      56.4958
                    ],
                    [
                      "Survived",
                      3,
                      "Mr. Eugene Patrick Daly",
                      "male",
                      29,
                      0,
                      0,
                      7.75
                    ],
                    [
                      "Dead",
                      3,
                      "Mr. James Webber",
                      "male",
                      66,
                      0,
                      0,
                      8.05
                    ],
                    [
                      "Survived",
                      1,
                      "Mr. James Robert McGough",
                      "male",
                      36,
                      0,
                      0,
                      26.2875
                    ],
                    [
                      "Survived",
                      1,
                      "Mrs. Martin (Elizabeth L. Barrett) Rothschild",
                      "female",
                      54,
                      1,
                      0,
                      59.4
                    ],
                    [
                      "Dead",
                      3,
                      "Mr. Satio Coleff",
                      "male",
                      24,
                      0,
                      0,
                      7.4958
                    ],
                    [
                      "Dead",
                      1,
                      "Mr. William Anderson Walker",
                      "male",
                      47,
                      0,
                      0,
                      34.0208
                    ],
                    [
                      "Survived",
                      2,
                      "Mrs. (Amelia Milley) Lemore",
                      "female",
                      34,
                      0,
                      0,
                      10.5
                    ],
                    [
                      "Dead",
                      3,
                      "Mr. Patrick Ryan",
                      "male",
                      30,
                      0,
                      0,
                      24.15
                    ],
                    [
                      "Survived",
                      2,
                      "Mrs. William A (Florence Agnes Hughes) Angle",
                      "female",
                      36,
                      1,
                      0,
                      26
                    ],
                    [
                      "Dead",
                      3,
                      "Mr. Stefo Pavlovic",
                      "male",
                      32,
                      0,
                      0,
                      7.8958
                    ],
                    [
                      "Survived",
                      1,
                      "Miss. Anne Perreault",
                      "female",
                      30,
                      0,
                      0,
                      93.5
                    ],
                    [
                      "Dead",
                      3,
                      "Mr. Janko Vovk",
                      "male",
                      22,
                      0,
                      0,
                      7.8958
                    ],
                    [
                      "Dead",
                      3,
                      "Mr. Sarkis Lahoud",
                      "male",
                      35,
                      0,
                      0,
                      7.225
                    ],
                    [
                      "Survived",
                      1,
                      "Mrs. Louis Albert (Ida Sophia Fischer) Hippach",
                      "female",
                      44,
                      0,
                      1,
                      57.9792
                    ],
                    [
                      "Dead",
                      3,
                      "Mr. Fared Kassem",
                      "male",
                      18,
                      0,
                      0,
                      7.2292
                    ],
                    [
                      "Dead",
                      3,
                      "Mr. James Farrell",
                      "male",
                      40.5,
                      0,
                      0,
                      7.75
                    ],
                    [
                      "Survived",
                      2,
                      "Miss. Lucy Ridsdale",
                      "female",
                      50,
                      0,
                      0,
                      10.5
                    ],
                    [
                      "Dead",
                      1,
                      "Mr. John Farthing",
                      "male",
                      49,
                      0,
                      0,
                      221.7792
                    ],
                    [
                      "Dead",
                      3,
                      "Mr. Johan Werner Salonen",
                      "male",
                      39,
                      0,
                      0,
                      7.925
                    ],
                    [
                      "Dead",
                      2,
                      "Mr. Richard George Hocking",
                      "male",
                      23,
                      2,
                      1,
                      11.5
                    ],
                    [
                      "Survived",
                      2,
                      "Miss. Phyllis May Quick",
                      "female",
                      2,
                      1,
                      1,
                      26
                    ],
                    [
                      "Dead",
                      3,
                      "Mr. Nakli Toufik",
                      "male",
                      17,
                      0,
                      0,
                      7.2292
                    ],
                    [
                      "Dead",
                      3,
                      "Mr. Joseph Jr Elias",
                      "male",
                      17,
                      1,
                      1,
                      7.2292
                    ],
                    [
                      "Survived",
                      3,
                      "Mrs. Catherine (Catherine Rizk) Peter",
                      "female",
                      24,
                      0,
                      2,
                      22.3583
                    ],
                    [
                      "Dead",
                      3,
                      "Miss. Marija Cacic",
                      "female",
                      30,
                      0,
                      0,
                      8.6625
                    ],
                    [
                      "Survived",
                      2,
                      "Miss. Eva Miriam Hart",
                      "female",
                      7,
                      0,
                      2,
                      26.25
                    ],
                    [
                      "Dead",
                      1,
                      "Major. Archibald Willingham Butt",
                      "male",
                      45,
                      0,
                      0,
                      26.55
                    ],
                    [
                      "Survived",
                      1,
                      "Miss. Bertha LeRoy",
                      "female",
                      30,
                      0,
                      0,
                      106.425
                    ],
                    [
                      "Dead",
                      3,
                      "Mr. Samuel Beard Risien",
                      "male",
                      69,
                      0,
                      0,
                      14.5
                    ],
                    [
                      "Survived",
                      1,
                      "Miss. Hedwig Margaritha Frolicher",
                      "female",
                      22,
                      0,
                      2,
                      49.5
                    ],
                    [
                      "Survived",
                      1,
                      "Miss. Harriet R Crosby",
                      "female",
                      36,
                      0,
                      2,
                      71
                    ],
                    [
                      "Dead",
                      3,
                      "Miss. Ingeborg Constanzia Andersson",
                      "female",
                      9,
                      4,
                      2,
                      31.275
                    ],
                    [
                      "Dead",
                      3,
                      "Miss. Sigrid Elisabeth Andersson",
                      "female",
                      11,
                      4,
                      2,
                      31.275
                    ],
                    [
                      "Survived",
                      2,
                      "Mr. Edward Beane",
                      "male",
                      32,
                      1,
                      0,
                      26
                    ],
                    [
                      "Dead",
                      1,
                      "Mr. Walter Donald Douglas",
                      "male",
                      50,
                      1,
                      0,
                      106.425
                    ],
                    [
                      "Dead",
                      1,
                      "Mr. Arthur Ernest Nicholson",
                      "male",
                      64,
                      0,
                      0,
                      26
                    ],
                    [
                      "Survived",
                      2,
                      "Mrs. Edward (Ethel Clarke) Beane",
                      "female",
                      19,
                      1,
                      0,
                      26
                    ],
                    [
                      "Survived",
                      2,
                      "Mr. Julian Padro y Manent",
                      "male",
                      27,
                      0,
                      0,
                      13.8625
                    ],
                    [
                      "Dead",
                      3,
                      "Mr. Frank John Goldsmith",
                      "male",
                      33,
                      1,
                      1,
                      20.525
                    ],
                    [
                      "Survived",
                      2,
                      "Master. John Morgan Jr Davies",
                      "male",
                      8,
                      1,
                      1,
                      36.75
                    ],
                    [
                      "Survived",
                      1,
                      "Mr. John Borland Jr Thayer",
                      "male",
                      17,
                      0,
                      2,
                      110.8833
                    ],
                    [
                      "Dead",
                      2,
                      "Mr. Percival James R Sharp",
                      "male",
                      27,
                      0,
                      0,
                      26
                    ],
                    [
                      "Dead",
                      3,
                      "Mr. Timothy O'Brien",
                      "male",
                      21,
                      0,
                      0,
                      7.8292
                    ],
                    [
                      "Survived",
                      3,
                      "Mr. Fahim Leeni",
                      "male",
                      22,
                      0,
                      0,
                      7.225
                    ],
                    [
                      "Survived",
                      3,
                      "Miss. Velin Ohman",
                      "female",
                      22,
                      0,
                      0,
                      7.775
                    ],
                    [
                      "Dead",
                      1,
                      "Mr. George Wright",
                      "male",
                      62,
                      0,
                      0,
                      26.55
                    ],
                    [
                      "Survived",
                      1,
                      "Lady. (Lucille Christiana Sutherland)Duff Gordon",
                      "female",
                      48,
                      1,
                      0,
                      39.6
                    ],
                    [
                      "Dead",
                      1,
                      "Mr. Victor Robbins",
                      "male",
                      45,
                      0,
                      0,
                      227.525
                    ],
                    [
                      "Survived",
                      1,
                      "Mrs. Emil (Tillie Mandelbaum) Taussig",
                      "female",
                      39,
                      1,
                      1,
                      79.65
                    ],
                    [
                      "Survived",
                      3,
                      "Mrs. Guillaume Joseph (Emma) de Messemaeker",
                      "female",
                      36,
                      1,
                      0,
                      17.4
                    ],
                    [
                      "Dead",
                      3,
                      "Mr. Thomas Rowan Morrow",
                      "male",
                      30,
                      0,
                      0,
                      7.75
                    ],
                    [
                      "Dead",
                      3,
                      "Mr. Husein Sivic",
                      "male",
                      40,
                      0,
                      0,
                      7.8958
                    ],
                    [
                      "Dead",
                      2,
                      "Mr. Robert Douglas Norman",
                      "male",
                      28,
                      0,
                      0,
                      13.5
                    ],
                    [
                      "Dead",
                      3,
                      "Mr. John Simmons",
                      "male",
                      40,
                      0,
                      0,
                      8.05
                    ],
                    [
                      "Dead",
                      3,
                      "Miss. (Marion Ogden) Meanwell",
                      "female",
                      62,
                      0,
                      0,
                      8.05
                    ],
                    [
                      "Dead",
                      3,
                      "Mr. Alfred J Davies",
                      "male",
                      24,
                      2,
                      0,
                      24.15
                    ],
                    [
                      "Dead",
                      3,
                      "Mr. Ilia Stoytcheff",
                      "male",
                      19,
                      0,
                      0,
                      7.8958
                    ],
                    [
                      "Dead",
                      3,
                      "Mrs. Nils (Alma Cornelia Berglund) Palsson",
                      "female",
                      29,
                      0,
                      4,
                      21.075
                    ],
                    [
                      "Dead",
                      3,
                      "Mr. Tannous Doharr",
                      "male",
                      28,
                      0,
                      0,
                      7.2292
                    ],
                    [
                      "Survived",
                      3,
                      "Mr. Carl Jonsson",
                      "male",
                      32,
                      0,
                      0,
                      7.8542
                    ],
                    [
                      "Survived",
                      2,
                      "Mr. George Harris",
                      "male",
                      62,
                      0,
                      0,
                      10.5
                    ],
                    [
                      "Survived",
                      1,
                      "Mrs. Edward Dale (Charlotte Lamson) Appleton",
                      "female",
                      53,
                      2,
                      0,
                      51.4792
                    ],
                    [
                      "Survived",
                      1,
                      "Mr. John Irwin Flynn",
                      "male",
                      36,
                      0,
                      0,
                      26.3875
                    ],
                    [
                      "Survived",
                      3,
                      "Miss. Mary Kelly",
                      "female",
                      22,
                      0,
                      0,
                      7.75
                    ],
                    [
                      "Dead",
                      3,
                      "Mr. Alfred George John Rush",
                      "male",
                      16,
                      0,
                      0,
                      8.05
                    ],
                    [
                      "Dead",
                      3,
                      "Mr. George Patchett",
                      "male",
                      19,
                      0,
                      0,
                      14.5
                    ],
                    [
                      "Survived",
                      2,
                      "Miss. Ethel Garside",
                      "female",
                      34,
                      0,
                      0,
                      13
                    ],
                    [
                      "Survived",
                      1,
                      "Mrs. William Baird (Alice Munger) Silvey",
                      "female",
                      39,
                      1,
                      0,
                      55.9
                    ],
                    [
                      "Dead",
                      3,
                      "Mrs. Joseph (Maria Elias) Caram",
                      "female",
                      18,
                      1,
                      0,
                      14.4583
                    ],
                    [
                      "Survived",
                      3,
                      "Mr. Eiriik Jussila",
                      "male",
                      32,
                      0,
                      0,
                      7.925
                    ],
                    [
                      "Survived",
                      2,
                      "Miss. Julie Rachel Christy",
                      "female",
                      25,
                      1,
                      1,
                      30
                    ],
                    [
                      "Survived",
                      1,
                      "Mrs. John Borland (Marian Longstreth Morris) Thayer",
                      "female",
                      39,
                      1,
                      1,
                      110.8833
                    ],
                    [
                      "Dead",
                      2,
                      "Mr. William James Downton",
                      "male",
                      54,
                      0,
                      0,
                      26
                    ],
                    [
                      "Dead",
                      1,
                      "Mr. John Hugo Ross",
                      "male",
                      36,
                      0,
                      0,
                      40.125
                    ],
                    [
                      "Dead",
                      3,
                      "Mr. Uscher Paulner",
                      "male",
                      16,
                      0,
                      0,
                      8.7125
                    ],
                    [
                      "Survived",
                      1,
                      "Miss. Ruth Taussig",
                      "female",
                      18,
                      0,
                      2,
                      79.65
                    ],
                    [
                      "Dead",
                      2,
                      "Mr. John Denzil Jarvis",
                      "male",
                      47,
                      0,
                      0,
                      15
                    ],
                    [
                      "Survived",
                      1,
                      "Mr. Maxmillian Frolicher-Stehli",
                      "male",
                      60,
                      1,
                      1,
                      79.2
                    ],
                    [
                      "Dead",
                      3,
                      "Mr. Eliezer Gilinski",
                      "male",
                      22,
                      0,
                      0,
                      8.05
                    ],
                    [
                      "Dead",
                      3,
                      "Mr. Joseph Murdlin",
                      "male",
                      22,
                      0,
                      0,
                      8.05
                    ],
                    [
                      "Dead",
                      3,
                      "Mr. Matti Rintamaki",
                      "male",
                      35,
                      0,
                      0,
                      7.125
                    ],
                    [
                      "Survived",
                      1,
                      "Mrs. Walter Bertram (Martha Eustis) Stephenson",
                      "female",
                      52,
                      1,
                      0,
                      78.2667
                    ],
                    [
                      "Dead",
                      3,
                      "Mr. William James Elsbury",
                      "male",
                      47,
                      0,
                      0,
                      7.25
                    ],
                    [
                      "Dead",
                      3,
                      "Miss. Mary Bourke",
                      "female",
                      40,
                      0,
                      2,
                      7.75
                    ],
                    [
                      "Dead",
                      2,
                      "Mr. John Henry Chapman",
                      "male",
                      37,
                      1,
                      0,
                      26
                    ],
                    [
                      "Dead",
                      3,
                      "Mr. Jean Baptiste Van Impe",
                      "male",
                      36,
                      1,
                      1,
                      24.15
                    ],
                    [
                      "Survived",
                      2,
                      "Miss. Jessie Wills Leitch",
                      "female",
                      31,
                      0,
                      0,
                      33
                    ],
                    [
                      "Dead",
                      3,
                      "Mr. Alfred Johnson",
                      "male",
                      49,
                      0,
                      0,
                      0
                    ],
                    [
                      "Dead",
                      3,
                      "Mr. Hanna Boulos",
                      "male",
                      18,
                      0,
                      0,
                      7.225
                    ],
                    [
                      "Survived",
                      1,
                      "Sir. Cosmo Edmund Duff Gordon",
                      "male",
                      49,
                      1,
                      0,
                      56.9292
                    ],
                    [
                      "Survived",
                      2,
                      "Mrs. Sidney Samuel (Amy Frances Christy) Jacobsohn",
                      "female",
                      24,
                      2,
                      1,
                      27
                    ],
                    [
                      "Dead",
                      3,
                      "Mr. Petco Slabenoff",
                      "male",
                      42,
                      0,
                      0,
                      7.8958
                    ],
                    [
                      "Dead",
                      1,
                      "Mr. Charles H Harrington",
                      "male",
                      37,
                      0,
                      0,
                      42.4
                    ],
                    [
                      "Dead",
                      3,
                      "Mr. Ernst William Torber",
                      "male",
                      44,
                      0,
                      0,
                      8.05
                    ],
                    [
                      "Survived",
                      1,
                      "Mr. Harry Homer",
                      "male",
                      35,
                      0,
                      0,
                      26.55
                    ],
                    [
                      "Dead",
                      3,
                      "Mr. Edvard Bengtsson Lindell",
                      "male",
                      36,
                      1,
                      0,
                      15.55
                    ],
                    [
                      "Dead",
                      3,
                      "Mr. Milan Karaic",
                      "male",
                      30,
                      0,
                      0,
                      7.8958
                    ],
                    [
                      "Survived",
                      1,
                      "Mr. Robert Williams Daniel",
                      "male",
                      27,
                      0,
                      0,
                      30.5
                    ],
                    [
                      "Survived",
                      2,
                      "Mrs. Joseph (Juliette Marie Louise Lafargue) Laroche",
                      "female",
                      22,
                      1,
                      2,
                      41.5792
                    ],
                    [
                      "Survived",
                      1,
                      "Miss. Elizabeth W Shutes",
                      "female",
                      40,
                      0,
                      0,
                      153.4625
                    ],
                    [
                      "Dead",
                      3,
                      "Mrs. Anders Johan (Alfrida Konstantia Brogren) Andersson",
                      "female",
                      39,
                      1,
                      5,
                      31.275
                    ],
                    [
                      "Dead",
                      3,
                      "Mr. Jose Neto Jardin",
                      "male",
                      21,
                      0,
                      0,
                      7.05
                    ],
                    [
                      "Survived",
                      3,
                      "Miss. Margaret Jane Murphy",
                      "female",
                      18,
                      1,
                      0,
                      15.5
                    ],
                    [
                      "Dead",
                      3,
                      "Mr. John Horgan",
                      "male",
                      22,
                      0,
                      0,
                      7.75
                    ],
                    [
                      "Dead",
                      3,
                      "Mr. William Alfred Brocklebank",
                      "male",
                      35,
                      0,
                      0,
                      8.05
                    ],
                    [
                      "Survived",
                      2,
                      "Miss. Alice Herman",
                      "female",
                      24,
                      1,
                      2,
                      65
                    ],
                    [
                      "Dead",
                      3,
                      "Mr. Ernst Gilbert Danbom",
                      "male",
                      34,
                      1,
                      1,
                      14.4
                    ],
                    [
                      "Dead",
                      3,
                      "Mrs. William Arthur (Cordelia K Stanlick) Lobb",
                      "female",
                      26,
                      1,
                      0,
                      16.1
                    ],
                    [
                      "Survived",
                      2,
                      "Miss. Marion Louise Becker",
                      "female",
                      4,
                      2,
                      1,
                      39
                    ],
                    [
                      "Dead",
                      2,
                      "Mr. Lawrence Gavey",
                      "male",
                      26,
                      0,
                      0,
                      10.5
                    ],
                    [
                      "Dead",
                      3,
                      "Mr. Antoni Yasbeck",
                      "male",
                      27,
                      1,
                      0,
                      14.4542
                    ],
                    [
                      "Survived",
                      1,
                      "Mr. Edwin Nelson Jr Kimball",
                      "male",
                      42,
                      1,
                      0,
                      52.5542
                    ],
                    [
                      "Survived",
                      3,
                      "Mr. Sahid Nakid",
                      "male",
                      20,
                      1,
                      1,
                      15.7417
                    ],
                    [
                      "Dead",
                      3,
                      "Mr. Henry Damsgaard Hansen",
                      "male",
                      21,
                      0,
                      0,
                      7.8542
                    ],
                    [
                      "Dead",
                      3,
                      "Mr. David John Bowen",
                      "male",
                      21,
                      0,
                      0,
                      16.1
                    ],
                    [
                      "Dead",
                      1,
                      "Mr. Frederick Sutton",
                      "male",
                      61,
                      0,
                      0,
                      32.3208
                    ],
                    [
                      "Dead",
                      2,
                      "Rev. Charles Leonard Kirkland",
                      "male",
                      57,
                      0,
                      0,
                      12.35
                    ],
                    [
                      "Survived",
                      1,
                      "Miss. Gretchen Fiske Longley",
                      "female",
                      21,
                      0,
                      0,
                      77.9583
                    ],
                    [
                      "Dead",
                      3,
                      "Mr. Guentcho Bostandyeff",
                      "male",
                      26,
                      0,
                      0,
                      7.8958
                    ],
                    [
                      "Dead",
                      3,
                      "Mr. Patrick D O'Connell",
                      "male",
                      18,
                      0,
                      0,
                      7.7333
                    ],
                    [
                      "Survived",
                      1,
                      "Mr. Algernon Henry Wilson Barkworth",
                      "male",
                      80,
                      0,
                      0,
                      30
                    ],
                    [
                      "Dead",
                      3,
                      "Mr. Johan Svensson Lundahl",
                      "male",
                      51,
                      0,
                      0,
                      7.0542
                    ],
                    [
                      "Survived",
                      1,
                      "Dr. Max Stahelin-Maeglin",
                      "male",
                      32,
                      0,
                      0,
                      30.5
                    ],
                    [
                      "Dead",
                      1,
                      "Mr. William Henry Marsh Parr",
                      "male",
                      30,
                      0,
                      0,
                      0
                    ],
                    [
                      "Dead",
                      3,
                      "Miss. Mabel Skoog",
                      "female",
                      9,
                      3,
                      2,
                      27.9
                    ],
                    [
                      "Survived",
                      2,
                      "Miss. Mary Davis",
                      "female",
                      28,
                      0,
                      0,
                      13
                    ],
                    [
                      "Dead",
                      3,
                      "Mr. Antti Gustaf Leinonen",
                      "male",
                      32,
                      0,
                      0,
                      7.925
                    ],
                    [
                      "Dead",
                      2,
                      "Mr. Harvey Collyer",
                      "male",
                      31,
                      1,
                      1,
                      26.25
                    ],
                    [
                      "Dead",
                      3,
                      "Mrs. Juha (Maria Emilia Ojala) Panula",
                      "female",
                      41,
                      0,
                      5,
                      39.6875
                    ],
                    [
                      "Dead",
                      3,
                      "Mr. Percival Thorneycroft",
                      "male",
                      37,
                      1,
                      0,
                      16.1
                    ],
                    [
                      "Dead",
                      3,
                      "Mr. Hans Peder Jensen",
                      "male",
                      20,
                      0,
                      0,
                      7.8542
                    ],
                    [
                      "Survived",
                      1,
                      "Mlle. Emma Sagesser",
                      "female",
                      24,
                      0,
                      0,
                      69.3
                    ],
                    [
                      "Dead",
                      3,
                      "Miss. Margit Elizabeth Skoog",
                      "female",
                      2,
                      3,
                      2,
                      27.9
                    ],
                    [
                      "Survived",
                      3,
                      "Mr. Choong Foo",
                      "male",
                      32,
                      0,
                      0,
                      56.4958
                    ],
                    [
                      "Survived",
                      3,
                      "Miss. Eugenie Baclini",
                      "female",
                      0.75,
                      2,
                      1,
                      19.2583
                    ],
                    [
                      "Survived",
                      1,
                      "Mr. Henry Sleeper Harper",
                      "male",
                      48,
                      1,
                      0,
                      76.7292
                    ],
                    [
                      "Dead",
                      3,
                      "Mr. Liudevit Cor",
                      "male",
                      19,
                      0,
                      0,
                      7.8958
                    ],
                    [
                      "Survived",
                      1,
                      "Col. Oberst Alfons Simonius-Blumer",
                      "male",
                      56,
                      0,
                      0,
                      35.5
                    ],
                    [
                      "Dead",
                      3,
                      "Mr. Edward Willey",
                      "male",
                      21,
                      0,
                      0,
                      7.55
                    ],
                    [
                      "Survived",
                      3,
                      "Miss. Amy Zillah Elsie Stanley",
                      "female",
                      23,
                      0,
                      0,
                      7.55
                    ],
                    [
                      "Dead",
                      3,
                      "Mr. Mito Mitkoff",
                      "male",
                      23,
                      0,
                      0,
                      7.8958
                    ],
                    [
                      "Survived",
                      2,
                      "Miss. Elsie Doling",
                      "female",
                      18,
                      0,
                      1,
                      23
                    ],
                    [
                      "Dead",
                      3,
                      "Mr. Johannes Halvorsen Kalvik",
                      "male",
                      21,
                      0,
                      0,
                      8.4333
                    ],
                    [
                      "Survived",
                      3,
                      "Miss. Hanora O'Leary",
                      "female",
                      16,
                      0,
                      0,
                      7.8292
                    ],
                    [
                      "Dead",
                      3,
                      "Miss. Hanora Hegarty",
                      "female",
                      18,
                      0,
                      0,
                      6.75
                    ],
                    [
                      "Dead",
                      2,
                      "Mr. Leonard Mark Hickman",
                      "male",
                      24,
                      2,
                      0,
                      73.5
                    ],
                    [
                      "Dead",
                      3,
                      "Mr. Alexander Radeff",
                      "male",
                      27,
                      0,
                      0,
                      7.8958
                    ],
                    [
                      "Dead",
                      3,
                      "Mrs. John (Catherine) Bourke",
                      "female",
                      32,
                      1,
                      1,
                      15.5
                    ],
                    [
                      "Dead",
                      2,
                      "Mr. George Floyd Eitemiller",
                      "male",
                      23,
                      0,
                      0,
                      13
                    ],
                    [
                      "Dead",
                      1,
                      "Mr. Arthur Webster Newell",
                      "male",
                      58,
                      0,
                      2,
                      113.275
                    ],
                    [
                      "Survived",
                      1,
                      "Dr. Henry William Frauenthal",
                      "male",
                      50,
                      2,
                      0,
                      133.65
                    ],
                    [
                      "Dead",
                      3,
                      "Mr. Mohamed Badt",
                      "male",
                      40,
                      0,
                      0,
                      7.225
                    ],
                    [
                      "Dead",
                      1,
                      "Mr. Edward Pomeroy Colley",
                      "male",
                      47,
                      0,
                      0,
                      25.5875
                    ],
                    [
                      "Dead",
                      3,
                      "Mr. Peju Coleff",
                      "male",
                      36,
                      0,
                      0,
                      7.4958
                    ],
                    [
                      "Survived",
                      3,
                      "Mr. Eino William Lindqvist",
                      "male",
                      20,
                      1,
                      0,
                      7.925
                    ],
                    [
                      "Dead",
                      2,
                      "Mr. Lewis Hickman",
                      "male",
                      32,
                      2,
                      0,
                      73.5
                    ],
                    [
                      "Dead",
                      2,
                      "Mr. Reginald Fenton Butler",
                      "male",
                      25,
                      0,
                      0,
                      13
                    ],
                    [
                      "Dead",
                      3,
                      "Mr. Knud Paust Rommetvedt",
                      "male",
                      49,
                      0,
                      0,
                      7.775
                    ],
                    [
                      "Dead",
                      3,
                      "Mr. Jacob Cook",
                      "male",
                      43,
                      0,
                      0,
                      8.05
                    ],
                    [
                      "Survived",
                      1,
                      "Mrs. Elmer Zebley (Juliet Cummins Wright) Taylor",
                      "female",
                      48,
                      1,
                      0,
                      52
                    ],
                    [
                      "Survived",
                      2,
                      "Mrs. Thomas William Solomon (Elizabeth Catherine Ford) Brown",
                      "female",
                      40,
                      1,
                      1,
                      39
                    ],
                    [
                      "Dead",
                      1,
                      "Mr. Thornton Davidson",
                      "male",
                      31,
                      1,
                      0,
                      52
                    ],
                    [
                      "Dead",
                      2,
                      "Mr. Henry Michael Mitchell",
                      "male",
                      70,
                      0,
                      0,
                      10.5
                    ],
                    [
                      "Survived",
                      2,
                      "Mr. Charles Wilhelms",
                      "male",
                      31,
                      0,
                      0,
                      13
                    ],
                    [
                      "Dead",
                      2,
                      "Mr. Ennis Hastings Watson",
                      "male",
                      19,
                      0,
                      0,
                      0
                    ],
                    [
                      "Dead",
                      3,
                      "Mr. Gustaf Hjalmar Edvardsson",
                      "male",
                      18,
                      0,
                      0,
                      7.775
                    ],
                    [
                      "Dead",
                      3,
                      "Mr. Frederick Charles Sawyer",
                      "male",
                      24.5,
                      0,
                      0,
                      8.05
                    ],
                    [
                      "Survived",
                      3,
                      "Miss. Anna Sofia Turja",
                      "female",
                      18,
                      0,
                      0,
                      9.8417
                    ],
                    [
                      "Dead",
                      3,
                      "Mrs. Frederick (Augusta Tyler) Goodwin",
                      "female",
                      43,
                      1,
                      6,
                      46.9
                    ],
                    [
                      "Survived",
                      1,
                      "Mr. Thomas Drake Martinez Cardeza",
                      "male",
                      36,
                      0,
                      1,
                      512.3292
                    ],
                    [
                      "Dead",
                      3,
                      "Miss. Katie Peters",
                      "female",
                      28,
                      0,
                      0,
                      8.1375
                    ],
                    [
                      "Survived",
                      1,
                      "Mr. Hammad Hassab",
                      "male",
                      27,
                      0,
                      0,
                      76.7292
                    ],
                    [
                      "Dead",
                      3,
                      "Mr. Thor Anderson Olsvigen",
                      "male",
                      20,
                      0,
                      0,
                      9.225
                    ],
                    [
                      "Dead",
                      3,
                      "Mr. Charles Edward Goodwin",
                      "male",
                      14,
                      5,
                      2,
                      46.9
                    ],
                    [
                      "Dead",
                      2,
                      "Mr. Thomas William Solomon Brown",
                      "male",
                      60,
                      1,
                      1,
                      39
                    ],
                    [
                      "Dead",
                      2,
                      "Mr. Joseph Philippe Lemercier Laroche",
                      "male",
                      25,
                      1,
                      2,
                      41.5792
                    ],
                    [
                      "Dead",
                      3,
                      "Mr. Jaako Arnold Panula",
                      "male",
                      14,
                      4,
                      1,
                      39.6875
                    ],
                    [
                      "Dead",
                      3,
                      "Mr. Branko Dakic",
                      "male",
                      19,
                      0,
                      0,
                      10.1708
                    ],
                    [
                      "Dead",
                      3,
                      "Mr. Eberhard Thelander Fischer",
                      "male",
                      18,
                      0,
                      0,
                      7.7958
                    ],
                    [
                      "Survived",
                      1,
                      "Miss. Georgette Alexandra Madill",
                      "female",
                      15,
                      0,
                      1,
                      211.3375
                    ],
                    [
                      "Survived",
                      1,
                      "Mr. Albert Adrian Dick",
                      "male",
                      31,
                      1,
                      0,
                      57
                    ],
                    [
                      "Survived",
                      3,
                      "Miss. Manca Karun",
                      "female",
                      4,
                      0,
                      1,
                      13.4167
                    ],
                    [
                      "Survived",
                      3,
                      "Mr. Ali Lam",
                      "male",
                      37,
                      0,
                      0,
                      56.4958
                    ],
                    [
                      "Dead",
                      3,
                      "Mr. Khalil Saad",
                      "male",
                      25,
                      0,
                      0,
                      7.225
                    ],
                    [
                      "Dead",
                      1,
                      "Col. John Weir",
                      "male",
                      60,
                      0,
                      0,
                      26.55
                    ],
                    [
                      "Dead",
                      2,
                      "Mr. Charles Henry Chapman",
                      "male",
                      52,
                      0,
                      0,
                      13.5
                    ],
                    [
                      "Dead",
                      3,
                      "Mr. James Kelly",
                      "male",
                      44,
                      0,
                      0,
                      8.05
                    ],
                    [
                      "Survived",
                      3,
                      "Miss. Katherine Mullens",
                      "female",
                      19,
                      0,
                      0,
                      7.7333
                    ],
                    [
                      "Dead",
                      1,
                      "Mr. John Borland Thayer",
                      "male",
                      49,
                      1,
                      1,
                      110.8833
                    ],
                    [
                      "Dead",
                      3,
                      "Mr. Adolf Mathias Nicolai Olsen Humblen",
                      "male",
                      42,
                      0,
                      0,
                      7.65
                    ],
                    [
                      "Survived",
                      1,
                      "Mrs. John Jacob (Madeleine Talmadge Force) Astor",
                      "female",
                      18,
                      1,
                      0,
                      227.525
                    ],
                    [
                      "Survived",
                      1,
                      "Mr. Spencer Victor Silverthorne",
                      "male",
                      35,
                      0,
                      0,
                      26.2875
                    ],
                    [
                      "Dead",
                      3,
                      "Miss. Saiide Barbara",
                      "female",
                      18,
                      0,
                      1,
                      14.4542
                    ],
                    [
                      "Dead",
                      3,
                      "Mr. Martin Gallagher",
                      "male",
                      25,
                      0,
                      0,
                      7.7417
                    ],
                    [
                      "Dead",
                      3,
                      "Mr. Henrik Juul Hansen",
                      "male",
                      26,
                      1,
                      0,
                      7.8542
                    ],
                    [
                      "Dead",
                      2,
                      "Mr. Henry Samuel Morley",
                      "male",
                      39,
                      0,
                      0,
                      26
                    ],
                    [
                      "Survived",
                      2,
                      "Mrs. Florence Kelly",
                      "female",
                      45,
                      0,
                      0,
                      13.5
                    ],
                    [
                      "Survived",
                      1,
                      "Mr. Edward Pennington Calderhead",
                      "male",
                      42,
                      0,
                      0,
                      26.2875
                    ],
                    [
                      "Survived",
                      1,
                      "Miss. Alice Cleaver",
                      "female",
                      22,
                      0,
                      0,
                      151.55
                    ],
                    [
                      "Survived",
                      3,
                      "Master. Halim Gonios Moubarek",
                      "male",
                      4,
                      1,
                      1,
                      15.2458
                    ],
                    [
                      "Survived",
                      1,
                      "Mlle. Berthe Antonine Mayne",
                      "female",
                      24,
                      0,
                      0,
                      49.5042
                    ],
                    [
                      "Dead",
                      1,
                      "Mr. Herman Klaber",
                      "male",
                      41,
                      0,
                      0,
                      26.55
                    ],
                    [
                      "Survived",
                      1,
                      "Mr. Elmer Zebley Taylor",
                      "male",
                      48,
                      1,
                      0,
                      52
                    ],
                    [
                      "Dead",
                      3,
                      "Mr. August Viktor Larsson",
                      "male",
                      29,
                      0,
                      0,
                      9.4833
                    ],
                    [
                      "Dead",
                      2,
                      "Mr. Samuel Greenberg",
                      "male",
                      52,
                      0,
                      0,
                      13
                    ],
                    [
                      "Dead",
                      3,
                      "Mr. Peter Andreas Lauritz Andersen Soholt",
                      "male",
                      19,
                      0,
                      0,
                      7.65
                    ],
                    [
                      "Survived",
                      1,
                      "Miss. Caroline Louise Endres",
                      "female",
                      38,
                      0,
                      0,
                      227.525
                    ],
                    [
                      "Survived",
                      2,
                      "Miss. Edwina Celia Troutt",
                      "female",
                      27,
                      0,
                      0,
                      10.5
                    ],
                    [
                      "Dead",
                      3,
                      "Mr. Malkolm Joackim Johnson",
                      "male",
                      33,
                      0,
                      0,
                      7.775
                    ],
                    [
                      "Survived",
                      2,
                      "Miss. Annie Jessie Harper",
                      "female",
                      6,
                      0,
                      1,
                      33
                    ],
                    [
                      "Dead",
                      3,
                      "Mr. Svend Lauritz Jensen",
                      "male",
                      17,
                      1,
                      0,
                      7.0542
                    ],
                    [
                      "Dead",
                      2,
                      "Mr. William Henry Gillespie",
                      "male",
                      34,
                      0,
                      0,
                      13
                    ],
                    [
                      "Dead",
                      2,
                      "Mr. Henry Price Hodges",
                      "male",
                      50,
                      0,
                      0,
                      13
                    ],
                    [
                      "Survived",
                      1,
                      "Mr. Norman Campbell Chambers",
                      "male",
                      27,
                      1,
                      0,
                      53.1
                    ],
                    [
                      "Dead",
                      3,
                      "Mr. Luka Oreskovic",
                      "male",
                      20,
                      0,
                      0,
                      8.6625
                    ],
                    [
                      "Survived",
                      2,
                      "Mrs. Peter Henry (Lillian Jefferys) Renouf",
                      "female",
                      30,
                      3,
                      0,
                      21
                    ],
                    [
                      "Survived",
                      3,
                      "Miss. Margareth Mannion",
                      "female",
                      28,
                      0,
                      0,
                      7.7375
                    ],
                    [
                      "Dead",
                      2,
                      "Mr. Kurt Arnold Gottfrid Bryhl",
                      "male",
                      25,
                      1,
                      0,
                      26
                    ],
                    [
                      "Dead",
                      3,
                      "Miss. Pieta Sofia Ilmakangas",
                      "female",
                      25,
                      1,
                      0,
                      7.925
                    ],
                    [
                      "Survived",
                      1,
                      "Miss. Elisabeth Walton Allen",
                      "female",
                      29,
                      0,
                      0,
                      211.3375
                    ],
                    [
                      "Dead",
                      3,
                      "Mr. Houssein G N Hassan",
                      "male",
                      11,
                      0,
                      0,
                      18.7875
                    ],
                    [
                      "Dead",
                      2,
                      "Mr. Robert J Knight",
                      "male",
                      41,
                      0,
                      0,
                      0
                    ],
                    [
                      "Dead",
                      2,
                      "Mr. William John Berriman",
                      "male",
                      23,
                      0,
                      0,
                      13
                    ],
                    [
                      "Dead",
                      2,
                      "Mr. Moses Aaron Troupiansky",
                      "male",
                      23,
                      0,
                      0,
                      13
                    ],
                    [
                      "Dead",
                      3,
                      "Mr. Leslie Williams",
                      "male",
                      28.5,
                      0,
                      0,
                      16.1
                    ],
                    [
                      "Dead",
                      3,
                      "Mrs. Edward (Margaret Ann Watson) Ford",
                      "female",
                      48,
                      1,
                      3,
                      34.375
                    ],
                    [
                      "Survived",
                      1,
                      "Mr. Gustave J Lesurer",
                      "male",
                      35,
                      0,
                      0,
                      512.3292
                    ],
                    [
                      "Dead",
                      3,
                      "Mr. Kanio Ivanoff",
                      "male",
                      20,
                      0,
                      0,
                      7.8958
                    ],
                    [
                      "Dead",
                      3,
                      "Mr. Minko Nankoff",
                      "male",
                      32,
                      0,
                      0,
                      7.8958
                    ],
                    [
                      "Survived",
                      1,
                      "Mr. Walter James Hawksford",
                      "male",
                      45,
                      0,
                      0,
                      30
                    ],
                    [
                      "Dead",
                      1,
                      "Mr. Tyrell William Cavendish",
                      "male",
                      36,
                      1,
                      0,
                      78.85
                    ],
                    [
                      "Survived",
                      1,
                      "Miss. Susan Parker Ryerson",
                      "female",
                      21,
                      2,
                      2,
                      262.375
                    ],
                    [
                      "Dead",
                      3,
                      "Mr. Neal McNamee",
                      "male",
                      24,
                      1,
                      0,
                      16.1
                    ],
                    [
                      "Survived",
                      3,
                      "Mr. Juho Stranden",
                      "male",
                      31,
                      0,
                      0,
                      7.925
                    ],
                    [
                      "Dead",
                      1,
                      "Capt. Edward Gifford Crosby",
                      "male",
                      70,
                      1,
                      1,
                      71
                    ],
                    [
                      "Dead",
                      3,
                      "Mr. Rossmore Edward Abbott",
                      "male",
                      16,
                      1,
                      1,
                      20.25
                    ],
                    [
                      "Survived",
                      2,
                      "Miss. Anna Sinkkonen",
                      "female",
                      30,
                      0,
                      0,
                      13
                    ],
                    [
                      "Dead",
                      1,
                      "Mr. Daniel Warner Marvin",
                      "male",
                      19,
                      1,
                      0,
                      53.1
                    ],
                    [
                      "Dead",
                      3,
                      "Mr. Michael Connaghton",
                      "male",
                      31,
                      0,
                      0,
                      7.75
                    ],
                    [
                      "Survived",
                      2,
                      "Miss. Joan Wells",
                      "female",
                      4,
                      1,
                      1,
                      23
                    ],
                    [
                      "Survived",
                      3,
                      "Master. Meier Moor",
                      "male",
                      6,
                      0,
                      1,
                      12.475
                    ],
                    [
                      "Dead",
                      3,
                      "Mr. Johannes Joseph Vande Velde",
                      "male",
                      33,
                      0,
                      0,
                      9.5
                    ],
                    [
                      "Dead",
                      3,
                      "Mr. Lalio Jonkoff",
                      "male",
                      23,
                      0,
                      0,
                      7.8958
                    ],
                    [
                      "Survived",
                      2,
                      "Mrs. Samuel (Jane Laver) Herman",
                      "female",
                      48,
                      1,
                      2,
                      65
                    ],
                    [
                      "Survived",
                      2,
                      "Master. Viljo Hamalainen",
                      "male",
                      0.67,
                      1,
                      1,
                      14.5
                    ],
                    [
                      "Dead",
                      3,
                      "Mr. August Sigfrid Carlsson",
                      "male",
                      28,
                      0,
                      0,
                      7.7958
                    ],
                    [
                      "Dead",
                      2,
                      "Mr. Percy Andrew Bailey",
                      "male",
                      18,
                      0,
                      0,
                      11.5
                    ],
                    [
                      "Dead",
                      3,
                      "Mr. Thomas Leonard Theobald",
                      "male",
                      34,
                      0,
                      0,
                      8.05
                    ],
                    [
                      "Survived",
                      1,
                      "the Countess. of (Lucy Noel Martha Dyer-Edwards) Rothes",
                      "female",
                      33,
                      0,
                      0,
                      86.5
                    ],
                    [
                      "Dead",
                      3,
                      "Mr. John Garfirth",
                      "male",
                      23,
                      0,
                      0,
                      14.5
                    ],
                    [
                      "Dead",
                      3,
                      "Mr. Iisakki Antino Aijo Nirva",
                      "male",
                      41,
                      0,
                      0,
                      7.125
                    ],
                    [
                      "Survived",
                      3,
                      "Mr. Hanna Assi Barah",
                      "male",
                      20,
                      0,
                      0,
                      7.2292
                    ],
                    [
                      "Survived",
                      1,
                      "Mrs. William Ernest (Lucile Polk) Carter",
                      "female",
                      36,
                      1,
                      2,
                      120
                    ],
                    [
                      "Dead",
                      3,
                      "Mr. Hans Linus Eklund",
                      "male",
                      16,
                      0,
                      0,
                      7.775
                    ],
                    [
                      "Survived",
                      1,
                      "Mrs. John C (Anna Andrews) Hogeboom",
                      "female",
                      51,
                      1,
                      0,
                      77.9583
                    ],
                    [
                      "Dead",
                      1,
                      "Dr. Arthur Jackson Brewe",
                      "male",
                      46,
                      0,
                      0,
                      39.6
                    ],
                    [
                      "Dead",
                      3,
                      "Miss. Mary Mangan",
                      "female",
                      30.5,
                      0,
                      0,
                      7.75
                    ],
                    [
                      "Dead",
                      3,
                      "Mr. Daniel J Moran",
                      "male",
                      28,
                      1,
                      0,
                      24.15
                    ],
                    [
                      "Dead",
                      3,
                      "Mr. Daniel Danielsen Gronnestad",
                      "male",
                      32,
                      0,
                      0,
                      8.3625
                    ],
                    [
                      "Dead",
                      3,
                      "Mr. Rene Aime Lievens",
                      "male",
                      24,
                      0,
                      0,
                      9.5
                    ],
                    [
                      "Dead",
                      3,
                      "Mr. Niels Peder Jensen",
                      "male",
                      48,
                      0,
                      0,
                      7.8542
                    ],
                    [
                      "Dead",
                      2,
                      "Mrs. (Mary) Mack",
                      "female",
                      57,
                      0,
                      0,
                      10.5
                    ],
                    [
                      "Dead",
                      3,
                      "Mr. Dibo Elias",
                      "male",
                      29,
                      0,
                      0,
                      7.225
                    ],
                    [
                      "Survived",
                      2,
                      "Mrs. Elizabeth (Eliza Needs) Hocking",
                      "female",
                      54,
                      1,
                      3,
                      23
                    ],
                    [
                      "Dead",
                      3,
                      "Mr. Pehr Fabian Oliver Malkolm Myhrman",
                      "male",
                      18,
                      0,
                      0,
                      7.75
                    ],
                    [
                      "Dead",
                      3,
                      "Mr. Roger Tobin",
                      "male",
                      20,
                      0,
                      0,
                      7.75
                    ],
                    [
                      "Survived",
                      3,
                      "Miss. Virginia Ethel Emanuel",
                      "female",
                      5,
                      0,
                      0,
                      12.475
                    ],
                    [
                      "Dead",
                      3,
                      "Mr. Thomas J Kilgannon",
                      "male",
                      22,
                      0,
                      0,
                      7.7375
                    ],
                    [
                      "Survived",
                      1,
                      "Mrs. Edward Scott (Elisabeth Walton McMillan) Robert",
                      "female",
                      43,
                      0,
                      1,
                      211.3375
                    ],
                    [
                      "Survived",
                      3,
                      "Miss. Banoura Ayoub",
                      "female",
                      13,
                      0,
                      0,
                      7.2292
                    ],
                    [
                      "Survived",
                      1,
                      "Mrs. Albert Adrian (Vera Gillespie) Dick",
                      "female",
                      17,
                      1,
                      0,
                      57
                    ],
                    [
                      "Dead",
                      1,
                      "Mr. Milton Clyde Long",
                      "male",
                      29,
                      0,
                      0,
                      30
                    ],
                    [
                      "Dead",
                      3,
                      "Mr. Andrew G Johnston",
                      "male",
                      35,
                      1,
                      2,
                      23.45
                    ],
                    [
                      "Dead",
                      3,
                      "Mr. William Ali",
                      "male",
                      25,
                      0,
                      0,
                      7.05
                    ],
                    [
                      "Dead",
                      3,
                      "Mr. Abraham (David Lishin) Harmer",
                      "male",
                      25,
                      0,
                      0,
                      7.25
                    ],
                    [
                      "Survived",
                      3,
                      "Miss. Anna Sofia Sjoblom",
                      "female",
                      18,
                      0,
                      0,
                      7.4958
                    ],
                    [
                      "Dead",
                      3,
                      "Master. George Hugh Rice",
                      "male",
                      8,
                      4,
                      1,
                      29.125
                    ],
                    [
                      "Survived",
                      3,
                      "Master. Bertram Vere Dean",
                      "male",
                      1,
                      1,
                      2,
                      20.575
                    ],
                    [
                      "Dead",
                      1,
                      "Mr. Benjamin Guggenheim",
                      "male",
                      46,
                      0,
                      0,
                      79.2
                    ],
                    [
                      "Dead",
                      3,
                      "Mr. Andrew Keane",
                      "male",
                      20,
                      0,
                      0,
                      7.75
                    ],
                    [
                      "Dead",
                      2,
                      "Mr. Alfred Gaskell",
                      "male",
                      16,
                      0,
                      0,
                      26
                    ],
                    [
                      "Dead",
                      3,
                      "Miss. Stella Anna Sage",
                      "female",
                      21,
                      8,
                      2,
                      69.55
                    ],
                    [
                      "Dead",
                      1,
                      "Mr. William Fisher Hoyt",
                      "male",
                      43,
                      0,
                      0,
                      30.6958
                    ],
                    [
                      "Dead",
                      3,
                      "Mr. Ristiu Dantcheff",
                      "male",
                      25,
                      0,
                      0,
                      7.8958
                    ],
                    [
                      "Dead",
                      2,
                      "Mr. Richard Otter",
                      "male",
                      39,
                      0,
                      0,
                      13
                    ],
                    [
                      "Survived",
                      1,
                      "Dr. Alice (Farnham) Leader",
                      "female",
                      49,
                      0,
                      0,
                      25.9292
                    ],
                    [
                      "Survived",
                      3,
                      "Mrs. Mara Osman",
                      "female",
                      31,
                      0,
                      0,
                      8.6833
                    ],
                    [
                      "Dead",
                      3,
                      "Mr. Yousseff Ibrahim Shawah",
                      "male",
                      30,
                      0,
                      0,
                      7.2292
                    ],
                    [
                      "Dead",
                      3,
                      "Mrs. Jean Baptiste (Rosalie Paula Govaert) Van Impe",
                      "female",
                      30,
                      1,
                      1,
                      24.15
                    ],
                    [
                      "Dead",
                      2,
                      "Mr. Martin Ponesell",
                      "male",
                      34,
                      0,
                      0,
                      13
                    ],
                    [
                      "Survived",
                      2,
                      "Mrs. Harvey (Charlotte Annie Tate) Collyer",
                      "female",
                      31,
                      1,
                      1,
                      26.25
                    ],
                    [
                      "Survived",
                      1,
                      "Master. William Thornton II Carter",
                      "male",
                      11,
                      1,
                      2,
                      120
                    ],
                    [
                      "Survived",
                      3,
                      "Master. Assad Alexander Thomas",
                      "male",
                      0.42,
                      0,
                      1,
                      8.5167
                    ],
                    [
                      "Survived",
                      3,
                      "Mr. Oskar Arvid Hedman",
                      "male",
                      27,
                      0,
                      0,
                      6.975
                    ],
                    [
                      "Dead",
                      3,
                      "Mr. Karl Johan Johansson",
                      "male",
                      31,
                      0,
                      0,
                      7.775
                    ],
                    [
                      "Dead",
                      1,
                      "Mr. Thomas Jr Andrews",
                      "male",
                      39,
                      0,
                      0,
                      0
                    ],
                    [
                      "Dead",
                      3,
                      "Miss. Ellen Natalia Pettersson",
                      "female",
                      18,
                      0,
                      0,
                      7.775
                    ],
                    [
                      "Dead",
                      2,
                      "Mr. August Meyer",
                      "male",
                      39,
                      0,
                      0,
                      13
                    ],
                    [
                      "Survived",
                      1,
                      "Mrs. Norman Campbell (Bertha Griggs) Chambers",
                      "female",
                      33,
                      1,
                      0,
                      53.1
                    ],
                    [
                      "Dead",
                      3,
                      "Mr. William Alexander",
                      "male",
                      26,
                      0,
                      0,
                      7.8875
                    ],
                    [
                      "Dead",
                      3,
                      "Mr. James Lester",
                      "male",
                      39,
                      0,
                      0,
                      24.15
                    ],
                    [
                      "Dead",
                      2,
                      "Mr. Richard James Slemen",
                      "male",
                      35,
                      0,
                      0,
                      10.5
                    ],
                    [
                      "Dead",
                      3,
                      "Miss. Ebba Iris Alfrida Andersson",
                      "female",
                      6,
                      4,
                      2,
                      31.275
                    ],
                    [
                      "Dead",
                      3,
                      "Mr. Ernest Portage Tomlin",
                      "male",
                      30.5,
                      0,
                      0,
                      8.05
                    ],
                    [
                      "Dead",
                      1,
                      "Mr. Richard Fry",
                      "male",
                      39,
                      0,
                      0,
                      0
                    ],
                    [
                      "Dead",
                      3,
                      "Miss. Wendla Maria Heininen",
                      "female",
                      23,
                      0,
                      0,
                      7.925
                    ],
                    [
                      "Dead",
                      2,
                      "Mr. Albert Mallet",
                      "male",
                      31,
                      1,
                      1,
                      37.0042
                    ],
                    [
                      "Dead",
                      3,
                      "Mr. John Fredrik Alexander Holm",
                      "male",
                      43,
                      0,
                      0,
                      6.45
                    ],
                    [
                      "Dead",
                      3,
                      "Master. Karl Thorsten Skoog",
                      "male",
                      10,
                      3,
                      2,
                      27.9
                    ],
                    [
                      "Survived",
                      1,
                      "Mrs. Charles Melville (Clara Jennings Gregg) Hays",
                      "female",
                      52,
                      1,
                      1,
                      93.5
                    ],
                    [
                      "Survived",
                      3,
                      "Mr. Nikola Lulic",
                      "male",
                      27,
                      0,
                      0,
                      8.6625
                    ],
                    [
                      "Dead",
                      1,
                      "Jonkheer. John George Reuchlin",
                      "male",
                      38,
                      0,
                      0,
                      0
                    ],
                    [
                      "Survived",
                      3,
                      "Mrs. (Beila) Moor",
                      "female",
                      27,
                      0,
                      1,
                      12.475
                    ],
                    [
                      "Dead",
                      3,
                      "Master. Urho Abraham Panula",
                      "male",
                      2,
                      4,
                      1,
                      39.6875
                    ],
                    [
                      "Dead",
                      3,
                      "Mr. John Flynn",
                      "male",
                      36,
                      0,
                      0,
                      6.95
                    ],
                    [
                      "Dead",
                      3,
                      "Mr. Len Lam",
                      "male",
                      23,
                      0,
                      0,
                      56.4958
                    ],
                    [
                      "Survived",
                      2,
                      "Master. Andre Mallet",
                      "male",
                      1,
                      0,
                      2,
                      37.0042
                    ],
                    [
                      "Survived",
                      3,
                      "Mr. Thomas Joseph McCormack",
                      "male",
                      19,
                      0,
                      0,
                      7.75
                    ],
                    [
                      "Survived",
                      1,
                      "Mrs. George Nelson (Martha Evelyn) Stone",
                      "female",
                      62,
                      0,
                      0,
                      80
                    ],
                    [
                      "Survived",
                      3,
                      "Mrs. Antoni (Selini Alexander) Yasbeck",
                      "female",
                      15,
                      1,
                      0,
                      14.4542
                    ],
                    [
                      "Survived",
                      2,
                      "Master. George Sibley Richards",
                      "male",
                      0.83,
                      1,
                      1,
                      18.75
                    ],
                    [
                      "Dead",
                      3,
                      "Mr. Amin Saad",
                      "male",
                      30,
                      0,
                      0,
                      7.2292
                    ],
                    [
                      "Dead",
                      3,
                      "Mr. Albert Augustsson",
                      "male",
                      23,
                      0,
                      0,
                      7.8542
                    ],
                    [
                      "Dead",
                      3,
                      "Mr. Owen George Allum",
                      "male",
                      18,
                      0,
                      0,
                      8.3
                    ],
                    [
                      "Survived",
                      1,
                      "Miss. Sara Rebecca Compton",
                      "female",
                      39,
                      1,
                      1,
                      83.1583
                    ],
                    [
                      "Dead",
                      3,
                      "Mr. Jakob Pasic",
                      "male",
                      21,
                      0,
                      0,
                      8.6625
                    ],
                    [
                      "Dead",
                      3,
                      "Mr. Maurice Sirota",
                      "male",
                      20,
                      0,
                      0,
                      8.05
                    ],
                    [
                      "Survived",
                      3,
                      "Mr. Chang Chip",
                      "male",
                      32,
                      0,
                      0,
                      56.4958
                    ],
                    [
                      "Survived",
                      1,
                      "Mr. Pierre Marechal",
                      "male",
                      29,
                      0,
                      0,
                      29.7
                    ],
                    [
                      "Dead",
                      3,
                      "Mr. Ilmari Rudolf Alhomaki",
                      "male",
                      20,
                      0,
                      0,
                      7.925
                    ],
                    [
                      "Dead",
                      2,
                      "Mr. Thomas Charles Mudd",
                      "male",
                      16,
                      0,
                      0,
                      10.5
                    ],
                    [
                      "Survived",
                      1,
                      "Miss. Augusta Serepeca",
                      "female",
                      30,
                      0,
                      0,
                      31
                    ],
                    [
                      "Dead",
                      3,
                      "Mr. Peter L Lemberopolous",
                      "male",
                      34.5,
                      0,
                      0,
                      6.4375
                    ],
                    [
                      "Dead",
                      3,
                      "Mr. Jeso Culumovic",
                      "male",
                      17,
                      0,
                      0,
                      8.6625
                    ],
                    [
                      "Dead",
                      3,
                      "Mr. Anthony Abbing",
                      "male",
                      42,
                      0,
                      0,
                      7.55
                    ],
                    [
                      "Dead",
                      3,
                      "Mr. Douglas Bullen Sage",
                      "male",
                      18,
                      8,
                      2,
                      69.55
                    ],
                    [
                      "Dead",
                      3,
                      "Mr. Marin Markoff",
                      "male",
                      35,
                      0,
                      0,
                      7.8958
                    ],
                    [
                      "Dead",
                      2,
                      "Rev. John Harper",
                      "male",
                      28,
                      0,
                      1,
                      33
                    ],
                    [
                      "Survived",
                      1,
                      "Mrs. Samuel L (Edwiga Grabowska) Goldenberg",
                      "female",
                      40,
                      1,
                      0,
                      89.1042
                    ],
                    [
                      "Dead",
                      3,
                      "Master. Sigvard Harald Elias Andersson",
                      "male",
                      4,
                      4,
                      2,
                      31.275
                    ],
                    [
                      "Dead",
                      3,
                      "Mr. Johan Svensson",
                      "male",
                      74,
                      0,
                      0,
                      7.775
                    ],
                    [
                      "Dead",
                      3,
                      "Miss. Nourelain Boulos",
                      "female",
                      9,
                      1,
                      1,
                      15.2458
                    ],
                    [
                      "Survived",
                      1,
                      "Miss. Mary Conover Lines",
                      "female",
                      16,
                      0,
                      1,
                      39.4
                    ],
                    [
                      "Dead",
                      2,
                      "Mrs. Ernest Courtenay (Lilian Hughes) Carter",
                      "female",
                      44,
                      1,
                      0,
                      26
                    ],
                    [
                      "Survived",
                      3,
                      "Mrs. Sam (Leah Rosen) Aks",
                      "female",
                      18,
                      0,
                      1,
                      9.35
                    ],
                    [
                      "Survived",
                      1,
                      "Mrs. George Dennick (Mary Hitchcock) Wick",
                      "female",
                      45,
                      1,
                      1,
                      164.8667
                    ],
                    [
                      "Survived",
                      1,
                      "Mr. Peter Denis Daly",
                      "male",
                      51,
                      0,
                      0,
                      26.55
                    ],
                    [
                      "Survived",
                      3,
                      "Mrs. Solomon (Latifa Qurban) Baclini",
                      "female",
                      24,
                      0,
                      3,
                      19.2583
                    ],
                    [
                      "Dead",
                      3,
                      "Mr. Raihed Razi",
                      "male",
                      30,
                      0,
                      0,
                      7.2292
                    ],
                    [
                      "Dead",
                      3,
                      "Mr. Claus Peter Hansen",
                      "male",
                      41,
                      2,
                      0,
                      14.1083
                    ],
                    [
                      "Dead",
                      2,
                      "Mr. Frederick Edward Giles",
                      "male",
                      21,
                      1,
                      0,
                      11.5
                    ],
                    [
                      "Survived",
                      1,
                      "Mrs. Frederick Joel (Margaret Welles Barron) Swift",
                      "female",
                      48,
                      0,
                      0,
                      25.9292
                    ],
                    [
                      "Dead",
                      3,
                      "Miss. Dorothy Edith Sage",
                      "female",
                      14,
                      8,
                      2,
                      69.55
                    ],
                    [
                      "Dead",
                      2,
                      "Mr. John William Gill",
                      "male",
                      24,
                      0,
                      0,
                      13
                    ],
                    [
                      "Survived",
                      2,
                      "Mrs. (Karolina) Bystrom",
                      "female",
                      42,
                      0,
                      0,
                      13
                    ],
                    [
                      "Survived",
                      2,
                      "Miss. Asuncion Duran y More",
                      "female",
                      27,
                      1,
                      0,
                      13.8583
                    ],
                    [
                      "Dead",
                      1,
                      "Mr. Washington Augustus II Roebling",
                      "male",
                      31,
                      0,
                      0,
                      50.4958
                    ],
                    [
                      "Dead",
                      3,
                      "Mr. Philemon van Melkebeke",
                      "male",
                      23,
                      0,
                      0,
                      9.5
                    ],
                    [
                      "Survived",
                      3,
                      "Master. Harold Theodor Johnson",
                      "male",
                      4,
                      1,
                      1,
                      11.1333
                    ],
                    [
                      "Dead",
                      3,
                      "Mr. Cerin Balkic",
                      "male",
                      26,
                      0,
                      0,
                      7.8958
                    ],
                    [
                      "Survived",
                      1,
                      "Mrs. Richard Leonard (Sallie Monypeny) Beckwith",
                      "female",
                      47,
                      1,
                      1,
                      52.5542
                    ],
                    [
                      "Dead",
                      1,
                      "Mr. Frans Olof Carlsson",
                      "male",
                      33,
                      0,
                      0,
                      5
                    ],
                    [
                      "Dead",
                      3,
                      "Mr. Victor Vander Cruyssen",
                      "male",
                      47,
                      0,
                      0,
                      9
                    ],
                    [
                      "Survived",
                      2,
                      "Mrs. Samuel (Hannah Wizosky) Abelson",
                      "female",
                      28,
                      1,
                      0,
                      24
                    ],
                    [
                      "Survived",
                      3,
                      "Miss. Adele Kiamie Najib",
                      "female",
                      15,
                      0,
                      0,
                      7.225
                    ],
                    [
                      "Dead",
                      3,
                      "Mr. Alfred Ossian Gustafsson",
                      "male",
                      20,
                      0,
                      0,
                      9.8458
                    ],
                    [
                      "Dead",
                      3,
                      "Mr. Nedelio Petroff",
                      "male",
                      19,
                      0,
                      0,
                      7.8958
                    ],
                    [
                      "Dead",
                      3,
                      "Mr. Kristo Laleff",
                      "male",
                      23,
                      0,
                      0,
                      7.8958
                    ],
                    [
                      "Survived",
                      1,
                      "Mrs. Thomas Jr (Lily Alexenia Wilson) Potter",
                      "female",
                      56,
                      0,
                      1,
                      83.1583
                    ],
                    [
                      "Survived",
                      2,
                      "Mrs. William (Imanita Parrish Hall) Shelley",
                      "female",
                      25,
                      0,
                      1,
                      26
                    ],
                    [
                      "Dead",
                      3,
                      "Mr. Johann Markun",
                      "male",
                      33,
                      0,
                      0,
                      7.8958
                    ],
                    [
                      "Dead",
                      3,
                      "Miss. Gerda Ulrika Dahlberg",
                      "female",
                      22,
                      0,
                      0,
                      10.5167
                    ],
                    [
                      "Dead",
                      2,
                      "Mr. Frederick James Banfield",
                      "male",
                      28,
                      0,
                      0,
                      10.5
                    ],
                    [
                      "Dead",
                      3,
                      "Mr. Henry Jr Sutehall",
                      "male",
                      25,
                      0,
                      0,
                      7.05
                    ],
                    [
                      "Dead",
                      3,
                      "Mrs. William (Margaret Norton) Rice",
                      "female",
                      39,
                      0,
                      5,
                      29.125
                    ],
                    [
                      "Dead",
                      2,
                      "Rev. Juozas Montvila",
                      "male",
                      27,
                      0,
                      0,
                      13
                    ],
                    [
                      "Survived",
                      1,
                      "Miss. Margaret Edith Graham",
                      "female",
                      19,
                      0,
                      0,
                      30
                    ],
                    [
                      "Dead",
                      3,
                      "Miss. Catherine Helen Johnston",
                      "female",
                      7,
                      1,
                      2,
                      23.45
                    ],
                    [
                      "Survived",
                      1,
                      "Mr. Karl Howell Behr",
                      "male",
                      26,
                      0,
                      0,
                      30
                    ],
                    [
                      "Dead",
                      3,
                      "Mr. Patrick Dooley",
                      "male",
                      32,
                      0,
                      0,
                      7.75
                    ]
                  ]
                }
              ],
              "layout": {
                "coloraxis": {
                  "colorscale": [
                    [
                      0,
                      "#0d0887"
                    ],
                    [
                      0.1111111111111111,
                      "#46039f"
                    ],
                    [
                      0.2222222222222222,
                      "#7201a8"
                    ],
                    [
                      0.3333333333333333,
                      "#9c179e"
                    ],
                    [
                      0.4444444444444444,
                      "#bd3786"
                    ],
                    [
                      0.5555555555555556,
                      "#d8576b"
                    ],
                    [
                      0.6666666666666666,
                      "#ed7953"
                    ],
                    [
                      0.7777777777777778,
                      "#fb9f3a"
                    ],
                    [
                      0.8888888888888888,
                      "#fdca26"
                    ],
                    [
                      1,
                      "#f0f921"
                    ]
                  ]
                },
                "margin": {
                  "t": 60
                },
                "template": {
                  "data": {
                    "bar": [
                      {
                        "error_x": {
                          "color": "#2a3f5f"
                        },
                        "error_y": {
                          "color": "#2a3f5f"
                        },
                        "marker": {
                          "line": {
                            "color": "#E5ECF6",
                            "width": 0.5
                          },
                          "pattern": {
                            "fillmode": "overlay",
                            "size": 10,
                            "solidity": 0.2
                          }
                        },
                        "type": "bar"
                      }
                    ],
                    "barpolar": [
                      {
                        "marker": {
                          "line": {
                            "color": "#E5ECF6",
                            "width": 0.5
                          },
                          "pattern": {
                            "fillmode": "overlay",
                            "size": 10,
                            "solidity": 0.2
                          }
                        },
                        "type": "barpolar"
                      }
                    ],
                    "carpet": [
                      {
                        "aaxis": {
                          "endlinecolor": "#2a3f5f",
                          "gridcolor": "white",
                          "linecolor": "white",
                          "minorgridcolor": "white",
                          "startlinecolor": "#2a3f5f"
                        },
                        "baxis": {
                          "endlinecolor": "#2a3f5f",
                          "gridcolor": "white",
                          "linecolor": "white",
                          "minorgridcolor": "white",
                          "startlinecolor": "#2a3f5f"
                        },
                        "type": "carpet"
                      }
                    ],
                    "choropleth": [
                      {
                        "colorbar": {
                          "outlinewidth": 0,
                          "ticks": ""
                        },
                        "type": "choropleth"
                      }
                    ],
                    "contour": [
                      {
                        "colorbar": {
                          "outlinewidth": 0,
                          "ticks": ""
                        },
                        "colorscale": [
                          [
                            0,
                            "#0d0887"
                          ],
                          [
                            0.1111111111111111,
                            "#46039f"
                          ],
                          [
                            0.2222222222222222,
                            "#7201a8"
                          ],
                          [
                            0.3333333333333333,
                            "#9c179e"
                          ],
                          [
                            0.4444444444444444,
                            "#bd3786"
                          ],
                          [
                            0.5555555555555556,
                            "#d8576b"
                          ],
                          [
                            0.6666666666666666,
                            "#ed7953"
                          ],
                          [
                            0.7777777777777778,
                            "#fb9f3a"
                          ],
                          [
                            0.8888888888888888,
                            "#fdca26"
                          ],
                          [
                            1,
                            "#f0f921"
                          ]
                        ],
                        "type": "contour"
                      }
                    ],
                    "contourcarpet": [
                      {
                        "colorbar": {
                          "outlinewidth": 0,
                          "ticks": ""
                        },
                        "type": "contourcarpet"
                      }
                    ],
                    "heatmap": [
                      {
                        "colorbar": {
                          "outlinewidth": 0,
                          "ticks": ""
                        },
                        "colorscale": [
                          [
                            0,
                            "#0d0887"
                          ],
                          [
                            0.1111111111111111,
                            "#46039f"
                          ],
                          [
                            0.2222222222222222,
                            "#7201a8"
                          ],
                          [
                            0.3333333333333333,
                            "#9c179e"
                          ],
                          [
                            0.4444444444444444,
                            "#bd3786"
                          ],
                          [
                            0.5555555555555556,
                            "#d8576b"
                          ],
                          [
                            0.6666666666666666,
                            "#ed7953"
                          ],
                          [
                            0.7777777777777778,
                            "#fb9f3a"
                          ],
                          [
                            0.8888888888888888,
                            "#fdca26"
                          ],
                          [
                            1,
                            "#f0f921"
                          ]
                        ],
                        "type": "heatmap"
                      }
                    ],
                    "heatmapgl": [
                      {
                        "colorbar": {
                          "outlinewidth": 0,
                          "ticks": ""
                        },
                        "colorscale": [
                          [
                            0,
                            "#0d0887"
                          ],
                          [
                            0.1111111111111111,
                            "#46039f"
                          ],
                          [
                            0.2222222222222222,
                            "#7201a8"
                          ],
                          [
                            0.3333333333333333,
                            "#9c179e"
                          ],
                          [
                            0.4444444444444444,
                            "#bd3786"
                          ],
                          [
                            0.5555555555555556,
                            "#d8576b"
                          ],
                          [
                            0.6666666666666666,
                            "#ed7953"
                          ],
                          [
                            0.7777777777777778,
                            "#fb9f3a"
                          ],
                          [
                            0.8888888888888888,
                            "#fdca26"
                          ],
                          [
                            1,
                            "#f0f921"
                          ]
                        ],
                        "type": "heatmapgl"
                      }
                    ],
                    "histogram": [
                      {
                        "marker": {
                          "pattern": {
                            "fillmode": "overlay",
                            "size": 10,
                            "solidity": 0.2
                          }
                        },
                        "type": "histogram"
                      }
                    ],
                    "histogram2d": [
                      {
                        "colorbar": {
                          "outlinewidth": 0,
                          "ticks": ""
                        },
                        "colorscale": [
                          [
                            0,
                            "#0d0887"
                          ],
                          [
                            0.1111111111111111,
                            "#46039f"
                          ],
                          [
                            0.2222222222222222,
                            "#7201a8"
                          ],
                          [
                            0.3333333333333333,
                            "#9c179e"
                          ],
                          [
                            0.4444444444444444,
                            "#bd3786"
                          ],
                          [
                            0.5555555555555556,
                            "#d8576b"
                          ],
                          [
                            0.6666666666666666,
                            "#ed7953"
                          ],
                          [
                            0.7777777777777778,
                            "#fb9f3a"
                          ],
                          [
                            0.8888888888888888,
                            "#fdca26"
                          ],
                          [
                            1,
                            "#f0f921"
                          ]
                        ],
                        "type": "histogram2d"
                      }
                    ],
                    "histogram2dcontour": [
                      {
                        "colorbar": {
                          "outlinewidth": 0,
                          "ticks": ""
                        },
                        "colorscale": [
                          [
                            0,
                            "#0d0887"
                          ],
                          [
                            0.1111111111111111,
                            "#46039f"
                          ],
                          [
                            0.2222222222222222,
                            "#7201a8"
                          ],
                          [
                            0.3333333333333333,
                            "#9c179e"
                          ],
                          [
                            0.4444444444444444,
                            "#bd3786"
                          ],
                          [
                            0.5555555555555556,
                            "#d8576b"
                          ],
                          [
                            0.6666666666666666,
                            "#ed7953"
                          ],
                          [
                            0.7777777777777778,
                            "#fb9f3a"
                          ],
                          [
                            0.8888888888888888,
                            "#fdca26"
                          ],
                          [
                            1,
                            "#f0f921"
                          ]
                        ],
                        "type": "histogram2dcontour"
                      }
                    ],
                    "mesh3d": [
                      {
                        "colorbar": {
                          "outlinewidth": 0,
                          "ticks": ""
                        },
                        "type": "mesh3d"
                      }
                    ],
                    "parcoords": [
                      {
                        "line": {
                          "colorbar": {
                            "outlinewidth": 0,
                            "ticks": ""
                          }
                        },
                        "type": "parcoords"
                      }
                    ],
                    "pie": [
                      {
                        "automargin": true,
                        "type": "pie"
                      }
                    ],
                    "scatter": [
                      {
                        "fillpattern": {
                          "fillmode": "overlay",
                          "size": 10,
                          "solidity": 0.2
                        },
                        "type": "scatter"
                      }
                    ],
                    "scatter3d": [
                      {
                        "line": {
                          "colorbar": {
                            "outlinewidth": 0,
                            "ticks": ""
                          }
                        },
                        "marker": {
                          "colorbar": {
                            "outlinewidth": 0,
                            "ticks": ""
                          }
                        },
                        "type": "scatter3d"
                      }
                    ],
                    "scattercarpet": [
                      {
                        "marker": {
                          "colorbar": {
                            "outlinewidth": 0,
                            "ticks": ""
                          }
                        },
                        "type": "scattercarpet"
                      }
                    ],
                    "scattergeo": [
                      {
                        "marker": {
                          "colorbar": {
                            "outlinewidth": 0,
                            "ticks": ""
                          }
                        },
                        "type": "scattergeo"
                      }
                    ],
                    "scattergl": [
                      {
                        "marker": {
                          "colorbar": {
                            "outlinewidth": 0,
                            "ticks": ""
                          }
                        },
                        "type": "scattergl"
                      }
                    ],
                    "scattermapbox": [
                      {
                        "marker": {
                          "colorbar": {
                            "outlinewidth": 0,
                            "ticks": ""
                          }
                        },
                        "type": "scattermapbox"
                      }
                    ],
                    "scatterpolar": [
                      {
                        "marker": {
                          "colorbar": {
                            "outlinewidth": 0,
                            "ticks": ""
                          }
                        },
                        "type": "scatterpolar"
                      }
                    ],
                    "scatterpolargl": [
                      {
                        "marker": {
                          "colorbar": {
                            "outlinewidth": 0,
                            "ticks": ""
                          }
                        },
                        "type": "scatterpolargl"
                      }
                    ],
                    "scatterternary": [
                      {
                        "marker": {
                          "colorbar": {
                            "outlinewidth": 0,
                            "ticks": ""
                          }
                        },
                        "type": "scatterternary"
                      }
                    ],
                    "surface": [
                      {
                        "colorbar": {
                          "outlinewidth": 0,
                          "ticks": ""
                        },
                        "colorscale": [
                          [
                            0,
                            "#0d0887"
                          ],
                          [
                            0.1111111111111111,
                            "#46039f"
                          ],
                          [
                            0.2222222222222222,
                            "#7201a8"
                          ],
                          [
                            0.3333333333333333,
                            "#9c179e"
                          ],
                          [
                            0.4444444444444444,
                            "#bd3786"
                          ],
                          [
                            0.5555555555555556,
                            "#d8576b"
                          ],
                          [
                            0.6666666666666666,
                            "#ed7953"
                          ],
                          [
                            0.7777777777777778,
                            "#fb9f3a"
                          ],
                          [
                            0.8888888888888888,
                            "#fdca26"
                          ],
                          [
                            1,
                            "#f0f921"
                          ]
                        ],
                        "type": "surface"
                      }
                    ],
                    "table": [
                      {
                        "cells": {
                          "fill": {
                            "color": "#EBF0F8"
                          },
                          "line": {
                            "color": "white"
                          }
                        },
                        "header": {
                          "fill": {
                            "color": "#C8D4E3"
                          },
                          "line": {
                            "color": "white"
                          }
                        },
                        "type": "table"
                      }
                    ]
                  },
                  "layout": {
                    "annotationdefaults": {
                      "arrowcolor": "#2a3f5f",
                      "arrowhead": 0,
                      "arrowwidth": 1
                    },
                    "autotypenumbers": "strict",
                    "coloraxis": {
                      "colorbar": {
                        "outlinewidth": 0,
                        "ticks": ""
                      }
                    },
                    "colorscale": {
                      "diverging": [
                        [
                          0,
                          "#8e0152"
                        ],
                        [
                          0.1,
                          "#c51b7d"
                        ],
                        [
                          0.2,
                          "#de77ae"
                        ],
                        [
                          0.3,
                          "#f1b6da"
                        ],
                        [
                          0.4,
                          "#fde0ef"
                        ],
                        [
                          0.5,
                          "#f7f7f7"
                        ],
                        [
                          0.6,
                          "#e6f5d0"
                        ],
                        [
                          0.7,
                          "#b8e186"
                        ],
                        [
                          0.8,
                          "#7fbc41"
                        ],
                        [
                          0.9,
                          "#4d9221"
                        ],
                        [
                          1,
                          "#276419"
                        ]
                      ],
                      "sequential": [
                        [
                          0,
                          "#0d0887"
                        ],
                        [
                          0.1111111111111111,
                          "#46039f"
                        ],
                        [
                          0.2222222222222222,
                          "#7201a8"
                        ],
                        [
                          0.3333333333333333,
                          "#9c179e"
                        ],
                        [
                          0.4444444444444444,
                          "#bd3786"
                        ],
                        [
                          0.5555555555555556,
                          "#d8576b"
                        ],
                        [
                          0.6666666666666666,
                          "#ed7953"
                        ],
                        [
                          0.7777777777777778,
                          "#fb9f3a"
                        ],
                        [
                          0.8888888888888888,
                          "#fdca26"
                        ],
                        [
                          1,
                          "#f0f921"
                        ]
                      ],
                      "sequentialminus": [
                        [
                          0,
                          "#0d0887"
                        ],
                        [
                          0.1111111111111111,
                          "#46039f"
                        ],
                        [
                          0.2222222222222222,
                          "#7201a8"
                        ],
                        [
                          0.3333333333333333,
                          "#9c179e"
                        ],
                        [
                          0.4444444444444444,
                          "#bd3786"
                        ],
                        [
                          0.5555555555555556,
                          "#d8576b"
                        ],
                        [
                          0.6666666666666666,
                          "#ed7953"
                        ],
                        [
                          0.7777777777777778,
                          "#fb9f3a"
                        ],
                        [
                          0.8888888888888888,
                          "#fdca26"
                        ],
                        [
                          1,
                          "#f0f921"
                        ]
                      ]
                    },
                    "colorway": [
                      "#636efa",
                      "#EF553B",
                      "#00cc96",
                      "#ab63fa",
                      "#FFA15A",
                      "#19d3f3",
                      "#FF6692",
                      "#B6E880",
                      "#FF97FF",
                      "#FECB52"
                    ],
                    "font": {
                      "color": "#2a3f5f"
                    },
                    "geo": {
                      "bgcolor": "white",
                      "lakecolor": "white",
                      "landcolor": "#E5ECF6",
                      "showlakes": true,
                      "showland": true,
                      "subunitcolor": "white"
                    },
                    "hoverlabel": {
                      "align": "left"
                    },
                    "hovermode": "closest",
                    "mapbox": {
                      "style": "light"
                    },
                    "paper_bgcolor": "white",
                    "plot_bgcolor": "#E5ECF6",
                    "polar": {
                      "angularaxis": {
                        "gridcolor": "white",
                        "linecolor": "white",
                        "ticks": ""
                      },
                      "bgcolor": "#E5ECF6",
                      "radialaxis": {
                        "gridcolor": "white",
                        "linecolor": "white",
                        "ticks": ""
                      }
                    },
                    "scene": {
                      "xaxis": {
                        "backgroundcolor": "#E5ECF6",
                        "gridcolor": "white",
                        "gridwidth": 2,
                        "linecolor": "white",
                        "showbackground": true,
                        "ticks": "",
                        "zerolinecolor": "white"
                      },
                      "yaxis": {
                        "backgroundcolor": "#E5ECF6",
                        "gridcolor": "white",
                        "gridwidth": 2,
                        "linecolor": "white",
                        "showbackground": true,
                        "ticks": "",
                        "zerolinecolor": "white"
                      },
                      "zaxis": {
                        "backgroundcolor": "#E5ECF6",
                        "gridcolor": "white",
                        "gridwidth": 2,
                        "linecolor": "white",
                        "showbackground": true,
                        "ticks": "",
                        "zerolinecolor": "white"
                      }
                    },
                    "shapedefaults": {
                      "line": {
                        "color": "#2a3f5f"
                      }
                    },
                    "ternary": {
                      "aaxis": {
                        "gridcolor": "white",
                        "linecolor": "white",
                        "ticks": ""
                      },
                      "baxis": {
                        "gridcolor": "white",
                        "linecolor": "white",
                        "ticks": ""
                      },
                      "bgcolor": "#E5ECF6",
                      "caxis": {
                        "gridcolor": "white",
                        "linecolor": "white",
                        "ticks": ""
                      }
                    },
                    "title": {
                      "x": 0.05
                    },
                    "xaxis": {
                      "automargin": true,
                      "gridcolor": "white",
                      "linecolor": "white",
                      "ticks": "",
                      "title": {
                        "standoff": 15
                      },
                      "zerolinecolor": "white",
                      "zerolinewidth": 2
                    },
                    "yaxis": {
                      "automargin": true,
                      "gridcolor": "white",
                      "linecolor": "white",
                      "ticks": "",
                      "title": {
                        "standoff": 15
                      },
                      "zerolinecolor": "white",
                      "zerolinewidth": 2
                    }
                  }
                },
                "xaxis": {
                  "anchor": "y",
                  "constrain": "domain",
                  "domain": [
                    0,
                    1
                  ],
                  "scaleanchor": "y"
                },
                "yaxis": {
                  "anchor": "x",
                  "autorange": "reversed",
                  "constrain": "domain",
                  "domain": [
                    0,
                    1
                  ]
                }
              }
            }
          },
          "metadata": {},
          "output_type": "display_data"
        }
      ],
      "source": [
        "# First exploratio\n",
        "px.imshow(df_titanic)\n"
      ]
    },
    {
      "cell_type": "markdown",
      "metadata": {
        "id": "Sdzi-h3un-XT"
      },
      "source": [
        "You are looking for Jack. How many people named Jack on board?"
      ]
    },
    {
      "cell_type": "code",
      "execution_count": 43,
      "metadata": {
        "colab": {
          "base_uri": "https://localhost:8080/"
        },
        "id": "UDGn6qWIn7Ql",
        "outputId": "80fe51ea-f35f-4eb7-ffd2-f53956e5b47e"
      },
      "outputs": [
        {
          "data": {
            "text/plain": [
              "1"
            ]
          },
          "execution_count": 43,
          "metadata": {},
          "output_type": "execute_result"
        }
      ],
      "source": [
        "# How many people named Jack on board?\n",
        "nb_jack = df_titanic['Name'].str.contains('Jack').sum()\n",
        "nb_jack"
      ]
    },
    {
      "cell_type": "markdown",
      "metadata": {
        "id": "vpruBrCOnOw8"
      },
      "source": [
        "# Logistic regression\n",
        "\n",
        "Today, in this quest, you have an extraordinary power: you can travel in time to try to save some passengers.\n",
        "You obviously wanted to save Jack. But you didn't find his name on the list. He probably travels under a false name...\n",
        "Too bad, thanks to this trip, you will still try to save as many people as possible. To do this, you have to identify the people who are most probably going to die.\n",
        "\n",
        "- Select features (X) with only numeric values, and without \"Survived\" column\n",
        "- Select \"Survived\" column as target (y)\n",
        "- Split your data with **random_state = 36**\n",
        "- Train a logistic regression\n",
        "- Print the accuracy score on the train set and on the test set. Is there overfitting?\n",
        "- Print the Confusion Matrix on the test set\n",
        "- How many iterations were needed to train this model?"
      ]
    },
    {
      "cell_type": "code",
      "execution_count": 44,
      "metadata": {
        "id": "bbcESJkWn8dN"
      },
      "outputs": [],
      "source": [
        "\"\"\" on force l'affichage des legendes dans la matrice de confusion \"\"\"\n",
        "\n",
        "df_titanic['survived_label'] = df_titanic['Survived'].map({'Dead': 1, 'Survived' : 0})"
      ]
    },
    {
      "cell_type": "code",
      "execution_count": 45,
      "metadata": {
        "colab": {
          "base_uri": "https://localhost:8080/",
          "height": 523
        },
        "id": "UpXqf6uNq3b6",
        "outputId": "6ec23c04-9bc4-4ebb-b657-a600be321494"
      },
      "outputs": [
        {
          "name": "stdout",
          "output_type": "stream",
          "text": [
            "accurancy score of train set: 0.718796992481203\n",
            "accurancy score of test set: 0.6441441441441441\n"
          ]
        },
        {
          "data": {
            "text/plain": [
              "Text(50.722222222222214, 0.5, 'valeurs réelles')"
            ]
          },
          "execution_count": 45,
          "metadata": {},
          "output_type": "execute_result"
        },
        {
          "data": {
            "image/png": "[encoded data removed]",
            "text/plain": [
              "<Figure size 640x480 with 2 Axes>"
            ]
          },
          "metadata": {},
          "output_type": "display_data"
        }
      ],
      "source": [
        "# It's up to you:\n",
        "from sklearn.linear_model import LogisticRegression\n",
        "from sklearn.model_selection import train_test_split\n",
        "from sklearn.metrics import confusion_matrix\n",
        "\n",
        "X = df_titanic[['Pclass', 'Age', 'Siblings/Spouses Aboard', 'Parents/Children Aboard', 'Fare']]\n",
        "y = df_titanic['survived_label']\n",
        "\n",
        "X_train, X_test, y_train, y_test = train_test_split(X, y, test_size = 0.25, random_state = 36)\n",
        "model = LogisticRegression().fit(X_train,y_train)\n",
        "\n",
        "train_score = model.score(X_train, y_train)\n",
        "test_score = model.score(X_test, y_test)\n",
        "\n",
        "print('accurancy score of train set:',train_score)\n",
        "print('accurancy score of test set:', test_score)\n",
        "\n",
        "\n",
        "\"\"\" matrice de confusion est obtenue avec une prediction y_pred \"\"\"\n",
        "\n",
        "y_pred = model.predict(X_test)\n",
        "conf_matrix = confusion_matrix(y_test, y_pred)\n",
        "sns.heatmap(conf_matrix)\n",
        "plt.title('Matrice de Confusion')\n",
        "plt.xlabel('Prédictions')\n",
        "plt.ylabel('valeurs réelles')"
      ]
    },
    {
      "cell_type": "code",
      "execution_count": 46,
      "metadata": {
        "colab": {
          "base_uri": "https://localhost:8080/"
        },
        "id": "-BG2uTFwcdxc",
        "outputId": "92f26d5c-1dff-4a35-ce68-cdb3a236f56e"
      },
      "outputs": [
        {
          "data": {
            "text/plain": [
              "array([55], dtype=int32)"
            ]
          },
          "execution_count": 46,
          "metadata": {},
          "output_type": "execute_result"
        }
      ],
      "source": [
        "\"\"\" pour evaluer le nombre d'itérations \"\"\"\n",
        "\n",
        "model = LogisticRegression(max_iter=1000)\n",
        "model.fit(X_train,y_train)\n",
        "\n",
        "# After training, you can see how many iterations have been done:\n",
        "model.n_iter_"
      ]
    },
    {
      "cell_type": "markdown",
      "metadata": {
        "id": "SJ4z3yi9w5Ja"
      },
      "source": [
        "# Model improvement\n",
        "\n",
        "With your fancy time machine, you can, and you will save all the people that the model will predict as dead. But you won't save people predicted as \"survived\" (because it's not necessary). So change the weights of the classes to be very careful: your goal is to save all the people at risk. So, in this case, it's better to have \"actual survived\" peopple predicted as death, because you'll save them anyway. Otherwise, \"actual death\" predicted as survived won't be saved by your time machine.\n",
        "- Change the weight of the classes\n",
        "- Fit the model on train set\n",
        "- Print the accuracy score on the train set and on the test set\n",
        "- Print the Confusion Matrix on the test set, you must have no deaths that have been predicted as \"Survived\"."
      ]
    },
    {
      "cell_type": "code",
      "execution_count": 47,
      "metadata": {
        "colab": {
          "base_uri": "https://localhost:8080/",
          "height": 523
        },
        "id": "3UrojSLL8whJ",
        "outputId": "a9a381eb-3992-4a39-c5c2-2b0fc2b8d62c"
      },
      "outputs": [
        {
          "name": "stdout",
          "output_type": "stream",
          "text": [
            "accurancy score of train set: 0.724812030075188\n",
            "accurancy score of test set: 0.6531531531531531\n"
          ]
        },
        {
          "data": {
            "text/plain": [
              "Text(50.722222222222214, 0.5, 'Vraies valeurs')"
            ]
          },
          "execution_count": 47,
          "metadata": {},
          "output_type": "execute_result"
        },
        {
          "data": {
            "image/png": "[encoded data removed]",
            "text/plain": [
              "<Figure size 640x480 with 2 Axes>"
            ]
          },
          "metadata": {},
          "output_type": "display_data"
        }
      ],
      "source": [
        "# It's up to you to save everybody:\n",
        "# It's up to you:\n",
        "from sklearn.linear_model import LogisticRegression\n",
        "from sklearn.model_selection import train_test_split\n",
        "from sklearn.metrics import confusion_matrix\n",
        "\n",
        "X = df_titanic[['Pclass', 'Age','Siblings/Spouses Aboard', 'Parents/Children Aboard', 'Fare']]\n",
        "y = df_titanic['survived_label']\n",
        "\n",
        "X_train, X_test, y_train, y_test = train_test_split(X, y, test_size = 0.25, random_state = 36)\n",
        "model = LogisticRegression(class_weight = {1 : 1.5}).fit(X_train,y_train)\n",
        "\n",
        "train_score = model.score(X_train, y_train)\n",
        "test_score = model.score(X_test, y_test)\n",
        "\n",
        "print('accurancy score of train set:',train_score)\n",
        "print('accurancy score of test set:', test_score)\n",
        "\n",
        "\n",
        "\"\"\" matrice de confusion est obtenue avec une prediction y_pred \"\"\"\n",
        "\n",
        "y_pred = model.predict(X_test)\n",
        "\n",
        "conf_matrix = confusion_matrix(y_test, y_pred)\n",
        "sns.heatmap(conf_matrix)\n",
        "plt.title('Matrice de Confusion')\n",
        "plt.xlabel('Prédictions')\n",
        "plt.ylabel('Vraies valeurs')"
      ]
    },
    {
      "cell_type": "markdown",
      "metadata": {
        "id": "hZzv1nztzdbf"
      },
      "source": [
        "# People most at risk\n",
        "\n",
        "You are looking for people most at risk.\n",
        "- Compute the prediction probabilities **on your test set**\n",
        "- Which column is about \"survived\" probability?\n",
        "- Among the previous prediction probability array, select only the column corresponding to the \"Survived\" probability\n",
        "- Display the passengers by sorting  most likely to survive first (`sorted_values()` method?)"
      ]
    },
    {
      "cell_type": "code",
      "execution_count": 48,
      "metadata": {
        "id": "O_NCoR86pS00"
      },
      "outputs": [
        {
          "data": {
            "text/plain": [
              "' donne la probabilité de chacune des lignes '"
            ]
          },
          "execution_count": 48,
          "metadata": {},
          "output_type": "execute_result"
        }
      ],
      "source": [
        "\"\"\" donne la probabilité de chacune des lignes \"\"\"\n",
        "#y_pred_proba = model.predict_proba(df_titanic[X.columns])"
      ]
    },
    {
      "cell_type": "code",
      "execution_count": 49,
      "metadata": {},
      "outputs": [],
      "source": [
        "y_pred_proba = model.predict_proba(X)[:, 1]"
      ]
    },
    {
      "cell_type": "code",
      "execution_count": 50,
      "metadata": {
        "colab": {
          "base_uri": "https://localhost:8080/",
          "height": 419
        },
        "id": "FEj-ZIQp0WUn",
        "outputId": "7f100d5a-d8fd-44f2-abe3-c5ab0e708761"
      },
      "outputs": [
        {
          "data": {
            "text/html": [
              "<div>\n",
              "<style scoped>\n",
              "    .dataframe tbody tr th:only-of-type {\n",
              "        vertical-align: middle;\n",
              "    }\n",
              "\n",
              "    .dataframe tbody tr th {\n",
              "        vertical-align: top;\n",
              "    }\n",
              "\n",
              "    .dataframe thead th {\n",
              "        text-align: right;\n",
              "    }\n",
              "</style>\n",
              "<table border=\"1\" class=\"dataframe\">\n",
              "  <thead>\n",
              "    <tr style=\"text-align: right;\">\n",
              "      <th></th>\n",
              "      <th>Name</th>\n",
              "      <th>survived_probability</th>\n",
              "    </tr>\n",
              "  </thead>\n",
              "  <tbody>\n",
              "    <tr>\n",
              "      <th>847</th>\n",
              "      <td>Mr. Johan Svensson</td>\n",
              "      <td>0.986081</td>\n",
              "    </tr>\n",
              "    <tr>\n",
              "      <th>115</th>\n",
              "      <td>Mr. Patrick Connors</td>\n",
              "      <td>0.983291</td>\n",
              "    </tr>\n",
              "    <tr>\n",
              "      <th>535</th>\n",
              "      <td>Mr. Samuel Beard Risien</td>\n",
              "      <td>0.981454</td>\n",
              "    </tr>\n",
              "    <tr>\n",
              "      <th>508</th>\n",
              "      <td>Mr. James Webber</td>\n",
              "      <td>0.978858</td>\n",
              "    </tr>\n",
              "    <tr>\n",
              "      <th>278</th>\n",
              "      <td>Mr. Frank Duane</td>\n",
              "      <td>0.977758</td>\n",
              "    </tr>\n",
              "    <tr>\n",
              "      <th>...</th>\n",
              "      <td>...</td>\n",
              "      <td>...</td>\n",
              "    </tr>\n",
              "    <tr>\n",
              "      <th>686</th>\n",
              "      <td>Miss. Georgette Alexandra Madill</td>\n",
              "      <td>0.085967</td>\n",
              "    </tr>\n",
              "    <tr>\n",
              "      <th>676</th>\n",
              "      <td>Mr. Thomas Drake Martinez Cardeza</td>\n",
              "      <td>0.080292</td>\n",
              "    </tr>\n",
              "    <tr>\n",
              "      <th>442</th>\n",
              "      <td>Master. Washington Dodge</td>\n",
              "      <td>0.059520</td>\n",
              "    </tr>\n",
              "    <tr>\n",
              "      <th>295</th>\n",
              "      <td>Miss. Helen Loraine Allison</td>\n",
              "      <td>0.055718</td>\n",
              "    </tr>\n",
              "    <tr>\n",
              "      <th>303</th>\n",
              "      <td>Master. Hudson Trevor Allison</td>\n",
              "      <td>0.052780</td>\n",
              "    </tr>\n",
              "  </tbody>\n",
              "</table>\n",
              "<p>887 rows × 2 columns</p>\n",
              "</div>"
            ],
            "text/plain": [
              "                                  Name  survived_probability\n",
              "847                 Mr. Johan Svensson              0.986081\n",
              "115                Mr. Patrick Connors              0.983291\n",
              "535            Mr. Samuel Beard Risien              0.981454\n",
              "508                   Mr. James Webber              0.978858\n",
              "278                    Mr. Frank Duane              0.977758\n",
              "..                                 ...                   ...\n",
              "686   Miss. Georgette Alexandra Madill              0.085967\n",
              "676  Mr. Thomas Drake Martinez Cardeza              0.080292\n",
              "442           Master. Washington Dodge              0.059520\n",
              "295        Miss. Helen Loraine Allison              0.055718\n",
              "303      Master. Hudson Trevor Allison              0.052780\n",
              "\n",
              "[887 rows x 2 columns]"
            ]
          },
          "execution_count": 50,
          "metadata": {},
          "output_type": "execute_result"
        }
      ],
      "source": [
        "# It's up to you:\n",
        "df_titanic['survived_probability'] = y_pred_proba\n",
        "df_titanic[['Name', 'survived_probability']].sort_values(by = 'survived_probability',ascending = False)"
      ]
    },
    {
      "cell_type": "markdown",
      "metadata": {
        "id": "4DeDfBz285C_"
      },
      "source": [
        "# Bonus - Model improvement, under constraint\n",
        "\n",
        "Your time travel boss tells you that there's a budget cut. You now can only save 120 people max. Not one more.\n",
        "\n",
        "If your model predicts as \"dead\" someone who would have survived in reality. You then \"save\" that person, who would have survived even without your time-traveling help. And you take the place of someone who could have been saved. That's not optimal.\n",
        "\n",
        "Select the 120 people with the highest probability of dying. Of these, how many actually survived?"
      ]
    },
    {
      "cell_type": "code",
      "execution_count": 51,
      "metadata": {
        "colab": {
          "base_uri": "https://localhost:8080/",
          "height": 421
        },
        "id": "CErxEfjQ-MUU",
        "outputId": "8e2b7518-67f4-4048-e809-6052f73f7a19"
      },
      "outputs": [
        {
          "data": {
            "text/html": [
              "<div>\n",
              "<style scoped>\n",
              "    .dataframe tbody tr th:only-of-type {\n",
              "        vertical-align: middle;\n",
              "    }\n",
              "\n",
              "    .dataframe tbody tr th {\n",
              "        vertical-align: top;\n",
              "    }\n",
              "\n",
              "    .dataframe thead th {\n",
              "        text-align: right;\n",
              "    }\n",
              "</style>\n",
              "<table border=\"1\" class=\"dataframe\">\n",
              "  <thead>\n",
              "    <tr style=\"text-align: right;\">\n",
              "      <th></th>\n",
              "      <th>Name</th>\n",
              "      <th>survived_probability</th>\n",
              "      <th>Survived</th>\n",
              "    </tr>\n",
              "  </thead>\n",
              "  <tbody>\n",
              "    <tr>\n",
              "      <th>303</th>\n",
              "      <td>Master. Hudson Trevor Allison</td>\n",
              "      <td>0.052780</td>\n",
              "      <td>Survived</td>\n",
              "    </tr>\n",
              "    <tr>\n",
              "      <th>295</th>\n",
              "      <td>Miss. Helen Loraine Allison</td>\n",
              "      <td>0.055718</td>\n",
              "      <td>Dead</td>\n",
              "    </tr>\n",
              "    <tr>\n",
              "      <th>442</th>\n",
              "      <td>Master. Washington Dodge</td>\n",
              "      <td>0.059520</td>\n",
              "      <td>Survived</td>\n",
              "    </tr>\n",
              "    <tr>\n",
              "      <th>676</th>\n",
              "      <td>Mr. Thomas Drake Martinez Cardeza</td>\n",
              "      <td>0.080292</td>\n",
              "      <td>Survived</td>\n",
              "    </tr>\n",
              "    <tr>\n",
              "      <th>686</th>\n",
              "      <td>Miss. Georgette Alexandra Madill</td>\n",
              "      <td>0.085967</td>\n",
              "      <td>Survived</td>\n",
              "    </tr>\n",
              "    <tr>\n",
              "      <th>798</th>\n",
              "      <td>Master. William Thornton II Carter</td>\n",
              "      <td>0.097242</td>\n",
              "      <td>Survived</td>\n",
              "    </tr>\n",
              "    <tr>\n",
              "      <th>547</th>\n",
              "      <td>Mr. John Borland Jr Thayer</td>\n",
              "      <td>0.101087</td>\n",
              "      <td>Survived</td>\n",
              "    </tr>\n",
              "    <tr>\n",
              "      <th>257</th>\n",
              "      <td>Miss. Anna Ward</td>\n",
              "      <td>0.102708</td>\n",
              "      <td>Survived</td>\n",
              "    </tr>\n",
              "    <tr>\n",
              "      <th>733</th>\n",
              "      <td>Mr. Gustave J Lesurer</td>\n",
              "      <td>0.102708</td>\n",
              "      <td>Survived</td>\n",
              "    </tr>\n",
              "    <tr>\n",
              "      <th>309</th>\n",
              "      <td>Miss. Emily Borie Ryerson</td>\n",
              "      <td>0.108331</td>\n",
              "      <td>Survived</td>\n",
              "    </tr>\n",
              "    <tr>\n",
              "      <th>432</th>\n",
              "      <td>Miss. Lucile Polk Carter</td>\n",
              "      <td>0.112132</td>\n",
              "      <td>Survived</td>\n",
              "    </tr>\n",
              "    <tr>\n",
              "      <th>375</th>\n",
              "      <td>Mr. Harry Elkins Widener</td>\n",
              "      <td>0.113845</td>\n",
              "      <td>Dead</td>\n",
              "    </tr>\n",
              "  </tbody>\n",
              "</table>\n",
              "</div>"
            ],
            "text/plain": [
              "                                   Name  survived_probability  Survived\n",
              "303       Master. Hudson Trevor Allison              0.052780  Survived\n",
              "295         Miss. Helen Loraine Allison              0.055718      Dead\n",
              "442            Master. Washington Dodge              0.059520  Survived\n",
              "676   Mr. Thomas Drake Martinez Cardeza              0.080292  Survived\n",
              "686    Miss. Georgette Alexandra Madill              0.085967  Survived\n",
              "798  Master. William Thornton II Carter              0.097242  Survived\n",
              "547          Mr. John Borland Jr Thayer              0.101087  Survived\n",
              "257                     Miss. Anna Ward              0.102708  Survived\n",
              "733               Mr. Gustave J Lesurer              0.102708  Survived\n",
              "309           Miss. Emily Borie Ryerson              0.108331  Survived\n",
              "432            Miss. Lucile Polk Carter              0.112132  Survived\n",
              "375            Mr. Harry Elkins Widener              0.113845      Dead"
            ]
          },
          "execution_count": 51,
          "metadata": {},
          "output_type": "execute_result"
        }
      ],
      "source": [
        "# It's up to you:\n",
        "df_titanic[['Name','survived_probability','Survived']].sort_values(by = 'survived_probability',ascending = True).head(12)"
      ]
    },
    {
      "cell_type": "markdown",
      "metadata": {
        "id": "5wg1tAdXXGpZ"
      },
      "source": [
        "# Bonus - More predictions\n",
        "\n",
        "Does the Reverend \"Rev. Juozas Montvila\" have a better chance of survival than \"Mrs. William (Margaret Norton) Rice\"?\n",
        "- Filter the initial DataFrame to get only the 2 rows with the 2 persons above, and only columns present in your variables (X)\n",
        "- Make a prediction with probability for this 2 people\n",
        "- Which one has a better chance to survive?\n"
      ]
    },
    {
      "cell_type": "code",
      "execution_count": 52,
      "metadata": {
        "colab": {
          "base_uri": "https://localhost:8080/",
          "height": 111
        },
        "id": "NMoGFW8DioeP",
        "outputId": "e6e8e72e-515b-4189-9aff-8593f3dc72bf"
      },
      "outputs": [
        {
          "data": {
            "text/html": [
              "<div>\n",
              "<style scoped>\n",
              "    .dataframe tbody tr th:only-of-type {\n",
              "        vertical-align: middle;\n",
              "    }\n",
              "\n",
              "    .dataframe tbody tr th {\n",
              "        vertical-align: top;\n",
              "    }\n",
              "\n",
              "    .dataframe thead th {\n",
              "        text-align: right;\n",
              "    }\n",
              "</style>\n",
              "<table border=\"1\" class=\"dataframe\">\n",
              "  <thead>\n",
              "    <tr style=\"text-align: right;\">\n",
              "      <th></th>\n",
              "      <th>Survived</th>\n",
              "      <th>Pclass</th>\n",
              "      <th>Name</th>\n",
              "      <th>Sex</th>\n",
              "      <th>Age</th>\n",
              "      <th>Siblings/Spouses Aboard</th>\n",
              "      <th>Parents/Children Aboard</th>\n",
              "      <th>Fare</th>\n",
              "      <th>survived_label</th>\n",
              "      <th>survived_probability</th>\n",
              "    </tr>\n",
              "  </thead>\n",
              "  <tbody>\n",
              "    <tr>\n",
              "      <th>881</th>\n",
              "      <td>Dead</td>\n",
              "      <td>3</td>\n",
              "      <td>Mrs. William (Margaret Norton) Rice</td>\n",
              "      <td>female</td>\n",
              "      <td>39.0</td>\n",
              "      <td>0</td>\n",
              "      <td>5</td>\n",
              "      <td>29.125</td>\n",
              "      <td>1</td>\n",
              "      <td>0.668263</td>\n",
              "    </tr>\n",
              "    <tr>\n",
              "      <th>882</th>\n",
              "      <td>Dead</td>\n",
              "      <td>2</td>\n",
              "      <td>Rev. Juozas Montvila</td>\n",
              "      <td>male</td>\n",
              "      <td>27.0</td>\n",
              "      <td>0</td>\n",
              "      <td>0</td>\n",
              "      <td>13.000</td>\n",
              "      <td>1</td>\n",
              "      <td>0.637220</td>\n",
              "    </tr>\n",
              "  </tbody>\n",
              "</table>\n",
              "</div>"
            ],
            "text/plain": [
              "    Survived  Pclass                                 Name     Sex   Age  \\\n",
              "881     Dead       3  Mrs. William (Margaret Norton) Rice  female  39.0   \n",
              "882     Dead       2                 Rev. Juozas Montvila    male  27.0   \n",
              "\n",
              "     Siblings/Spouses Aboard  Parents/Children Aboard    Fare  survived_label  \\\n",
              "881                        0                        5  29.125               1   \n",
              "882                        0                        0  13.000               1   \n",
              "\n",
              "     survived_probability  \n",
              "881              0.668263  \n",
              "882              0.637220  "
            ]
          },
          "execution_count": 52,
          "metadata": {},
          "output_type": "execute_result"
        }
      ],
      "source": [
        "persons = ['Rev. Juozas Montvila', 'Mrs. William (Margaret Norton) Rice']\n",
        "df_bonus = df_titanic[df_titanic['Name'].isin(persons)]\n",
        "df_bonus"
      ]
    }
  ],
  "metadata": {
    "colab": {
      "provenance": []
    },
    "kernelspec": {
      "display_name": "Python 3",
      "name": "python3"
    },
    "language_info": {
      "codemirror_mode": {
        "name": "ipython",
        "version": 3
      },
      "file_extension": ".py",
      "mimetype": "text/x-python",
      "name": "python",
      "nbconvert_exporter": "python",
      "pygments_lexer": "ipython3",
      "version": "3.11.5"
    }
  },
  "nbformat": 4,
  "nbformat_minor": 0
}
